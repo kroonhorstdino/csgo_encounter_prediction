{
 "nbformat": 4,
 "nbformat_minor": 2,
 "metadata": {
  "language_info": {
   "name": "python",
   "codemirror_mode": {
    "name": "ipython",
    "version": 3
   }
  },
  "orig_nbformat": 2,
  "file_extension": ".py",
  "mimetype": "text/x-python",
  "name": "python",
  "npconvert_exporter": "python",
  "pygments_lexer": "ipython3",
  "version": 3
 },
 "cells": [
  {
   "cell_type": "code",
   "execution_count": 1,
   "metadata": {},
   "outputs": [
    {
     "name": "stdout",
     "output_type": "stream",
     "text": "Loading JSON file config/dataset_config.json\nLoading JSON file config/features_info.json\nLoading JSON file config/item_definition_index_map.json\nLoading JSON file config/features_info.json\n"
    }
   ],
   "source": [
    "import sys\n",
    "\n",
    "import pandas as pd\n",
    "from pathlib import Path\n",
    "\n",
    "sys.path.insert(0, str(Path.cwd() / 'preparation/'))\n",
    "\n",
    "import data_loader\n",
    "import preprocess"
   ]
  },
  {
   "cell_type": "code",
   "execution_count": 2,
   "metadata": {},
   "outputs": [
    {
     "data": {
      "text/plain": "(array([0, 1, 2, 3, 4]), array([5, 6, 7, 8, 9]))"
     },
     "execution_count": 2,
     "metadata": {},
     "output_type": "execute_result"
    }
   ],
   "source": [
    "data_loader.get_team_iterables()"
   ]
  },
  {
   "cell_type": "code",
   "execution_count": 16,
   "metadata": {},
   "outputs": [
    {
     "name": "stdout",
     "output_type": "stream",
     "text": "../../csgo_dataset/parsed_files/renegades-vs-fnatic-m3-inferno.csv\n/home/hueter/Desktop/csgo_encounter_prediction\n"
    }
   ],
   "source": [
    "hdf_files = data_loader.get_files_in_directory('../../csgo_dataset/processed_files', '.h5')[0]\n",
    "csv_file = data_loader.get_files_in_directory('../../csgo_dataset/parsed_files', '.csv')[0]\n",
    "#sample_file = data_loader.load_h5_as_df(file_name, False)\n",
    "\n",
    "print(csv_file)\n",
    "print(Path.cwd())"
   ]
  },
  {
   "cell_type": "code",
   "execution_count": 17,
   "metadata": {},
   "outputs": [],
   "source": [
    "#sample_file = data_loader.load_h5_as_df(file_name, False)\n",
    "#sample_file = data_loader.load_h5_as_df('../../csgo_dataset/training_data/data_chunk_0_0.h5', drop_ticks=True)\n",
    "sample_file = data_loader.load_csv_as_df(Path(csv_file))"
   ]
  },
  {
   "cell_type": "code",
   "execution_count": 18,
   "metadata": {},
   "outputs": [
    {
     "data": {
      "text/plain": "[(0.0, 0.0, 0.0),\n (0.0, 0.0, 0.0),\n (0.0, 0.0, 0.0),\n (0.0, 0.0, 0.0),\n (0.0, 0.0, 0.0),\n (0.0, 0.0, 0.0),\n (-16.659897, -57.57815, 0.0),\n (-15.8593025, 94.337296, 0.0),\n (-17.50424, 92.59149, 0.0),\n (-0.34839422, 24.435013, 0.0)]"
     },
     "execution_count": 18,
     "metadata": {},
     "output_type": "execute_result"
    }
   ],
   "source": [
    "list(map(lambda vec: vec.components(), preprocess.all_player_position_to_vec3(sample_file, sample_file.sample(frac=1).index[0])))\n"
   ]
  },
  {
   "cell_type": "code",
   "execution_count": 19,
   "metadata": {},
   "outputs": [
    {
     "data": {
      "text/plain": "(15524, 261)"
     },
     "execution_count": 19,
     "metadata": {},
     "output_type": "execute_result"
    }
   ],
   "source": [
    "sample_file.shape\n"
   ]
  },
  {
   "cell_type": "code",
   "execution_count": 20,
   "metadata": {},
   "outputs": [
    {
     "ename": "TypeError",
     "evalue": "__call__() takes from 1 to 2 positional arguments but 3 were given",
     "output_type": "error",
     "traceback": [
      "\u001b[0;31m---------------------------------------------------------------------------\u001b[0m",
      "\u001b[0;31mTypeError\u001b[0m                                 Traceback (most recent call last)",
      "\u001b[0;32m<ipython-input-20-5f9626d2d5e6>\u001b[0m in \u001b[0;36m<module>\u001b[0;34m()\u001b[0m\n\u001b[1;32m      3\u001b[0m \u001b[0;34m\u001b[0m\u001b[0m\n\u001b[1;32m      4\u001b[0m \u001b[0ml\u001b[0m \u001b[0;34m=\u001b[0m \u001b[0mdata_loader\u001b[0m\u001b[0;34m.\u001b[0m\u001b[0mget_feature_column_names\u001b[0m\u001b[0;34m(\u001b[0m\u001b[0;34m'EyeAngleYaw'\u001b[0m\u001b[0;34m)\u001b[0m \u001b[0;34m+\u001b[0m \u001b[0mdata_loader\u001b[0m\u001b[0;34m.\u001b[0m\u001b[0mget_feature_column_names\u001b[0m\u001b[0;34m(\u001b[0m\u001b[0;34m'EyeAnglePitch'\u001b[0m\u001b[0;34m)\u001b[0m\u001b[0;34m\u001b[0m\u001b[0;34m\u001b[0m\u001b[0m\n\u001b[0;32m----> 5\u001b[0;31m \u001b[0ml2\u001b[0m \u001b[0;34m=\u001b[0m \u001b[0mpreprocess\u001b[0m\u001b[0;34m.\u001b[0m\u001b[0mall_player_eyeAngles_to_direction_vec3\u001b[0m\u001b[0;34m(\u001b[0m\u001b[0mfraction\u001b[0m\u001b[0;34m,\u001b[0m \u001b[0mfraction\u001b[0m\u001b[0;34m.\u001b[0m\u001b[0mindex\u001b[0m\u001b[0;34m[\u001b[0m\u001b[0;36m0\u001b[0m\u001b[0;34m]\u001b[0m\u001b[0;34m)\u001b[0m\u001b[0;34m\u001b[0m\u001b[0;34m\u001b[0m\u001b[0m\n\u001b[0m\u001b[1;32m      6\u001b[0m \u001b[0;34m\u001b[0m\u001b[0m\n\u001b[1;32m      7\u001b[0m \u001b[0mprint\u001b[0m\u001b[0;34m(\u001b[0m\u001b[0mfraction\u001b[0m\u001b[0;34m)\u001b[0m\u001b[0;34m\u001b[0m\u001b[0;34m\u001b[0m\u001b[0m\n",
      "\u001b[0;32m/home/hueter/Desktop/csgo_encounter_prediction/preparation/preprocess.py\u001b[0m in \u001b[0;36mall_player_eyeAngles_to_direction_vec3\u001b[0;34m(df, index_label)\u001b[0m\n\u001b[1;32m    285\u001b[0m     \u001b[0;32mfor\u001b[0m \u001b[0mplayer_i\u001b[0m \u001b[0;32min\u001b[0m \u001b[0mrange\u001b[0m\u001b[0;34m(\u001b[0m\u001b[0;36m10\u001b[0m\u001b[0;34m)\u001b[0m\u001b[0;34m:\u001b[0m\u001b[0;34m\u001b[0m\u001b[0;34m\u001b[0m\u001b[0m\n\u001b[1;32m    286\u001b[0m         \u001b[0mpitchDeg\u001b[0m \u001b[0;34m=\u001b[0m \u001b[0mdf\u001b[0m\u001b[0;34m.\u001b[0m\u001b[0mat\u001b[0m\u001b[0;34m[\u001b[0m\u001b[0mindex_label\u001b[0m\u001b[0;34m,\u001b[0m \u001b[0mEYEANGLE_PITCH_COLUMN_NAMES\u001b[0m\u001b[0;34m[\u001b[0m\u001b[0mplayer_i\u001b[0m\u001b[0;34m]\u001b[0m\u001b[0;34m]\u001b[0m\u001b[0;34m\u001b[0m\u001b[0;34m\u001b[0m\u001b[0m\n\u001b[0;32m--> 287\u001b[0;31m         \u001b[0myawDeg\u001b[0m \u001b[0;34m=\u001b[0m \u001b[0mdf\u001b[0m\u001b[0;34m.\u001b[0m\u001b[0mat\u001b[0m\u001b[0;34m[\u001b[0m\u001b[0mindex_label\u001b[0m\u001b[0;34m,\u001b[0m \u001b[0mEYEANGLE_YAW_COLUMN_NAMES\u001b[0m\u001b[0;34m[\u001b[0m\u001b[0mplayer_i\u001b[0m\u001b[0;34m]\u001b[0m\u001b[0;34m]\u001b[0m\u001b[0;34m\u001b[0m\u001b[0;34m\u001b[0m\u001b[0m\n\u001b[0m\u001b[1;32m    288\u001b[0m \u001b[0;34m\u001b[0m\u001b[0m\n\u001b[1;32m    289\u001b[0m         \u001b[0mpitch\u001b[0m \u001b[0;34m=\u001b[0m \u001b[0mmath\u001b[0m\u001b[0;34m.\u001b[0m\u001b[0mradians\u001b[0m\u001b[0;34m(\u001b[0m\u001b[0mpitchDeg\u001b[0m\u001b[0;34m)\u001b[0m\u001b[0;34m\u001b[0m\u001b[0;34m\u001b[0m\u001b[0m\n",
      "\u001b[0;31mTypeError\u001b[0m: __call__() takes from 1 to 2 positional arguments but 3 were given"
     ]
    }
   ],
   "source": [
    "#l = ['f_0_PositionX','f_2_PositionX','f_0_DistanceToAlly_2','f_0_IsAlive']\n",
    "fraction = sample_file[l].sample(frac=1)\n",
    "\n",
    "l = data_loader.get_feature_column_names('EyeAngleYaw') + data_loader.get_feature_column_names('EyeAnglePitch')\n",
    "l2 = preprocess.all_player_eyeAngles_to_direction_vec3(fraction, fraction.index[0])\n",
    "\n",
    "print(fraction)\n",
    "\n",
    "\n"
   ]
  },
  {
   "cell_type": "code",
   "execution_count": 5,
   "metadata": {},
   "outputs": [
    {
     "data": {
      "text/plain": "['f_0_Armor',\n 'f_0_DistanceToAlly_1',\n 'f_0_DistanceToAlly_2',\n 'f_0_DistanceToAlly_3',\n 'f_0_DistanceToAlly_4',\n 'f_0_DistanceToEnemy_0',\n 'f_0_DistanceToEnemy_1',\n 'f_0_DistanceToEnemy_2',\n 'f_0_DistanceToEnemy_3',\n 'f_0_DistanceToEnemy_4',\n 'f_0_EquipmentValue',\n 'f_0_HasHelmet',\n 'f_0_Health',\n 'f_0_IsAlive',\n 'f_0_IsDefusing',\n 'f_0_IsScoped',\n 'f_0_IsSpotted',\n 'f_0_PositionX',\n 'f_0_PositionY',\n 'f_0_PositionZ',\n 'f_0_VelocityX',\n 'f_0_VelocityY',\n 'f_0_VelocityZ',\n 'f_0_Weapon_1',\n 'f_0_Weapon_10',\n 'f_0_Weapon_11',\n 'f_0_Weapon_13',\n 'f_0_Weapon_14',\n 'f_0_Weapon_16',\n 'f_0_Weapon_17',\n 'f_0_Weapon_19',\n 'f_0_Weapon_2',\n 'f_0_Weapon_23',\n 'f_0_Weapon_24',\n 'f_0_Weapon_25',\n 'f_0_Weapon_26',\n 'f_0_Weapon_27',\n 'f_0_Weapon_28',\n 'f_0_Weapon_29',\n 'f_0_Weapon_3',\n 'f_0_Weapon_30',\n 'f_0_Weapon_31',\n 'f_0_Weapon_32',\n 'f_0_Weapon_33',\n 'f_0_Weapon_34',\n 'f_0_Weapon_35',\n 'f_0_Weapon_36',\n 'f_0_Weapon_38',\n 'f_0_Weapon_39',\n 'f_0_Weapon_4',\n 'f_0_Weapon_40',\n 'f_0_Weapon_42',\n 'f_0_Weapon_43',\n 'f_0_Weapon_44',\n 'f_0_Weapon_45',\n 'f_0_Weapon_46',\n 'f_0_Weapon_47',\n 'f_0_Weapon_48',\n 'f_0_Weapon_49',\n 'f_0_Weapon_60',\n 'f_0_Weapon_61',\n 'f_0_Weapon_63',\n 'f_0_Weapon_64',\n 'f_0_Weapon_7',\n 'f_0_Weapon_8',\n 'f_0_Weapon_9',\n 'f_1_Armor',\n 'f_1_DistanceToAlly_1',\n 'f_1_DistanceToAlly_2',\n 'f_1_DistanceToAlly_3',\n 'f_1_DistanceToAlly_4',\n 'f_1_DistanceToEnemy_0',\n 'f_1_DistanceToEnemy_1',\n 'f_1_DistanceToEnemy_2',\n 'f_1_DistanceToEnemy_3',\n 'f_1_DistanceToEnemy_4',\n 'f_1_EquipmentValue',\n 'f_1_HasHelmet',\n 'f_1_Health',\n 'f_1_IsAlive',\n 'f_1_IsDefusing',\n 'f_1_IsScoped',\n 'f_1_IsSpotted',\n 'f_1_PositionX',\n 'f_1_PositionY',\n 'f_1_PositionZ',\n 'f_1_VelocityX',\n 'f_1_VelocityY',\n 'f_1_VelocityZ',\n 'f_1_Weapon_1',\n 'f_1_Weapon_10',\n 'f_1_Weapon_11',\n 'f_1_Weapon_13',\n 'f_1_Weapon_14',\n 'f_1_Weapon_16',\n 'f_1_Weapon_17',\n 'f_1_Weapon_19',\n 'f_1_Weapon_2',\n 'f_1_Weapon_23',\n 'f_1_Weapon_24',\n 'f_1_Weapon_25',\n 'f_1_Weapon_26',\n 'f_1_Weapon_27',\n 'f_1_Weapon_28',\n 'f_1_Weapon_29',\n 'f_1_Weapon_3',\n 'f_1_Weapon_30',\n 'f_1_Weapon_31',\n 'f_1_Weapon_32',\n 'f_1_Weapon_33',\n 'f_1_Weapon_34',\n 'f_1_Weapon_35',\n 'f_1_Weapon_36',\n 'f_1_Weapon_38',\n 'f_1_Weapon_39',\n 'f_1_Weapon_4',\n 'f_1_Weapon_40',\n 'f_1_Weapon_42',\n 'f_1_Weapon_43',\n 'f_1_Weapon_44',\n 'f_1_Weapon_45',\n 'f_1_Weapon_46',\n 'f_1_Weapon_47',\n 'f_1_Weapon_48',\n 'f_1_Weapon_49',\n 'f_1_Weapon_60',\n 'f_1_Weapon_61',\n 'f_1_Weapon_63',\n 'f_1_Weapon_64',\n 'f_1_Weapon_7',\n 'f_1_Weapon_8',\n 'f_1_Weapon_9',\n 'f_2_Armor',\n 'f_2_DistanceToAlly_1',\n 'f_2_DistanceToAlly_2',\n 'f_2_DistanceToAlly_3',\n 'f_2_DistanceToAlly_4',\n 'f_2_DistanceToEnemy_0',\n 'f_2_DistanceToEnemy_1',\n 'f_2_DistanceToEnemy_2',\n 'f_2_DistanceToEnemy_3',\n 'f_2_DistanceToEnemy_4',\n 'f_2_EquipmentValue',\n 'f_2_HasHelmet',\n 'f_2_Health',\n 'f_2_IsAlive',\n 'f_2_IsDefusing',\n 'f_2_IsScoped',\n 'f_2_IsSpotted',\n 'f_2_PositionX',\n 'f_2_PositionY',\n 'f_2_PositionZ',\n 'f_2_VelocityX',\n 'f_2_VelocityY',\n 'f_2_VelocityZ',\n 'f_2_Weapon_1',\n 'f_2_Weapon_10',\n 'f_2_Weapon_11',\n 'f_2_Weapon_13',\n 'f_2_Weapon_14',\n 'f_2_Weapon_16',\n 'f_2_Weapon_17',\n 'f_2_Weapon_19',\n 'f_2_Weapon_2',\n 'f_2_Weapon_23',\n 'f_2_Weapon_24',\n 'f_2_Weapon_25',\n 'f_2_Weapon_26',\n 'f_2_Weapon_27',\n 'f_2_Weapon_28',\n 'f_2_Weapon_29',\n 'f_2_Weapon_3',\n 'f_2_Weapon_30',\n 'f_2_Weapon_31',\n 'f_2_Weapon_32',\n 'f_2_Weapon_33',\n 'f_2_Weapon_34',\n 'f_2_Weapon_35',\n 'f_2_Weapon_36',\n 'f_2_Weapon_38',\n 'f_2_Weapon_39',\n 'f_2_Weapon_4',\n 'f_2_Weapon_40',\n 'f_2_Weapon_42',\n 'f_2_Weapon_43',\n 'f_2_Weapon_44',\n 'f_2_Weapon_45',\n 'f_2_Weapon_46',\n 'f_2_Weapon_47',\n 'f_2_Weapon_48',\n 'f_2_Weapon_49',\n 'f_2_Weapon_60',\n 'f_2_Weapon_61',\n 'f_2_Weapon_63',\n 'f_2_Weapon_64',\n 'f_2_Weapon_7',\n 'f_2_Weapon_8',\n 'f_2_Weapon_9',\n 'f_3_Armor',\n 'f_3_DistanceToAlly_1',\n 'f_3_DistanceToAlly_2',\n 'f_3_DistanceToAlly_3',\n 'f_3_DistanceToAlly_4',\n 'f_3_DistanceToEnemy_0',\n 'f_3_DistanceToEnemy_1',\n 'f_3_DistanceToEnemy_2',\n 'f_3_DistanceToEnemy_3',\n 'f_3_DistanceToEnemy_4',\n 'f_3_EquipmentValue',\n 'f_3_HasHelmet',\n 'f_3_Health',\n 'f_3_IsAlive',\n 'f_3_IsDefusing',\n 'f_3_IsScoped',\n 'f_3_IsSpotted',\n 'f_3_PositionX',\n 'f_3_PositionY',\n 'f_3_PositionZ',\n 'f_3_VelocityX',\n 'f_3_VelocityY',\n 'f_3_VelocityZ',\n 'f_3_Weapon_1',\n 'f_3_Weapon_10',\n 'f_3_Weapon_11',\n 'f_3_Weapon_13',\n 'f_3_Weapon_14',\n 'f_3_Weapon_16',\n 'f_3_Weapon_17',\n 'f_3_Weapon_19',\n 'f_3_Weapon_2',\n 'f_3_Weapon_23',\n 'f_3_Weapon_24',\n 'f_3_Weapon_25',\n 'f_3_Weapon_26',\n 'f_3_Weapon_27',\n 'f_3_Weapon_28',\n 'f_3_Weapon_29',\n 'f_3_Weapon_3',\n 'f_3_Weapon_30',\n 'f_3_Weapon_31',\n 'f_3_Weapon_32',\n 'f_3_Weapon_33',\n 'f_3_Weapon_34',\n 'f_3_Weapon_35',\n 'f_3_Weapon_36',\n 'f_3_Weapon_38',\n 'f_3_Weapon_39',\n 'f_3_Weapon_4',\n 'f_3_Weapon_40',\n 'f_3_Weapon_42',\n 'f_3_Weapon_43',\n 'f_3_Weapon_44',\n 'f_3_Weapon_45',\n 'f_3_Weapon_46',\n 'f_3_Weapon_47',\n 'f_3_Weapon_48',\n 'f_3_Weapon_49',\n 'f_3_Weapon_60',\n 'f_3_Weapon_61',\n 'f_3_Weapon_63',\n 'f_3_Weapon_64',\n 'f_3_Weapon_7',\n 'f_3_Weapon_8',\n 'f_3_Weapon_9',\n 'f_4_Armor',\n 'f_4_DistanceToAlly_1',\n 'f_4_DistanceToAlly_2',\n 'f_4_DistanceToAlly_3',\n 'f_4_DistanceToAlly_4',\n 'f_4_DistanceToEnemy_0',\n 'f_4_DistanceToEnemy_1',\n 'f_4_DistanceToEnemy_2',\n 'f_4_DistanceToEnemy_3',\n 'f_4_DistanceToEnemy_4',\n 'f_4_EquipmentValue',\n 'f_4_HasHelmet',\n 'f_4_Health',\n 'f_4_IsAlive',\n 'f_4_IsDefusing',\n 'f_4_IsScoped',\n 'f_4_IsSpotted',\n 'f_4_PositionX',\n 'f_4_PositionY',\n 'f_4_PositionZ',\n 'f_4_VelocityX',\n 'f_4_VelocityY',\n 'f_4_VelocityZ',\n 'f_4_Weapon_1',\n 'f_4_Weapon_10',\n 'f_4_Weapon_11',\n 'f_4_Weapon_13',\n 'f_4_Weapon_14',\n 'f_4_Weapon_16',\n 'f_4_Weapon_17',\n 'f_4_Weapon_19',\n 'f_4_Weapon_2',\n 'f_4_Weapon_23',\n 'f_4_Weapon_24',\n 'f_4_Weapon_25',\n 'f_4_Weapon_26',\n 'f_4_Weapon_27',\n 'f_4_Weapon_28',\n 'f_4_Weapon_29',\n 'f_4_Weapon_3',\n 'f_4_Weapon_30',\n 'f_4_Weapon_31',\n 'f_4_Weapon_32',\n 'f_4_Weapon_33',\n 'f_4_Weapon_34',\n 'f_4_Weapon_35',\n 'f_4_Weapon_36',\n 'f_4_Weapon_38',\n 'f_4_Weapon_39',\n 'f_4_Weapon_4',\n 'f_4_Weapon_40',\n 'f_4_Weapon_42',\n 'f_4_Weapon_43',\n 'f_4_Weapon_44',\n 'f_4_Weapon_45',\n 'f_4_Weapon_46',\n 'f_4_Weapon_47',\n 'f_4_Weapon_48',\n 'f_4_Weapon_49',\n 'f_4_Weapon_60',\n 'f_4_Weapon_61',\n 'f_4_Weapon_63',\n 'f_4_Weapon_64',\n 'f_4_Weapon_7',\n 'f_4_Weapon_8',\n 'f_4_Weapon_9',\n 'f_5_Armor',\n 'f_5_DistanceToAlly_1',\n 'f_5_DistanceToAlly_2',\n 'f_5_DistanceToAlly_3',\n 'f_5_DistanceToAlly_4',\n 'f_5_DistanceToEnemy_0',\n 'f_5_DistanceToEnemy_1',\n 'f_5_DistanceToEnemy_2',\n 'f_5_DistanceToEnemy_3',\n 'f_5_DistanceToEnemy_4',\n 'f_5_EquipmentValue',\n 'f_5_HasHelmet',\n 'f_5_Health',\n 'f_5_IsAlive',\n 'f_5_IsDefusing',\n 'f_5_IsScoped',\n 'f_5_IsSpotted',\n 'f_5_PositionX',\n 'f_5_PositionY',\n 'f_5_PositionZ',\n 'f_5_VelocityX',\n 'f_5_VelocityY',\n 'f_5_VelocityZ',\n 'f_5_Weapon_1',\n 'f_5_Weapon_10',\n 'f_5_Weapon_11',\n 'f_5_Weapon_13',\n 'f_5_Weapon_14',\n 'f_5_Weapon_16',\n 'f_5_Weapon_17',\n 'f_5_Weapon_19',\n 'f_5_Weapon_2',\n 'f_5_Weapon_23',\n 'f_5_Weapon_24',\n 'f_5_Weapon_25',\n 'f_5_Weapon_26',\n 'f_5_Weapon_27',\n 'f_5_Weapon_28',\n 'f_5_Weapon_29',\n 'f_5_Weapon_3',\n 'f_5_Weapon_30',\n 'f_5_Weapon_31',\n 'f_5_Weapon_32',\n 'f_5_Weapon_33',\n 'f_5_Weapon_34',\n 'f_5_Weapon_35',\n 'f_5_Weapon_36',\n 'f_5_Weapon_38',\n 'f_5_Weapon_39',\n 'f_5_Weapon_4',\n 'f_5_Weapon_40',\n 'f_5_Weapon_42',\n 'f_5_Weapon_43',\n 'f_5_Weapon_44',\n 'f_5_Weapon_45',\n 'f_5_Weapon_46',\n 'f_5_Weapon_47',\n 'f_5_Weapon_48',\n 'f_5_Weapon_49',\n 'f_5_Weapon_60',\n 'f_5_Weapon_61',\n 'f_5_Weapon_63',\n 'f_5_Weapon_64',\n 'f_5_Weapon_7',\n 'f_5_Weapon_8',\n 'f_5_Weapon_9',\n 'f_6_Armor',\n 'f_6_DistanceToAlly_1',\n 'f_6_DistanceToAlly_2',\n 'f_6_DistanceToAlly_3',\n 'f_6_DistanceToAlly_4',\n 'f_6_DistanceToEnemy_0',\n 'f_6_DistanceToEnemy_1',\n 'f_6_DistanceToEnemy_2',\n 'f_6_DistanceToEnemy_3',\n 'f_6_DistanceToEnemy_4',\n 'f_6_EquipmentValue',\n 'f_6_HasHelmet',\n 'f_6_Health',\n 'f_6_IsAlive',\n 'f_6_IsDefusing',\n 'f_6_IsScoped',\n 'f_6_IsSpotted',\n 'f_6_PositionX',\n 'f_6_PositionY',\n 'f_6_PositionZ',\n 'f_6_VelocityX',\n 'f_6_VelocityY',\n 'f_6_VelocityZ',\n 'f_6_Weapon_1',\n 'f_6_Weapon_10',\n 'f_6_Weapon_11',\n 'f_6_Weapon_13',\n 'f_6_Weapon_14',\n 'f_6_Weapon_16',\n 'f_6_Weapon_17',\n 'f_6_Weapon_19',\n 'f_6_Weapon_2',\n 'f_6_Weapon_23',\n 'f_6_Weapon_24',\n 'f_6_Weapon_25',\n 'f_6_Weapon_26',\n 'f_6_Weapon_27',\n 'f_6_Weapon_28',\n 'f_6_Weapon_29',\n 'f_6_Weapon_3',\n 'f_6_Weapon_30',\n 'f_6_Weapon_31',\n 'f_6_Weapon_32',\n 'f_6_Weapon_33',\n 'f_6_Weapon_34',\n 'f_6_Weapon_35',\n 'f_6_Weapon_36',\n 'f_6_Weapon_38',\n 'f_6_Weapon_39',\n 'f_6_Weapon_4',\n 'f_6_Weapon_40',\n 'f_6_Weapon_42',\n 'f_6_Weapon_43',\n 'f_6_Weapon_44',\n 'f_6_Weapon_45',\n 'f_6_Weapon_46',\n 'f_6_Weapon_47',\n 'f_6_Weapon_48',\n 'f_6_Weapon_49',\n 'f_6_Weapon_60',\n 'f_6_Weapon_61',\n 'f_6_Weapon_63',\n 'f_6_Weapon_64',\n 'f_6_Weapon_7',\n 'f_6_Weapon_8',\n 'f_6_Weapon_9',\n 'f_7_Armor',\n 'f_7_DistanceToAlly_1',\n 'f_7_DistanceToAlly_2',\n 'f_7_DistanceToAlly_3',\n 'f_7_DistanceToAlly_4',\n 'f_7_DistanceToEnemy_0',\n 'f_7_DistanceToEnemy_1',\n 'f_7_DistanceToEnemy_2',\n 'f_7_DistanceToEnemy_3',\n 'f_7_DistanceToEnemy_4',\n 'f_7_EquipmentValue',\n 'f_7_HasHelmet',\n 'f_7_Health',\n 'f_7_IsAlive',\n 'f_7_IsDefusing',\n 'f_7_IsScoped',\n 'f_7_IsSpotted',\n 'f_7_PositionX',\n 'f_7_PositionY',\n 'f_7_PositionZ',\n 'f_7_VelocityX',\n 'f_7_VelocityY',\n 'f_7_VelocityZ',\n 'f_7_Weapon_1',\n 'f_7_Weapon_10',\n 'f_7_Weapon_11',\n 'f_7_Weapon_13',\n 'f_7_Weapon_14',\n 'f_7_Weapon_16',\n 'f_7_Weapon_17',\n 'f_7_Weapon_19',\n 'f_7_Weapon_2',\n 'f_7_Weapon_23',\n 'f_7_Weapon_24',\n 'f_7_Weapon_25',\n 'f_7_Weapon_26',\n 'f_7_Weapon_27',\n 'f_7_Weapon_28',\n 'f_7_Weapon_29',\n 'f_7_Weapon_3',\n 'f_7_Weapon_30',\n 'f_7_Weapon_31',\n 'f_7_Weapon_32',\n 'f_7_Weapon_33',\n 'f_7_Weapon_34',\n 'f_7_Weapon_35',\n 'f_7_Weapon_36',\n 'f_7_Weapon_38',\n 'f_7_Weapon_39',\n 'f_7_Weapon_4',\n 'f_7_Weapon_40',\n 'f_7_Weapon_42',\n 'f_7_Weapon_43',\n 'f_7_Weapon_44',\n 'f_7_Weapon_45',\n 'f_7_Weapon_46',\n 'f_7_Weapon_47',\n 'f_7_Weapon_48',\n 'f_7_Weapon_49',\n 'f_7_Weapon_60',\n 'f_7_Weapon_61',\n 'f_7_Weapon_63',\n 'f_7_Weapon_64',\n 'f_7_Weapon_7',\n 'f_7_Weapon_8',\n 'f_7_Weapon_9',\n 'f_8_Armor',\n 'f_8_DistanceToAlly_1',\n 'f_8_DistanceToAlly_2',\n 'f_8_DistanceToAlly_3',\n 'f_8_DistanceToAlly_4',\n 'f_8_DistanceToEnemy_0',\n 'f_8_DistanceToEnemy_1',\n 'f_8_DistanceToEnemy_2',\n 'f_8_DistanceToEnemy_3',\n 'f_8_DistanceToEnemy_4',\n 'f_8_EquipmentValue',\n 'f_8_HasHelmet',\n 'f_8_Health',\n 'f_8_IsAlive',\n 'f_8_IsDefusing',\n 'f_8_IsScoped',\n 'f_8_IsSpotted',\n 'f_8_PositionX',\n 'f_8_PositionY',\n 'f_8_PositionZ',\n 'f_8_VelocityX',\n 'f_8_VelocityY',\n 'f_8_VelocityZ',\n 'f_8_Weapon_1',\n 'f_8_Weapon_10',\n 'f_8_Weapon_11',\n 'f_8_Weapon_13',\n 'f_8_Weapon_14',\n 'f_8_Weapon_16',\n 'f_8_Weapon_17',\n 'f_8_Weapon_19',\n 'f_8_Weapon_2',\n 'f_8_Weapon_23',\n 'f_8_Weapon_24',\n 'f_8_Weapon_25',\n 'f_8_Weapon_26',\n 'f_8_Weapon_27',\n 'f_8_Weapon_28',\n 'f_8_Weapon_29',\n 'f_8_Weapon_3',\n 'f_8_Weapon_30',\n 'f_8_Weapon_31',\n 'f_8_Weapon_32',\n 'f_8_Weapon_33',\n 'f_8_Weapon_34',\n 'f_8_Weapon_35',\n 'f_8_Weapon_36',\n 'f_8_Weapon_38',\n 'f_8_Weapon_39',\n 'f_8_Weapon_4',\n 'f_8_Weapon_40',\n 'f_8_Weapon_42',\n 'f_8_Weapon_43',\n 'f_8_Weapon_44',\n 'f_8_Weapon_45',\n 'f_8_Weapon_46',\n 'f_8_Weapon_47',\n 'f_8_Weapon_48',\n 'f_8_Weapon_49',\n 'f_8_Weapon_60',\n 'f_8_Weapon_61',\n 'f_8_Weapon_63',\n 'f_8_Weapon_64',\n 'f_8_Weapon_7',\n 'f_8_Weapon_8',\n 'f_8_Weapon_9',\n 'f_9_Armor',\n 'f_9_DistanceToAlly_1',\n 'f_9_DistanceToAlly_2',\n 'f_9_DistanceToAlly_3',\n 'f_9_DistanceToAlly_4',\n 'f_9_DistanceToEnemy_0',\n 'f_9_DistanceToEnemy_1',\n 'f_9_DistanceToEnemy_2',\n 'f_9_DistanceToEnemy_3',\n 'f_9_DistanceToEnemy_4',\n 'f_9_EquipmentValue',\n 'f_9_HasHelmet',\n 'f_9_Health',\n 'f_9_IsAlive',\n 'f_9_IsDefusing',\n 'f_9_IsScoped',\n 'f_9_IsSpotted',\n 'f_9_PositionX',\n 'f_9_PositionY',\n 'f_9_PositionZ',\n 'f_9_VelocityX',\n 'f_9_VelocityY',\n 'f_9_VelocityZ',\n 'f_9_Weapon_1',\n 'f_9_Weapon_10',\n 'f_9_Weapon_11',\n 'f_9_Weapon_13',\n 'f_9_Weapon_14',\n 'f_9_Weapon_16',\n 'f_9_Weapon_17',\n 'f_9_Weapon_19',\n 'f_9_Weapon_2',\n 'f_9_Weapon_23',\n 'f_9_Weapon_24',\n 'f_9_Weapon_25',\n 'f_9_Weapon_26',\n 'f_9_Weapon_27',\n 'f_9_Weapon_28',\n 'f_9_Weapon_29',\n 'f_9_Weapon_3',\n 'f_9_Weapon_30',\n 'f_9_Weapon_31',\n 'f_9_Weapon_32',\n 'f_9_Weapon_33',\n 'f_9_Weapon_34',\n 'f_9_Weapon_35',\n 'f_9_Weapon_36',\n 'f_9_Weapon_38',\n 'f_9_Weapon_39',\n 'f_9_Weapon_4',\n 'f_9_Weapon_40',\n 'f_9_Weapon_42',\n 'f_9_Weapon_43',\n 'f_9_Weapon_44',\n 'f_9_Weapon_45',\n 'f_9_Weapon_46',\n 'f_9_Weapon_47',\n 'f_9_Weapon_48',\n 'f_9_Weapon_49',\n 'f_9_Weapon_60',\n 'f_9_Weapon_61',\n 'f_9_Weapon_63',\n 'f_9_Weapon_64',\n 'f_9_Weapon_7',\n 'f_9_Weapon_8',\n 'f_9_Weapon_9',\n 'l_0_die_within_5_seconds',\n 'l_1_die_within_5_seconds',\n 'l_2_die_within_5_seconds',\n 'l_3_die_within_5_seconds',\n 'l_4_die_within_5_seconds',\n 'l_5_die_within_5_seconds',\n 'l_6_die_within_5_seconds',\n 'l_7_die_within_5_seconds',\n 'l_8_die_within_5_seconds',\n 'l_9_die_within_5_seconds']"
     },
     "execution_count": 5,
     "metadata": {},
     "output_type": "execute_result"
    }
   ],
   "source": [
    "list(sample_file.columns)"
   ]
  },
  {
   "cell_type": "code",
   "execution_count": 7,
   "metadata": {},
   "outputs": [
    {
     "name": "stdout",
     "output_type": "stream",
     "text": "['f_0_IsAlive', 'f_1_IsAlive', 'f_2_IsAlive', 'f_3_IsAlive', 'f_4_IsAlive', 'f_5_IsAlive', 'f_6_IsAlive', 'f_7_IsAlive', 'f_8_IsAlive', 'f_9_IsAlive', 'f_0_Health', 'f_1_Health', 'f_2_Health', 'f_3_Health', 'f_4_Health', 'f_5_Health', 'f_6_Health', 'f_7_Health', 'f_8_Health', 'f_9_Health', 'f_0_Armor', 'f_1_Armor', 'f_2_Armor', 'f_3_Armor', 'f_4_Armor', 'f_5_Armor', 'f_6_Armor', 'f_7_Armor', 'f_8_Armor', 'f_9_Armor', 'f_0_EquipmentValue', 'f_1_EquipmentValue', 'f_2_EquipmentValue', 'f_3_EquipmentValue', 'f_4_EquipmentValue', 'f_5_EquipmentValue', 'f_6_EquipmentValue', 'f_7_EquipmentValue', 'f_8_EquipmentValue', 'f_9_EquipmentValue', 'f_0_PositionX', 'f_1_PositionX', 'f_2_PositionX', 'f_3_PositionX', 'f_4_PositionX', 'f_5_PositionX', 'f_6_PositionX', 'f_7_PositionX', 'f_8_PositionX', 'f_9_PositionX', 'f_0_PositionY', 'f_1_PositionY', 'f_2_PositionY', 'f_3_PositionY', 'f_4_PositionY', 'f_5_PositionY', 'f_6_PositionY', 'f_7_PositionY', 'f_8_PositionY', 'f_9_PositionY', 'f_0_PositionZ', 'f_1_PositionZ', 'f_2_PositionZ', 'f_3_PositionZ', 'f_4_PositionZ', 'f_5_PositionZ', 'f_6_PositionZ', 'f_7_PositionZ', 'f_8_PositionZ', 'f_9_PositionZ', 'f_0_VelocityX', 'f_1_VelocityX', 'f_2_VelocityX', 'f_3_VelocityX', 'f_4_VelocityX', 'f_5_VelocityX', 'f_6_VelocityX', 'f_7_VelocityX', 'f_8_VelocityX', 'f_9_VelocityX', 'f_0_VelocityY', 'f_1_VelocityY', 'f_2_VelocityY', 'f_3_VelocityY', 'f_4_VelocityY', 'f_5_VelocityY', 'f_6_VelocityY', 'f_7_VelocityY', 'f_8_VelocityY', 'f_9_VelocityY', 'f_0_VelocityZ', 'f_1_VelocityZ', 'f_2_VelocityZ', 'f_3_VelocityZ', 'f_4_VelocityZ', 'f_5_VelocityZ', 'f_6_VelocityZ', 'f_7_VelocityZ', 'f_8_VelocityZ', 'f_9_VelocityZ', 'f_0_DistanceToAlly_1', 'f_1_DistanceToAlly_1', 'f_2_DistanceToAlly_1', 'f_3_DistanceToAlly_1', 'f_4_DistanceToAlly_1', 'f_5_DistanceToAlly_1', 'f_6_DistanceToAlly_1', 'f_7_DistanceToAlly_1', 'f_8_DistanceToAlly_1', 'f_9_DistanceToAlly_1', 'f_0_DistanceToAlly_2', 'f_1_DistanceToAlly_2', 'f_2_DistanceToAlly_2', 'f_3_DistanceToAlly_2', 'f_4_DistanceToAlly_2', 'f_5_DistanceToAlly_2', 'f_6_DistanceToAlly_2', 'f_7_DistanceToAlly_2', 'f_8_DistanceToAlly_2', 'f_9_DistanceToAlly_2', 'f_0_DistanceToAlly_3', 'f_1_DistanceToAlly_3', 'f_2_DistanceToAlly_3', 'f_3_DistanceToAlly_3', 'f_4_DistanceToAlly_3', 'f_5_DistanceToAlly_3', 'f_6_DistanceToAlly_3', 'f_7_DistanceToAlly_3', 'f_8_DistanceToAlly_3', 'f_9_DistanceToAlly_3', 'f_0_DistanceToAlly_4', 'f_1_DistanceToAlly_4', 'f_2_DistanceToAlly_4', 'f_3_DistanceToAlly_4', 'f_4_DistanceToAlly_4', 'f_5_DistanceToAlly_4', 'f_6_DistanceToAlly_4', 'f_7_DistanceToAlly_4', 'f_8_DistanceToAlly_4', 'f_9_DistanceToAlly_4', 'f_0_DistanceToEnemy_0', 'f_1_DistanceToEnemy_0', 'f_2_DistanceToEnemy_0', 'f_3_DistanceToEnemy_0', 'f_4_DistanceToEnemy_0', 'f_5_DistanceToEnemy_0', 'f_6_DistanceToEnemy_0', 'f_7_DistanceToEnemy_0', 'f_8_DistanceToEnemy_0', 'f_9_DistanceToEnemy_0', 'f_0_DistanceToEnemy_1', 'f_1_DistanceToEnemy_1', 'f_2_DistanceToEnemy_1', 'f_3_DistanceToEnemy_1', 'f_4_DistanceToEnemy_1', 'f_5_DistanceToEnemy_1', 'f_6_DistanceToEnemy_1', 'f_7_DistanceToEnemy_1', 'f_8_DistanceToEnemy_1', 'f_9_DistanceToEnemy_1', 'f_0_DistanceToEnemy_2', 'f_1_DistanceToEnemy_2', 'f_2_DistanceToEnemy_2', 'f_3_DistanceToEnemy_2', 'f_4_DistanceToEnemy_2', 'f_5_DistanceToEnemy_2', 'f_6_DistanceToEnemy_2', 'f_7_DistanceToEnemy_2', 'f_8_DistanceToEnemy_2', 'f_9_DistanceToEnemy_2', 'f_0_DistanceToEnemy_3', 'f_1_DistanceToEnemy_3', 'f_2_DistanceToEnemy_3', 'f_3_DistanceToEnemy_3', 'f_4_DistanceToEnemy_3', 'f_5_DistanceToEnemy_3', 'f_6_DistanceToEnemy_3', 'f_7_DistanceToEnemy_3', 'f_8_DistanceToEnemy_3', 'f_9_DistanceToEnemy_3', 'f_0_DistanceToEnemy_4', 'f_1_DistanceToEnemy_4', 'f_2_DistanceToEnemy_4', 'f_3_DistanceToEnemy_4', 'f_4_DistanceToEnemy_4', 'f_5_DistanceToEnemy_4', 'f_6_DistanceToEnemy_4', 'f_7_DistanceToEnemy_4', 'f_8_DistanceToEnemy_4', 'f_9_DistanceToEnemy_4', 'f_0_HasHelmet', 'f_1_HasHelmet', 'f_2_HasHelmet', 'f_3_HasHelmet', 'f_4_HasHelmet', 'f_5_HasHelmet', 'f_6_HasHelmet', 'f_7_HasHelmet', 'f_8_HasHelmet', 'f_9_HasHelmet', 'f_0_IsSpotted', 'f_1_IsSpotted', 'f_2_IsSpotted', 'f_3_IsSpotted', 'f_4_IsSpotted', 'f_5_IsSpotted', 'f_6_IsSpotted', 'f_7_IsSpotted', 'f_8_IsSpotted', 'f_9_IsSpotted', 'f_0_IsScoped', 'f_1_IsScoped', 'f_2_IsScoped', 'f_3_IsScoped', 'f_4_IsScoped', 'f_5_IsScoped', 'f_6_IsScoped', 'f_7_IsScoped', 'f_8_IsScoped', 'f_9_IsScoped', 'f_0_IsDefusing', 'f_1_IsDefusing', 'f_2_IsDefusing', 'f_3_IsDefusing', 'f_4_IsDefusing', 'f_5_IsDefusing', 'f_6_IsDefusing', 'f_7_IsDefusing', 'f_8_IsDefusing', 'f_9_IsDefusing', 'f_0_Weapon_1', 'f_1_Weapon_1', 'f_2_Weapon_1', 'f_3_Weapon_1', 'f_4_Weapon_1', 'f_5_Weapon_1', 'f_6_Weapon_1', 'f_7_Weapon_1', 'f_8_Weapon_1', 'f_9_Weapon_1', 'f_0_Weapon_2', 'f_1_Weapon_2', 'f_2_Weapon_2', 'f_3_Weapon_2', 'f_4_Weapon_2', 'f_5_Weapon_2', 'f_6_Weapon_2', 'f_7_Weapon_2', 'f_8_Weapon_2', 'f_9_Weapon_2', 'f_0_Weapon_3', 'f_1_Weapon_3', 'f_2_Weapon_3', 'f_3_Weapon_3', 'f_4_Weapon_3', 'f_5_Weapon_3', 'f_6_Weapon_3', 'f_7_Weapon_3', 'f_8_Weapon_3', 'f_9_Weapon_3', 'f_0_Weapon_4', 'f_1_Weapon_4', 'f_2_Weapon_4', 'f_3_Weapon_4', 'f_4_Weapon_4', 'f_5_Weapon_4', 'f_6_Weapon_4', 'f_7_Weapon_4', 'f_8_Weapon_4', 'f_9_Weapon_4', 'f_0_Weapon_7', 'f_1_Weapon_7', 'f_2_Weapon_7', 'f_3_Weapon_7', 'f_4_Weapon_7', 'f_5_Weapon_7', 'f_6_Weapon_7', 'f_7_Weapon_7', 'f_8_Weapon_7', 'f_9_Weapon_7', 'f_0_Weapon_8', 'f_1_Weapon_8', 'f_2_Weapon_8', 'f_3_Weapon_8', 'f_4_Weapon_8', 'f_5_Weapon_8', 'f_6_Weapon_8', 'f_7_Weapon_8', 'f_8_Weapon_8', 'f_9_Weapon_8', 'f_0_Weapon_9', 'f_1_Weapon_9', 'f_2_Weapon_9', 'f_3_Weapon_9', 'f_4_Weapon_9', 'f_5_Weapon_9', 'f_6_Weapon_9', 'f_7_Weapon_9', 'f_8_Weapon_9', 'f_9_Weapon_9', 'f_0_Weapon_10', 'f_1_Weapon_10', 'f_2_Weapon_10', 'f_3_Weapon_10', 'f_4_Weapon_10', 'f_5_Weapon_10', 'f_6_Weapon_10', 'f_7_Weapon_10', 'f_8_Weapon_10', 'f_9_Weapon_10', 'f_0_Weapon_11', 'f_1_Weapon_11', 'f_2_Weapon_11', 'f_3_Weapon_11', 'f_4_Weapon_11', 'f_5_Weapon_11', 'f_6_Weapon_11', 'f_7_Weapon_11', 'f_8_Weapon_11', 'f_9_Weapon_11', 'f_0_Weapon_13', 'f_1_Weapon_13', 'f_2_Weapon_13', 'f_3_Weapon_13', 'f_4_Weapon_13', 'f_5_Weapon_13', 'f_6_Weapon_13', 'f_7_Weapon_13', 'f_8_Weapon_13', 'f_9_Weapon_13', 'f_0_Weapon_14', 'f_1_Weapon_14', 'f_2_Weapon_14', 'f_3_Weapon_14', 'f_4_Weapon_14', 'f_5_Weapon_14', 'f_6_Weapon_14', 'f_7_Weapon_14', 'f_8_Weapon_14', 'f_9_Weapon_14', 'f_0_Weapon_16', 'f_1_Weapon_16', 'f_2_Weapon_16', 'f_3_Weapon_16', 'f_4_Weapon_16', 'f_5_Weapon_16', 'f_6_Weapon_16', 'f_7_Weapon_16', 'f_8_Weapon_16', 'f_9_Weapon_16', 'f_0_Weapon_17', 'f_1_Weapon_17', 'f_2_Weapon_17', 'f_3_Weapon_17', 'f_4_Weapon_17', 'f_5_Weapon_17', 'f_6_Weapon_17', 'f_7_Weapon_17', 'f_8_Weapon_17', 'f_9_Weapon_17', 'f_0_Weapon_19', 'f_1_Weapon_19', 'f_2_Weapon_19', 'f_3_Weapon_19', 'f_4_Weapon_19', 'f_5_Weapon_19', 'f_6_Weapon_19', 'f_7_Weapon_19', 'f_8_Weapon_19', 'f_9_Weapon_19', 'f_0_Weapon_23', 'f_1_Weapon_23', 'f_2_Weapon_23', 'f_3_Weapon_23', 'f_4_Weapon_23', 'f_5_Weapon_23', 'f_6_Weapon_23', 'f_7_Weapon_23', 'f_8_Weapon_23', 'f_9_Weapon_23', 'f_0_Weapon_24', 'f_1_Weapon_24', 'f_2_Weapon_24', 'f_3_Weapon_24', 'f_4_Weapon_24', 'f_5_Weapon_24', 'f_6_Weapon_24', 'f_7_Weapon_24', 'f_8_Weapon_24', 'f_9_Weapon_24', 'f_0_Weapon_25', 'f_1_Weapon_25', 'f_2_Weapon_25', 'f_3_Weapon_25', 'f_4_Weapon_25', 'f_5_Weapon_25', 'f_6_Weapon_25', 'f_7_Weapon_25', 'f_8_Weapon_25', 'f_9_Weapon_25', 'f_0_Weapon_26', 'f_1_Weapon_26', 'f_2_Weapon_26', 'f_3_Weapon_26', 'f_4_Weapon_26', 'f_5_Weapon_26', 'f_6_Weapon_26', 'f_7_Weapon_26', 'f_8_Weapon_26', 'f_9_Weapon_26', 'f_0_Weapon_27', 'f_1_Weapon_27', 'f_2_Weapon_27', 'f_3_Weapon_27', 'f_4_Weapon_27', 'f_5_Weapon_27', 'f_6_Weapon_27', 'f_7_Weapon_27', 'f_8_Weapon_27', 'f_9_Weapon_27', 'f_0_Weapon_28', 'f_1_Weapon_28', 'f_2_Weapon_28', 'f_3_Weapon_28', 'f_4_Weapon_28', 'f_5_Weapon_28', 'f_6_Weapon_28', 'f_7_Weapon_28', 'f_8_Weapon_28', 'f_9_Weapon_28', 'f_0_Weapon_29', 'f_1_Weapon_29', 'f_2_Weapon_29', 'f_3_Weapon_29', 'f_4_Weapon_29', 'f_5_Weapon_29', 'f_6_Weapon_29', 'f_7_Weapon_29', 'f_8_Weapon_29', 'f_9_Weapon_29', 'f_0_Weapon_30', 'f_1_Weapon_30', 'f_2_Weapon_30', 'f_3_Weapon_30', 'f_4_Weapon_30', 'f_5_Weapon_30', 'f_6_Weapon_30', 'f_7_Weapon_30', 'f_8_Weapon_30', 'f_9_Weapon_30', 'f_0_Weapon_31', 'f_1_Weapon_31', 'f_2_Weapon_31', 'f_3_Weapon_31', 'f_4_Weapon_31', 'f_5_Weapon_31', 'f_6_Weapon_31', 'f_7_Weapon_31', 'f_8_Weapon_31', 'f_9_Weapon_31', 'f_0_Weapon_32', 'f_1_Weapon_32', 'f_2_Weapon_32', 'f_3_Weapon_32', 'f_4_Weapon_32', 'f_5_Weapon_32', 'f_6_Weapon_32', 'f_7_Weapon_32', 'f_8_Weapon_32', 'f_9_Weapon_32', 'f_0_Weapon_33', 'f_1_Weapon_33', 'f_2_Weapon_33', 'f_3_Weapon_33', 'f_4_Weapon_33', 'f_5_Weapon_33', 'f_6_Weapon_33', 'f_7_Weapon_33', 'f_8_Weapon_33', 'f_9_Weapon_33', 'f_0_Weapon_34', 'f_1_Weapon_34', 'f_2_Weapon_34', 'f_3_Weapon_34', 'f_4_Weapon_34', 'f_5_Weapon_34', 'f_6_Weapon_34', 'f_7_Weapon_34', 'f_8_Weapon_34', 'f_9_Weapon_34', 'f_0_Weapon_35', 'f_1_Weapon_35', 'f_2_Weapon_35', 'f_3_Weapon_35', 'f_4_Weapon_35', 'f_5_Weapon_35', 'f_6_Weapon_35', 'f_7_Weapon_35', 'f_8_Weapon_35', 'f_9_Weapon_35', 'f_0_Weapon_36', 'f_1_Weapon_36', 'f_2_Weapon_36', 'f_3_Weapon_36', 'f_4_Weapon_36', 'f_5_Weapon_36', 'f_6_Weapon_36', 'f_7_Weapon_36', 'f_8_Weapon_36', 'f_9_Weapon_36', 'f_0_Weapon_38', 'f_1_Weapon_38', 'f_2_Weapon_38', 'f_3_Weapon_38', 'f_4_Weapon_38', 'f_5_Weapon_38', 'f_6_Weapon_38', 'f_7_Weapon_38', 'f_8_Weapon_38', 'f_9_Weapon_38', 'f_0_Weapon_39', 'f_1_Weapon_39', 'f_2_Weapon_39', 'f_3_Weapon_39', 'f_4_Weapon_39', 'f_5_Weapon_39', 'f_6_Weapon_39', 'f_7_Weapon_39', 'f_8_Weapon_39', 'f_9_Weapon_39', 'f_0_Weapon_40', 'f_1_Weapon_40', 'f_2_Weapon_40', 'f_3_Weapon_40', 'f_4_Weapon_40', 'f_5_Weapon_40', 'f_6_Weapon_40', 'f_7_Weapon_40', 'f_8_Weapon_40', 'f_9_Weapon_40', 'f_0_Weapon_42', 'f_1_Weapon_42', 'f_2_Weapon_42', 'f_3_Weapon_42', 'f_4_Weapon_42', 'f_5_Weapon_42', 'f_6_Weapon_42', 'f_7_Weapon_42', 'f_8_Weapon_42', 'f_9_Weapon_42', 'f_0_Weapon_43', 'f_1_Weapon_43', 'f_2_Weapon_43', 'f_3_Weapon_43', 'f_4_Weapon_43', 'f_5_Weapon_43', 'f_6_Weapon_43', 'f_7_Weapon_43', 'f_8_Weapon_43', 'f_9_Weapon_43', 'f_0_Weapon_44', 'f_1_Weapon_44', 'f_2_Weapon_44', 'f_3_Weapon_44', 'f_4_Weapon_44', 'f_5_Weapon_44', 'f_6_Weapon_44', 'f_7_Weapon_44', 'f_8_Weapon_44', 'f_9_Weapon_44', 'f_0_Weapon_45', 'f_1_Weapon_45', 'f_2_Weapon_45', 'f_3_Weapon_45', 'f_4_Weapon_45', 'f_5_Weapon_45', 'f_6_Weapon_45', 'f_7_Weapon_45', 'f_8_Weapon_45', 'f_9_Weapon_45', 'f_0_Weapon_46', 'f_1_Weapon_46', 'f_2_Weapon_46', 'f_3_Weapon_46', 'f_4_Weapon_46', 'f_5_Weapon_46', 'f_6_Weapon_46', 'f_7_Weapon_46', 'f_8_Weapon_46', 'f_9_Weapon_46', 'f_0_Weapon_47', 'f_1_Weapon_47', 'f_2_Weapon_47', 'f_3_Weapon_47', 'f_4_Weapon_47', 'f_5_Weapon_47', 'f_6_Weapon_47', 'f_7_Weapon_47', 'f_8_Weapon_47', 'f_9_Weapon_47', 'f_0_Weapon_48', 'f_1_Weapon_48', 'f_2_Weapon_48', 'f_3_Weapon_48', 'f_4_Weapon_48', 'f_5_Weapon_48', 'f_6_Weapon_48', 'f_7_Weapon_48', 'f_8_Weapon_48', 'f_9_Weapon_48', 'f_0_Weapon_49', 'f_1_Weapon_49', 'f_2_Weapon_49', 'f_3_Weapon_49', 'f_4_Weapon_49', 'f_5_Weapon_49', 'f_6_Weapon_49', 'f_7_Weapon_49', 'f_8_Weapon_49', 'f_9_Weapon_49', 'f_0_Weapon_60', 'f_1_Weapon_60', 'f_2_Weapon_60', 'f_3_Weapon_60', 'f_4_Weapon_60', 'f_5_Weapon_60', 'f_6_Weapon_60', 'f_7_Weapon_60', 'f_8_Weapon_60', 'f_9_Weapon_60', 'f_0_Weapon_61', 'f_1_Weapon_61', 'f_2_Weapon_61', 'f_3_Weapon_61', 'f_4_Weapon_61', 'f_5_Weapon_61', 'f_6_Weapon_61', 'f_7_Weapon_61', 'f_8_Weapon_61', 'f_9_Weapon_61', 'f_0_Weapon_63', 'f_1_Weapon_63', 'f_2_Weapon_63', 'f_3_Weapon_63', 'f_4_Weapon_63', 'f_5_Weapon_63', 'f_6_Weapon_63', 'f_7_Weapon_63', 'f_8_Weapon_63', 'f_9_Weapon_63', 'f_0_Weapon_64', 'f_1_Weapon_64', 'f_2_Weapon_64', 'f_3_Weapon_64', 'f_4_Weapon_64', 'f_5_Weapon_64', 'f_6_Weapon_64', 'f_7_Weapon_64', 'f_8_Weapon_64', 'f_9_Weapon_64']\n660\n"
    }
   ],
   "source": [
    "lst = data_loader.get_column_names_from_features_set(\"training_all\")\n",
    "print(lst)\n",
    "print(len(lst))"
   ]
  },
  {
   "cell_type": "code",
   "execution_count": 8,
   "metadata": {},
   "outputs": [
    {
     "name": "stdout",
     "output_type": "stream",
     "text": "[{'id': 'Weapon_1', 'title': 'Weapon_1', 'type': 'float32'}, {'id': 'Weapon_2', 'title': 'Weapon_2', 'type': 'float32'}, {'id': 'Weapon_3', 'title': 'Weapon_3', 'type': 'float32'}, {'id': 'Weapon_4', 'title': 'Weapon_4', 'type': 'float32'}, {'id': 'Weapon_7', 'title': 'Weapon_7', 'type': 'float32'}, {'id': 'Weapon_8', 'title': 'Weapon_8', 'type': 'float32'}, {'id': 'Weapon_9', 'title': 'Weapon_9', 'type': 'float32'}, {'id': 'Weapon_10', 'title': 'Weapon_10', 'type': 'float32'}, {'id': 'Weapon_11', 'title': 'Weapon_11', 'type': 'float32'}, {'id': 'Weapon_13', 'title': 'Weapon_13', 'type': 'float32'}, {'id': 'Weapon_14', 'title': 'Weapon_14', 'type': 'float32'}, {'id': 'Weapon_16', 'title': 'Weapon_16', 'type': 'float32'}, {'id': 'Weapon_17', 'title': 'Weapon_17', 'type': 'float32'}, {'id': 'Weapon_19', 'title': 'Weapon_19', 'type': 'float32'}, {'id': 'Weapon_23', 'title': 'Weapon_23', 'type': 'float32'}, {'id': 'Weapon_24', 'title': 'Weapon_24', 'type': 'float32'}, {'id': 'Weapon_25', 'title': 'Weapon_25', 'type': 'float32'}, {'id': 'Weapon_26', 'title': 'Weapon_26', 'type': 'float32'}, {'id': 'Weapon_27', 'title': 'Weapon_27', 'type': 'float32'}, {'id': 'Weapon_28', 'title': 'Weapon_28', 'type': 'float32'}, {'id': 'Weapon_29', 'title': 'Weapon_29', 'type': 'float32'}, {'id': 'Weapon_30', 'title': 'Weapon_30', 'type': 'float32'}, {'id': 'Weapon_31', 'title': 'Weapon_31', 'type': 'float32'}, {'id': 'Weapon_32', 'title': 'Weapon_32', 'type': 'float32'}, {'id': 'Weapon_33', 'title': 'Weapon_33', 'type': 'float32'}, {'id': 'Weapon_34', 'title': 'Weapon_34', 'type': 'float32'}, {'id': 'Weapon_35', 'title': 'Weapon_35', 'type': 'float32'}, {'id': 'Weapon_36', 'title': 'Weapon_36', 'type': 'float32'}, {'id': 'Weapon_38', 'title': 'Weapon_38', 'type': 'float32'}, {'id': 'Weapon_39', 'title': 'Weapon_39', 'type': 'float32'}, {'id': 'Weapon_40', 'title': 'Weapon_40', 'type': 'float32'}, {'id': 'Weapon_42', 'title': 'Weapon_42', 'type': 'float32'}, {'id': 'Weapon_43', 'title': 'Weapon_43', 'type': 'float32'}, {'id': 'Weapon_44', 'title': 'Weapon_44', 'type': 'float32'}, {'id': 'Weapon_45', 'title': 'Weapon_45', 'type': 'float32'}, {'id': 'Weapon_46', 'title': 'Weapon_46', 'type': 'float32'}, {'id': 'Weapon_47', 'title': 'Weapon_47', 'type': 'float32'}, {'id': 'Weapon_48', 'title': 'Weapon_48', 'type': 'float32'}, {'id': 'Weapon_49', 'title': 'Weapon_49', 'type': 'float32'}, {'id': 'Weapon_60', 'title': 'Weapon_60', 'type': 'float32'}, {'id': 'Weapon_61', 'title': 'Weapon_61', 'type': 'float32'}, {'id': 'Weapon_63', 'title': 'Weapon_63', 'type': 'float32'}, {'id': 'Weapon_64', 'title': 'Weapon_64', 'type': 'float32'}]\n"
    }
   ],
   "source": [
    "res = map(lambda name: name.replace('f_0_',''),filter(lambda a: a.startswith('f_0'),data_loader.get_one_hot_encoded_weapon_feature_names()))\n",
    "\n",
    "obj_arr = []\n",
    "for name in list(res):\n",
    "    obj_arr.append({\n",
    "        \"id\": name,\n",
    "        \"title\": name[:1].upper() + name[1:],\n",
    "        \"type\": \"float32\"\n",
    "    })\n",
    "\n",
    "print(obj_arr)"
   ]
  },
  {
   "cell_type": "code",
   "execution_count": 9,
   "metadata": {},
   "outputs": [
    {
     "ename": "TypeError",
     "evalue": "cannot pass a column specification when reading a Fixed format store. this store must be selected in its entirety",
     "output_type": "error",
     "traceback": [
      "\u001b[0;31m---------------------------------------------------------------------------\u001b[0m",
      "\u001b[0;31mTypeError\u001b[0m                                 Traceback (most recent call last)",
      "\u001b[0;32m<ipython-input-9-53dbf66d56a1>\u001b[0m in \u001b[0;36m<module>\u001b[0;34m()\u001b[0m\n\u001b[0;32m----> 1\u001b[0;31m \u001b[0mff\u001b[0m \u001b[0;34m=\u001b[0m \u001b[0mpd\u001b[0m\u001b[0;34m.\u001b[0m\u001b[0mread_hdf\u001b[0m\u001b[0;34m(\u001b[0m\u001b[0;34m'../../csgo_dataset/training_data/data_chunk_0_0.h5'\u001b[0m\u001b[0;34m,\u001b[0m \u001b[0mcolumns\u001b[0m\u001b[0;34m=\u001b[0m\u001b[0;34m[\u001b[0m\u001b[0;34m'f_0_Weapon_42'\u001b[0m\u001b[0;34m]\u001b[0m\u001b[0;34m)\u001b[0m\u001b[0;34m\u001b[0m\u001b[0;34m\u001b[0m\u001b[0m\n\u001b[0m",
      "\u001b[0;32m/home/hueter/.local/lib/python3.6/site-packages/pandas/io/pytables.py\u001b[0m in \u001b[0;36mread_hdf\u001b[0;34m(path_or_buf, key, mode, **kwargs)\u001b[0m\n\u001b[1;32m    405\u001b[0m                     )\n\u001b[1;32m    406\u001b[0m             \u001b[0mkey\u001b[0m \u001b[0;34m=\u001b[0m \u001b[0mcandidate_only_group\u001b[0m\u001b[0;34m.\u001b[0m\u001b[0m_v_pathname\u001b[0m\u001b[0;34m\u001b[0m\u001b[0;34m\u001b[0m\u001b[0m\n\u001b[0;32m--> 407\u001b[0;31m         \u001b[0;32mreturn\u001b[0m \u001b[0mstore\u001b[0m\u001b[0;34m.\u001b[0m\u001b[0mselect\u001b[0m\u001b[0;34m(\u001b[0m\u001b[0mkey\u001b[0m\u001b[0;34m,\u001b[0m \u001b[0mauto_close\u001b[0m\u001b[0;34m=\u001b[0m\u001b[0mauto_close\u001b[0m\u001b[0;34m,\u001b[0m \u001b[0;34m**\u001b[0m\u001b[0mkwargs\u001b[0m\u001b[0;34m)\u001b[0m\u001b[0;34m\u001b[0m\u001b[0;34m\u001b[0m\u001b[0m\n\u001b[0m\u001b[1;32m    408\u001b[0m     \u001b[0;32mexcept\u001b[0m \u001b[0;34m(\u001b[0m\u001b[0mValueError\u001b[0m\u001b[0;34m,\u001b[0m \u001b[0mTypeError\u001b[0m\u001b[0;34m,\u001b[0m \u001b[0mKeyError\u001b[0m\u001b[0;34m)\u001b[0m\u001b[0;34m:\u001b[0m\u001b[0;34m\u001b[0m\u001b[0;34m\u001b[0m\u001b[0m\n\u001b[1;32m    409\u001b[0m         \u001b[0;31m# if there is an error, close the store\u001b[0m\u001b[0;34m\u001b[0m\u001b[0;34m\u001b[0m\u001b[0;34m\u001b[0m\u001b[0m\n",
      "\u001b[0;32m/home/hueter/.local/lib/python3.6/site-packages/pandas/io/pytables.py\u001b[0m in \u001b[0;36mselect\u001b[0;34m(self, key, where, start, stop, columns, iterator, chunksize, auto_close, **kwargs)\u001b[0m\n\u001b[1;32m    780\u001b[0m         )\n\u001b[1;32m    781\u001b[0m \u001b[0;34m\u001b[0m\u001b[0m\n\u001b[0;32m--> 782\u001b[0;31m         \u001b[0;32mreturn\u001b[0m \u001b[0mit\u001b[0m\u001b[0;34m.\u001b[0m\u001b[0mget_result\u001b[0m\u001b[0;34m(\u001b[0m\u001b[0;34m)\u001b[0m\u001b[0;34m\u001b[0m\u001b[0;34m\u001b[0m\u001b[0m\n\u001b[0m\u001b[1;32m    783\u001b[0m \u001b[0;34m\u001b[0m\u001b[0m\n\u001b[1;32m    784\u001b[0m     \u001b[0;32mdef\u001b[0m \u001b[0mselect_as_coordinates\u001b[0m\u001b[0;34m(\u001b[0m\u001b[0mself\u001b[0m\u001b[0;34m,\u001b[0m \u001b[0mkey\u001b[0m\u001b[0;34m,\u001b[0m \u001b[0mwhere\u001b[0m\u001b[0;34m=\u001b[0m\u001b[0;32mNone\u001b[0m\u001b[0;34m,\u001b[0m \u001b[0mstart\u001b[0m\u001b[0;34m=\u001b[0m\u001b[0;32mNone\u001b[0m\u001b[0;34m,\u001b[0m \u001b[0mstop\u001b[0m\u001b[0;34m=\u001b[0m\u001b[0;32mNone\u001b[0m\u001b[0;34m,\u001b[0m \u001b[0;34m**\u001b[0m\u001b[0mkwargs\u001b[0m\u001b[0;34m)\u001b[0m\u001b[0;34m:\u001b[0m\u001b[0;34m\u001b[0m\u001b[0;34m\u001b[0m\u001b[0m\n",
      "\u001b[0;32m/home/hueter/.local/lib/python3.6/site-packages/pandas/io/pytables.py\u001b[0m in \u001b[0;36mget_result\u001b[0;34m(self, coordinates)\u001b[0m\n\u001b[1;32m   1637\u001b[0m \u001b[0;34m\u001b[0m\u001b[0m\n\u001b[1;32m   1638\u001b[0m         \u001b[0;31m# directly return the result\u001b[0m\u001b[0;34m\u001b[0m\u001b[0;34m\u001b[0m\u001b[0;34m\u001b[0m\u001b[0m\n\u001b[0;32m-> 1639\u001b[0;31m         \u001b[0mresults\u001b[0m \u001b[0;34m=\u001b[0m \u001b[0mself\u001b[0m\u001b[0;34m.\u001b[0m\u001b[0mfunc\u001b[0m\u001b[0;34m(\u001b[0m\u001b[0mself\u001b[0m\u001b[0;34m.\u001b[0m\u001b[0mstart\u001b[0m\u001b[0;34m,\u001b[0m \u001b[0mself\u001b[0m\u001b[0;34m.\u001b[0m\u001b[0mstop\u001b[0m\u001b[0;34m,\u001b[0m \u001b[0mwhere\u001b[0m\u001b[0;34m)\u001b[0m\u001b[0;34m\u001b[0m\u001b[0;34m\u001b[0m\u001b[0m\n\u001b[0m\u001b[1;32m   1640\u001b[0m         \u001b[0mself\u001b[0m\u001b[0;34m.\u001b[0m\u001b[0mclose\u001b[0m\u001b[0;34m(\u001b[0m\u001b[0;34m)\u001b[0m\u001b[0;34m\u001b[0m\u001b[0;34m\u001b[0m\u001b[0m\n\u001b[1;32m   1641\u001b[0m         \u001b[0;32mreturn\u001b[0m \u001b[0mresults\u001b[0m\u001b[0;34m\u001b[0m\u001b[0;34m\u001b[0m\u001b[0m\n",
      "\u001b[0;32m/home/hueter/.local/lib/python3.6/site-packages/pandas/io/pytables.py\u001b[0m in \u001b[0;36mfunc\u001b[0;34m(_start, _stop, _where)\u001b[0m\n\u001b[1;32m    764\u001b[0m         \u001b[0;31m# function to call on iteration\u001b[0m\u001b[0;34m\u001b[0m\u001b[0;34m\u001b[0m\u001b[0;34m\u001b[0m\u001b[0m\n\u001b[1;32m    765\u001b[0m         \u001b[0;32mdef\u001b[0m \u001b[0mfunc\u001b[0m\u001b[0;34m(\u001b[0m\u001b[0m_start\u001b[0m\u001b[0;34m,\u001b[0m \u001b[0m_stop\u001b[0m\u001b[0;34m,\u001b[0m \u001b[0m_where\u001b[0m\u001b[0;34m)\u001b[0m\u001b[0;34m:\u001b[0m\u001b[0;34m\u001b[0m\u001b[0;34m\u001b[0m\u001b[0m\n\u001b[0;32m--> 766\u001b[0;31m             \u001b[0;32mreturn\u001b[0m \u001b[0ms\u001b[0m\u001b[0;34m.\u001b[0m\u001b[0mread\u001b[0m\u001b[0;34m(\u001b[0m\u001b[0mstart\u001b[0m\u001b[0;34m=\u001b[0m\u001b[0m_start\u001b[0m\u001b[0;34m,\u001b[0m \u001b[0mstop\u001b[0m\u001b[0;34m=\u001b[0m\u001b[0m_stop\u001b[0m\u001b[0;34m,\u001b[0m \u001b[0mwhere\u001b[0m\u001b[0;34m=\u001b[0m\u001b[0m_where\u001b[0m\u001b[0;34m,\u001b[0m \u001b[0mcolumns\u001b[0m\u001b[0;34m=\u001b[0m\u001b[0mcolumns\u001b[0m\u001b[0;34m)\u001b[0m\u001b[0;34m\u001b[0m\u001b[0;34m\u001b[0m\u001b[0m\n\u001b[0m\u001b[1;32m    767\u001b[0m \u001b[0;34m\u001b[0m\u001b[0m\n\u001b[1;32m    768\u001b[0m         \u001b[0;31m# create the iterator\u001b[0m\u001b[0;34m\u001b[0m\u001b[0;34m\u001b[0m\u001b[0;34m\u001b[0m\u001b[0m\n",
      "\u001b[0;32m/home/hueter/.local/lib/python3.6/site-packages/pandas/io/pytables.py\u001b[0m in \u001b[0;36mread\u001b[0;34m(self, start, stop, **kwargs)\u001b[0m\n\u001b[1;32m   3188\u001b[0m         \u001b[0;31m# start, stop applied to rows, so 0th axis only\u001b[0m\u001b[0;34m\u001b[0m\u001b[0;34m\u001b[0m\u001b[0;34m\u001b[0m\u001b[0m\n\u001b[1;32m   3189\u001b[0m \u001b[0;34m\u001b[0m\u001b[0m\n\u001b[0;32m-> 3190\u001b[0;31m         \u001b[0mkwargs\u001b[0m \u001b[0;34m=\u001b[0m \u001b[0mself\u001b[0m\u001b[0;34m.\u001b[0m\u001b[0mvalidate_read\u001b[0m\u001b[0;34m(\u001b[0m\u001b[0mkwargs\u001b[0m\u001b[0;34m)\u001b[0m\u001b[0;34m\u001b[0m\u001b[0;34m\u001b[0m\u001b[0m\n\u001b[0m\u001b[1;32m   3191\u001b[0m         \u001b[0mselect_axis\u001b[0m \u001b[0;34m=\u001b[0m \u001b[0mself\u001b[0m\u001b[0;34m.\u001b[0m\u001b[0mobj_type\u001b[0m\u001b[0;34m(\u001b[0m\u001b[0;34m)\u001b[0m\u001b[0;34m.\u001b[0m\u001b[0m_get_block_manager_axis\u001b[0m\u001b[0;34m(\u001b[0m\u001b[0;36m0\u001b[0m\u001b[0;34m)\u001b[0m\u001b[0;34m\u001b[0m\u001b[0;34m\u001b[0m\u001b[0m\n\u001b[1;32m   3192\u001b[0m \u001b[0;34m\u001b[0m\u001b[0m\n",
      "\u001b[0;32m/home/hueter/.local/lib/python3.6/site-packages/pandas/io/pytables.py\u001b[0m in \u001b[0;36mvalidate_read\u001b[0;34m(self, kwargs)\u001b[0m\n\u001b[1;32m   2693\u001b[0m         \u001b[0;32mif\u001b[0m \u001b[0mcolumns\u001b[0m \u001b[0;32mis\u001b[0m \u001b[0;32mnot\u001b[0m \u001b[0;32mNone\u001b[0m\u001b[0;34m:\u001b[0m\u001b[0;34m\u001b[0m\u001b[0;34m\u001b[0m\u001b[0m\n\u001b[1;32m   2694\u001b[0m             raise TypeError(\n\u001b[0;32m-> 2695\u001b[0;31m                 \u001b[0;34m\"cannot pass a column specification when reading \"\u001b[0m\u001b[0;34m\u001b[0m\u001b[0;34m\u001b[0m\u001b[0m\n\u001b[0m\u001b[1;32m   2696\u001b[0m                 \u001b[0;34m\"a Fixed format store. this store must be \"\u001b[0m\u001b[0;34m\u001b[0m\u001b[0;34m\u001b[0m\u001b[0m\n\u001b[1;32m   2697\u001b[0m                 \u001b[0;34m\"selected in its entirety\"\u001b[0m\u001b[0;34m\u001b[0m\u001b[0;34m\u001b[0m\u001b[0m\n",
      "\u001b[0;31mTypeError\u001b[0m: cannot pass a column specification when reading a Fixed format store. this store must be selected in its entirety"
     ]
    }
   ],
   "source": [
    "ff = pd.read_hdf('../../csgo_dataset/training_data/data_chunk_0_0.h5', columns=['f_0_Weapon_42'])"
   ]
  },
  {
   "cell_type": "code",
   "execution_count": null,
   "metadata": {},
   "outputs": [],
   "source": []
  }
 ]
}