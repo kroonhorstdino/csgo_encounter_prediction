{
 "nbformat": 4,
 "nbformat_minor": 2,
 "metadata": {
  "language_info": {
   "name": "python",
   "codemirror_mode": {
    "name": "ipython",
    "version": 3
   }
  },
  "orig_nbformat": 2,
  "file_extension": ".py",
  "mimetype": "text/x-python",
  "name": "python",
  "npconvert_exporter": "python",
  "pygments_lexer": "ipython3",
  "version": 3
 },
 "cells": [
  {
   "cell_type": "code",
   "execution_count": 1,
   "metadata": {},
   "outputs": [
    {
     "name": "stdout",
     "output_type": "stream",
     "text": "Loading JSON file config/dataset_config.json\nLoading JSON file config/features_info.json\nLoading JSON file config/item_definition_index_map.json\nLoading JSON file config\\features_info.json\n"
    }
   ],
   "source": [
    "import sys\n",
    "\n",
    "import pandas as pd\n",
    "import numpy as np\n",
    "from pathlib import Path\n",
    "\n",
    "sys.path.insert(0, str(Path.cwd() / 'preparation/'))\n",
    "\n",
    "import data_loader\n",
    "import preprocess"
   ]
  },
  {
   "cell_type": "code",
   "execution_count": 2,
   "metadata": {},
   "outputs": [
    {
     "data": {
      "text/plain": "[array([0, 1, 2, 3, 4]), array([5, 6, 7, 8, 9])]"
     },
     "execution_count": 2,
     "metadata": {},
     "output_type": "execute_result"
    }
   ],
   "source": [
    "data_loader.get_team_iterables()"
   ]
  },
  {
   "cell_type": "code",
   "execution_count": 3,
   "metadata": {},
   "outputs": [
    {
     "name": "stdout",
     "output_type": "stream",
     "text": "../csgo_dataset/vitality-vs-liquid-m2-dust2.csv\n"
    }
   ],
   "source": [
    "#h5_file = data_loader.load_sample_h5_as_df()\n",
    "csv_file = '../csgo_dataset/vitality-vs-liquid-m2-dust2.csv'\n",
    "print(csv_file)"
   ]
  },
  {
   "cell_type": "code",
   "execution_count": 4,
   "metadata": {},
   "outputs": [],
   "source": [
    "#sample_file = data_loader.load_h5_as_df(file_name, False)\n",
    "#sample_file = data_loader.load_h5_as_df('../../csgo_dataset/training_data/data_chunk_0_0.h5', drop_ticks=True)\n",
    "sample_file = data_loader.load_csv_as_df(Path(csv_file))"
   ]
  },
  {
   "cell_type": "code",
   "execution_count": 5,
   "metadata": {},
   "outputs": [
    {
     "data": {
      "text/plain": "[(-543.56323, -708.616, 125.40039),\n (-543.56323, -708.616, 125.40039),\n (-543.56323, -708.616, 125.40039),\n (1414.3994, 613.3319, -61.779686),\n (1414.3994, 613.3319, -61.779686),\n (-1963.8676, 1732.019, 43.738396),\n (-1851.0587, 538.71277, 108.03125),\n (-1963.8834, 1730.066, 42.582092),\n (-1833.2712, 982.00916, 40.591255),\n (-2023.1776, 3098.9524, 33.83335)]"
     },
     "execution_count": 5,
     "metadata": {},
     "output_type": "execute_result"
    }
   ],
   "source": [
    "list(map(lambda vec: vec.components(), preprocess.all_player_position_to_vec3(sample_file, sample_file.sample(frac=1).index[0])))\n"
   ]
  },
  {
   "cell_type": "code",
   "execution_count": 6,
   "metadata": {},
   "outputs": [
    {
     "name": "stdout",
     "output_type": "stream",
     "text": "(25511, 261)\n<bound method IndexOpsMixin.min of Float64Index([ 80050.0,  80066.0,  80082.0,  80098.0,  80114.0,  80130.0,\n               80146.0,  80162.0,  80178.0,  80194.0,\n              ...\n              646636.0, 646652.0, 646668.0, 646684.0, 646700.0, 646716.0,\n              646732.0, 646748.0, 646764.0, 646780.0],\n             dtype='float64', name='Tick', length=25511)><bound method IndexOpsMixin.max of Float64Index([ 80050.0,  80066.0,  80082.0,  80098.0,  80114.0,  80130.0,\n               80146.0,  80162.0,  80178.0,  80194.0,\n              ...\n              646636.0, 646652.0, 646668.0, 646684.0, 646700.0, 646716.0,\n              646732.0, 646748.0, 646764.0, 646780.0],\n             dtype='float64', name='Tick', length=25511)>\n"
    }
   ],
   "source": [
    "print(sample_file.shape)\n",
    "print(sample_file.index.min, sample_file.index.max)\n"
   ]
  },
  {
   "cell_type": "code",
   "execution_count": 7,
   "metadata": {},
   "outputs": [
    {
     "name": "stdout",
     "output_type": "stream",
     "text": "f_0_EyeAngleYaw  f_1_EyeAngleYaw  f_2_EyeAngleYaw  f_3_EyeAngleYaw  \\\nTick                                                                           \n297774.0       222.528076       325.986328        13.002319       240.474243   \n186639.0       111.296997       286.089478       268.764038       349.716797   \n597925.0       189.871216       160.394897       277.525635       162.169189   \n202329.0       250.647583       256.228638       217.452393       219.759521   \n310455.0       342.229614        14.194336       342.224121       342.268066   \n...                   ...              ...              ...              ...   \n214377.0       261.710815       261.716309       243.204346       358.379517   \n582025.0       197.924194       159.702759       268.538818       181.785278   \n103246.0        75.459595       189.365845       160.510254       105.567627   \n437268.0       268.956299       268.950806       268.950806       268.950806   \n380729.0       353.748779       193.595581        27.773438       221.984253   \n\n          f_4_EyeAngleYaw  f_5_EyeAngleYaw  f_6_EyeAngleYaw  f_7_EyeAngleYaw  \\\nTick                                                                           \n297774.0       134.483643        79.200439       317.318115        78.700562   \n186639.0       169.612427        32.008667       112.340698        38.957520   \n597925.0       270.087891       101.310425        51.437988        96.690674   \n202329.0       211.821899         0.098877        96.119385       116.542969   \n310455.0        15.232544       112.604370       112.351685       111.005859   \n...                   ...              ...              ...              ...   \n214377.0       261.710815       259.205933       180.335083       262.924805   \n582025.0       208.130493        86.616211        87.698364        68.735962   \n103246.0       161.801147       332.490234         1.005249         1.005249   \n437268.0       268.956299       206.466064        40.122070        40.632935   \n380729.0       249.499512        99.151611       102.859497       103.200073   \n\n          f_8_EyeAngleYaw  f_9_EyeAngleYaw  f_0_EyeAnglePitch  \\\nTick                                                            \n297774.0       249.966431        78.689575          17.067261   \n186639.0       176.951294        21.324463           6.196289   \n597925.0       290.093994        98.684692          10.206299   \n202329.0       108.341675        90.219727           7.855225   \n310455.0        89.368286       166.558228         357.132568   \n...                   ...              ...                ...   \n214377.0       211.909790       269.159546           2.752075   \n582025.0        99.602051        48.295898           6.762085   \n103246.0       273.229980       320.833740           4.070435   \n437268.0        39.721069       206.207886         356.753540   \n380729.0       126.771240       209.075317           7.646484   \n\n          f_1_EyeAnglePitch  f_2_EyeAnglePitch  f_3_EyeAnglePitch  \\\nTick                                                                \n297774.0           6.838989         354.111328         359.642944   \n186639.0         357.572021          20.703735           6.778564   \n597925.0           4.581299           8.316650           4.509888   \n202329.0           0.560303         352.172241         358.538818   \n310455.0           0.708618         357.088623         357.132568   \n...                     ...                ...                ...   \n214377.0           2.779541         359.956055          11.217041   \n582025.0           4.757080          17.259521           8.135376   \n103246.0         352.853394         357.418213           0.807495   \n437268.0         356.753540         356.748047         356.748047   \n380729.0         357.330322         336.555176           2.252197   \n\n          f_4_EyeAnglePitch  f_5_EyeAnglePitch  f_6_EyeAnglePitch  \\\nTick                                                                \n297774.0           0.488892         354.413452           7.047729   \n186639.0         357.077637         359.917603           3.367310   \n597925.0           6.553345           6.344604         354.506836   \n202329.0         351.101074         348.865356           4.097900   \n310455.0           0.703125         355.336304         355.380249   \n...                     ...                ...                ...   \n214377.0           2.752075           8.442993           0.071411   \n582025.0           3.955078           5.438232           6.448975   \n103246.0         357.940063         358.967285           6.141357   \n437268.0         356.753540          20.511475          16.940918   \n380729.0           1.230469           4.213257           2.642212   \n\n          f_7_EyeAnglePitch  f_8_EyeAnglePitch  f_9_EyeAnglePitch  \nTick                                                               \n297774.0         354.440918           5.471191         354.440918  \n186639.0         357.956543           2.142334           6.745605  \n597925.0           3.773804           2.812500           4.680176  \n202329.0           1.043701           1.263428          14.002075  \n310455.0           0.664673           1.153564         357.451172  \n...                     ...                ...                ...  \n214377.0           7.734375           1.290894           2.801514  \n582025.0           2.048950          10.629272           2.922363  \n103246.0           6.141357           0.906372         359.857178  \n437268.0          17.111206          16.798096          20.571899  \n380729.0         358.994751          19.923706          20.692749  \n\n[25511 rows x 20 columns]\n"
    }
   ],
   "source": [
    "# Test eye angle to direction conversion\n",
    "\n",
    "#l = ['f_0_PositionX','f_2_PositionX','f_0_DistanceToAlly_2','f_0_IsAlive']\n",
    "l = data_loader.get_feature_column_names('EyeAngleYaw') + data_loader.get_feature_column_names('EyeAnglePitch')\n",
    "fraction = sample_file.loc[:,l].sample(frac=1)\n",
    "\n",
    "\n",
    "l2 = preprocess.all_player_eyeAngles_to_direction_vec3(fraction, fraction.index[0])\n",
    "\n",
    "print(fraction)\n",
    "\n",
    "\n"
   ]
  },
  {
   "cell_type": "code",
   "execution_count": 8,
   "metadata": {},
   "outputs": [
    {
     "data": {
      "text/plain": "['Round',\n 'f_0_IsAlive',\n 'f_1_IsAlive',\n 'f_2_IsAlive',\n 'f_3_IsAlive',\n 'f_4_IsAlive',\n 'f_5_IsAlive',\n 'f_6_IsAlive',\n 'f_7_IsAlive',\n 'f_8_IsAlive',\n 'f_9_IsAlive',\n 'f_0_Health',\n 'f_1_Health',\n 'f_2_Health',\n 'f_3_Health',\n 'f_4_Health',\n 'f_5_Health',\n 'f_6_Health',\n 'f_7_Health',\n 'f_8_Health',\n 'f_9_Health',\n 'f_0_Armor',\n 'f_1_Armor',\n 'f_2_Armor',\n 'f_3_Armor',\n 'f_4_Armor',\n 'f_5_Armor',\n 'f_6_Armor',\n 'f_7_Armor',\n 'f_8_Armor',\n 'f_9_Armor',\n 'f_0_EquipmentValue',\n 'f_1_EquipmentValue',\n 'f_2_EquipmentValue',\n 'f_3_EquipmentValue',\n 'f_4_EquipmentValue',\n 'f_5_EquipmentValue',\n 'f_6_EquipmentValue',\n 'f_7_EquipmentValue',\n 'f_8_EquipmentValue',\n 'f_9_EquipmentValue',\n 'f_0_PositionX',\n 'f_1_PositionX',\n 'f_2_PositionX',\n 'f_3_PositionX',\n 'f_4_PositionX',\n 'f_5_PositionX',\n 'f_6_PositionX',\n 'f_7_PositionX',\n 'f_8_PositionX',\n 'f_9_PositionX',\n 'f_0_PositionY',\n 'f_1_PositionY',\n 'f_2_PositionY',\n 'f_3_PositionY',\n 'f_4_PositionY',\n 'f_5_PositionY',\n 'f_6_PositionY',\n 'f_7_PositionY',\n 'f_8_PositionY',\n 'f_9_PositionY',\n 'f_0_PositionZ',\n 'f_1_PositionZ',\n 'f_2_PositionZ',\n 'f_3_PositionZ',\n 'f_4_PositionZ',\n 'f_5_PositionZ',\n 'f_6_PositionZ',\n 'f_7_PositionZ',\n 'f_8_PositionZ',\n 'f_9_PositionZ',\n 'f_0_VelocityX',\n 'f_1_VelocityX',\n 'f_2_VelocityX',\n 'f_3_VelocityX',\n 'f_4_VelocityX',\n 'f_5_VelocityX',\n 'f_6_VelocityX',\n 'f_7_VelocityX',\n 'f_8_VelocityX',\n 'f_9_VelocityX',\n 'f_0_VelocityY',\n 'f_1_VelocityY',\n 'f_2_VelocityY',\n 'f_3_VelocityY',\n 'f_4_VelocityY',\n 'f_5_VelocityY',\n 'f_6_VelocityY',\n 'f_7_VelocityY',\n 'f_8_VelocityY',\n 'f_9_VelocityY',\n 'f_0_VelocityZ',\n 'f_1_VelocityZ',\n 'f_2_VelocityZ',\n 'f_3_VelocityZ',\n 'f_4_VelocityZ',\n 'f_5_VelocityZ',\n 'f_6_VelocityZ',\n 'f_7_VelocityZ',\n 'f_8_VelocityZ',\n 'f_9_VelocityZ',\n 'f_0_DistanceToAlly_1',\n 'f_1_DistanceToAlly_1',\n 'f_2_DistanceToAlly_1',\n 'f_3_DistanceToAlly_1',\n 'f_4_DistanceToAlly_1',\n 'f_5_DistanceToAlly_1',\n 'f_6_DistanceToAlly_1',\n 'f_7_DistanceToAlly_1',\n 'f_8_DistanceToAlly_1',\n 'f_9_DistanceToAlly_1',\n 'f_0_DistanceToAlly_2',\n 'f_1_DistanceToAlly_2',\n 'f_2_DistanceToAlly_2',\n 'f_3_DistanceToAlly_2',\n 'f_4_DistanceToAlly_2',\n 'f_5_DistanceToAlly_2',\n 'f_6_DistanceToAlly_2',\n 'f_7_DistanceToAlly_2',\n 'f_8_DistanceToAlly_2',\n 'f_9_DistanceToAlly_2',\n 'f_0_DistanceToAlly_3',\n 'f_1_DistanceToAlly_3',\n 'f_2_DistanceToAlly_3',\n 'f_3_DistanceToAlly_3',\n 'f_4_DistanceToAlly_3',\n 'f_5_DistanceToAlly_3',\n 'f_6_DistanceToAlly_3',\n 'f_7_DistanceToAlly_3',\n 'f_8_DistanceToAlly_3',\n 'f_9_DistanceToAlly_3',\n 'f_0_DistanceToAlly_4',\n 'f_1_DistanceToAlly_4',\n 'f_2_DistanceToAlly_4',\n 'f_3_DistanceToAlly_4',\n 'f_4_DistanceToAlly_4',\n 'f_5_DistanceToAlly_4',\n 'f_6_DistanceToAlly_4',\n 'f_7_DistanceToAlly_4',\n 'f_8_DistanceToAlly_4',\n 'f_9_DistanceToAlly_4',\n 'f_0_DistanceToEnemy_0',\n 'f_1_DistanceToEnemy_0',\n 'f_2_DistanceToEnemy_0',\n 'f_3_DistanceToEnemy_0',\n 'f_4_DistanceToEnemy_0',\n 'f_5_DistanceToEnemy_0',\n 'f_6_DistanceToEnemy_0',\n 'f_7_DistanceToEnemy_0',\n 'f_8_DistanceToEnemy_0',\n 'f_9_DistanceToEnemy_0',\n 'f_0_DistanceToEnemy_1',\n 'f_1_DistanceToEnemy_1',\n 'f_2_DistanceToEnemy_1',\n 'f_3_DistanceToEnemy_1',\n 'f_4_DistanceToEnemy_1',\n 'f_5_DistanceToEnemy_1',\n 'f_6_DistanceToEnemy_1',\n 'f_7_DistanceToEnemy_1',\n 'f_8_DistanceToEnemy_1',\n 'f_9_DistanceToEnemy_1',\n 'f_0_DistanceToEnemy_2',\n 'f_1_DistanceToEnemy_2',\n 'f_2_DistanceToEnemy_2',\n 'f_3_DistanceToEnemy_2',\n 'f_4_DistanceToEnemy_2',\n 'f_5_DistanceToEnemy_2',\n 'f_6_DistanceToEnemy_2',\n 'f_7_DistanceToEnemy_2',\n 'f_8_DistanceToEnemy_2',\n 'f_9_DistanceToEnemy_2',\n 'f_0_DistanceToEnemy_3',\n 'f_1_DistanceToEnemy_3',\n 'f_2_DistanceToEnemy_3',\n 'f_3_DistanceToEnemy_3',\n 'f_4_DistanceToEnemy_3',\n 'f_5_DistanceToEnemy_3',\n 'f_6_DistanceToEnemy_3',\n 'f_7_DistanceToEnemy_3',\n 'f_8_DistanceToEnemy_3',\n 'f_9_DistanceToEnemy_3',\n 'f_0_DistanceToEnemy_4',\n 'f_1_DistanceToEnemy_4',\n 'f_2_DistanceToEnemy_4',\n 'f_3_DistanceToEnemy_4',\n 'f_4_DistanceToEnemy_4',\n 'f_5_DistanceToEnemy_4',\n 'f_6_DistanceToEnemy_4',\n 'f_7_DistanceToEnemy_4',\n 'f_8_DistanceToEnemy_4',\n 'f_9_DistanceToEnemy_4',\n 'f_0_HasHelmet',\n 'f_1_HasHelmet',\n 'f_2_HasHelmet',\n 'f_3_HasHelmet',\n 'f_4_HasHelmet',\n 'f_5_HasHelmet',\n 'f_6_HasHelmet',\n 'f_7_HasHelmet',\n 'f_8_HasHelmet',\n 'f_9_HasHelmet',\n 'f_0_IsSpotted',\n 'f_1_IsSpotted',\n 'f_2_IsSpotted',\n 'f_3_IsSpotted',\n 'f_4_IsSpotted',\n 'f_5_IsSpotted',\n 'f_6_IsSpotted',\n 'f_7_IsSpotted',\n 'f_8_IsSpotted',\n 'f_9_IsSpotted',\n 'f_0_IsScoped',\n 'f_1_IsScoped',\n 'f_2_IsScoped',\n 'f_3_IsScoped',\n 'f_4_IsScoped',\n 'f_5_IsScoped',\n 'f_6_IsScoped',\n 'f_7_IsScoped',\n 'f_8_IsScoped',\n 'f_9_IsScoped',\n 'f_0_IsDefusing',\n 'f_1_IsDefusing',\n 'f_2_IsDefusing',\n 'f_3_IsDefusing',\n 'f_4_IsDefusing',\n 'f_5_IsDefusing',\n 'f_6_IsDefusing',\n 'f_7_IsDefusing',\n 'f_8_IsDefusing',\n 'f_9_IsDefusing',\n 'f_0_CurrentWeapon',\n 'f_1_CurrentWeapon',\n 'f_2_CurrentWeapon',\n 'f_3_CurrentWeapon',\n 'f_4_CurrentWeapon',\n 'f_5_CurrentWeapon',\n 'f_6_CurrentWeapon',\n 'f_7_CurrentWeapon',\n 'f_8_CurrentWeapon',\n 'f_9_CurrentWeapon',\n 'f_0_EyeAnglePitch',\n 'f_1_EyeAnglePitch',\n 'f_2_EyeAnglePitch',\n 'f_3_EyeAnglePitch',\n 'f_4_EyeAnglePitch',\n 'f_5_EyeAnglePitch',\n 'f_6_EyeAnglePitch',\n 'f_7_EyeAnglePitch',\n 'f_8_EyeAnglePitch',\n 'f_9_EyeAnglePitch',\n 'f_0_EyeAngleYaw',\n 'f_1_EyeAngleYaw',\n 'f_2_EyeAngleYaw',\n 'f_3_EyeAngleYaw',\n 'f_4_EyeAngleYaw',\n 'f_5_EyeAngleYaw',\n 'f_6_EyeAngleYaw',\n 'f_7_EyeAngleYaw',\n 'f_8_EyeAngleYaw',\n 'f_9_EyeAngleYaw']"
     },
     "execution_count": 8,
     "metadata": {},
     "output_type": "execute_result"
    }
   ],
   "source": [
    "list(sample_file.columns)"
   ]
  },
  {
   "cell_type": "code",
   "execution_count": 9,
   "metadata": {},
   "outputs": [
    {
     "name": "stdout",
     "output_type": "stream",
     "text": "['f_0_IsAlive', 'f_1_IsAlive', 'f_2_IsAlive', 'f_3_IsAlive', 'f_4_IsAlive', 'f_5_IsAlive', 'f_6_IsAlive', 'f_7_IsAlive', 'f_8_IsAlive', 'f_9_IsAlive', 'f_0_Health', 'f_1_Health', 'f_2_Health', 'f_3_Health', 'f_4_Health', 'f_5_Health', 'f_6_Health', 'f_7_Health', 'f_8_Health', 'f_9_Health', 'f_0_Armor', 'f_1_Armor', 'f_2_Armor', 'f_3_Armor', 'f_4_Armor', 'f_5_Armor', 'f_6_Armor', 'f_7_Armor', 'f_8_Armor', 'f_9_Armor', 'f_0_EquipmentValue', 'f_1_EquipmentValue', 'f_2_EquipmentValue', 'f_3_EquipmentValue', 'f_4_EquipmentValue', 'f_5_EquipmentValue', 'f_6_EquipmentValue', 'f_7_EquipmentValue', 'f_8_EquipmentValue', 'f_9_EquipmentValue', 'f_0_PositionX', 'f_1_PositionX', 'f_2_PositionX', 'f_3_PositionX', 'f_4_PositionX', 'f_5_PositionX', 'f_6_PositionX', 'f_7_PositionX', 'f_8_PositionX', 'f_9_PositionX', 'f_0_PositionY', 'f_1_PositionY', 'f_2_PositionY', 'f_3_PositionY', 'f_4_PositionY', 'f_5_PositionY', 'f_6_PositionY', 'f_7_PositionY', 'f_8_PositionY', 'f_9_PositionY', 'f_0_PositionZ', 'f_1_PositionZ', 'f_2_PositionZ', 'f_3_PositionZ', 'f_4_PositionZ', 'f_5_PositionZ', 'f_6_PositionZ', 'f_7_PositionZ', 'f_8_PositionZ', 'f_9_PositionZ', 'f_0_VelocityX', 'f_1_VelocityX', 'f_2_VelocityX', 'f_3_VelocityX', 'f_4_VelocityX', 'f_5_VelocityX', 'f_6_VelocityX', 'f_7_VelocityX', 'f_8_VelocityX', 'f_9_VelocityX', 'f_0_VelocityY', 'f_1_VelocityY', 'f_2_VelocityY', 'f_3_VelocityY', 'f_4_VelocityY', 'f_5_VelocityY', 'f_6_VelocityY', 'f_7_VelocityY', 'f_8_VelocityY', 'f_9_VelocityY', 'f_0_VelocityZ', 'f_1_VelocityZ', 'f_2_VelocityZ', 'f_3_VelocityZ', 'f_4_VelocityZ', 'f_5_VelocityZ', 'f_6_VelocityZ', 'f_7_VelocityZ', 'f_8_VelocityZ', 'f_9_VelocityZ', 'f_0_DistanceToAlly_1', 'f_1_DistanceToAlly_1', 'f_2_DistanceToAlly_1', 'f_3_DistanceToAlly_1', 'f_4_DistanceToAlly_1', 'f_5_DistanceToAlly_1', 'f_6_DistanceToAlly_1', 'f_7_DistanceToAlly_1', 'f_8_DistanceToAlly_1', 'f_9_DistanceToAlly_1', 'f_0_DistanceToAlly_2', 'f_1_DistanceToAlly_2', 'f_2_DistanceToAlly_2', 'f_3_DistanceToAlly_2', 'f_4_DistanceToAlly_2', 'f_5_DistanceToAlly_2', 'f_6_DistanceToAlly_2', 'f_7_DistanceToAlly_2', 'f_8_DistanceToAlly_2', 'f_9_DistanceToAlly_2', 'f_0_DistanceToAlly_3', 'f_1_DistanceToAlly_3', 'f_2_DistanceToAlly_3', 'f_3_DistanceToAlly_3', 'f_4_DistanceToAlly_3', 'f_5_DistanceToAlly_3', 'f_6_DistanceToAlly_3', 'f_7_DistanceToAlly_3', 'f_8_DistanceToAlly_3', 'f_9_DistanceToAlly_3', 'f_0_DistanceToAlly_4', 'f_1_DistanceToAlly_4', 'f_2_DistanceToAlly_4', 'f_3_DistanceToAlly_4', 'f_4_DistanceToAlly_4', 'f_5_DistanceToAlly_4', 'f_6_DistanceToAlly_4', 'f_7_DistanceToAlly_4', 'f_8_DistanceToAlly_4', 'f_9_DistanceToAlly_4', 'f_0_DistanceToEnemy_0', 'f_1_DistanceToEnemy_0', 'f_2_DistanceToEnemy_0', 'f_3_DistanceToEnemy_0', 'f_4_DistanceToEnemy_0', 'f_5_DistanceToEnemy_0', 'f_6_DistanceToEnemy_0', 'f_7_DistanceToEnemy_0', 'f_8_DistanceToEnemy_0', 'f_9_DistanceToEnemy_0', 'f_0_DistanceToEnemy_1', 'f_1_DistanceToEnemy_1', 'f_2_DistanceToEnemy_1', 'f_3_DistanceToEnemy_1', 'f_4_DistanceToEnemy_1', 'f_5_DistanceToEnemy_1', 'f_6_DistanceToEnemy_1', 'f_7_DistanceToEnemy_1', 'f_8_DistanceToEnemy_1', 'f_9_DistanceToEnemy_1', 'f_0_DistanceToEnemy_2', 'f_1_DistanceToEnemy_2', 'f_2_DistanceToEnemy_2', 'f_3_DistanceToEnemy_2', 'f_4_DistanceToEnemy_2', 'f_5_DistanceToEnemy_2', 'f_6_DistanceToEnemy_2', 'f_7_DistanceToEnemy_2', 'f_8_DistanceToEnemy_2', 'f_9_DistanceToEnemy_2', 'f_0_DistanceToEnemy_3', 'f_1_DistanceToEnemy_3', 'f_2_DistanceToEnemy_3', 'f_3_DistanceToEnemy_3', 'f_4_DistanceToEnemy_3', 'f_5_DistanceToEnemy_3', 'f_6_DistanceToEnemy_3', 'f_7_DistanceToEnemy_3', 'f_8_DistanceToEnemy_3', 'f_9_DistanceToEnemy_3', 'f_0_DistanceToEnemy_4', 'f_1_DistanceToEnemy_4', 'f_2_DistanceToEnemy_4', 'f_3_DistanceToEnemy_4', 'f_4_DistanceToEnemy_4', 'f_5_DistanceToEnemy_4', 'f_6_DistanceToEnemy_4', 'f_7_DistanceToEnemy_4', 'f_8_DistanceToEnemy_4', 'f_9_DistanceToEnemy_4', 'f_0_HasHelmet', 'f_1_HasHelmet', 'f_2_HasHelmet', 'f_3_HasHelmet', 'f_4_HasHelmet', 'f_5_HasHelmet', 'f_6_HasHelmet', 'f_7_HasHelmet', 'f_8_HasHelmet', 'f_9_HasHelmet', 'f_0_IsSpotted', 'f_1_IsSpotted', 'f_2_IsSpotted', 'f_3_IsSpotted', 'f_4_IsSpotted', 'f_5_IsSpotted', 'f_6_IsSpotted', 'f_7_IsSpotted', 'f_8_IsSpotted', 'f_9_IsSpotted', 'f_0_IsScoped', 'f_1_IsScoped', 'f_2_IsScoped', 'f_3_IsScoped', 'f_4_IsScoped', 'f_5_IsScoped', 'f_6_IsScoped', 'f_7_IsScoped', 'f_8_IsScoped', 'f_9_IsScoped', 'f_0_IsDefusing', 'f_1_IsDefusing', 'f_2_IsDefusing', 'f_3_IsDefusing', 'f_4_IsDefusing', 'f_5_IsDefusing', 'f_6_IsDefusing', 'f_7_IsDefusing', 'f_8_IsDefusing', 'f_9_IsDefusing', 'f_0_Weapon_1', 'f_1_Weapon_1', 'f_2_Weapon_1', 'f_3_Weapon_1', 'f_4_Weapon_1', 'f_5_Weapon_1', 'f_6_Weapon_1', 'f_7_Weapon_1', 'f_8_Weapon_1', 'f_9_Weapon_1', 'f_0_Weapon_2', 'f_1_Weapon_2', 'f_2_Weapon_2', 'f_3_Weapon_2', 'f_4_Weapon_2', 'f_5_Weapon_2', 'f_6_Weapon_2', 'f_7_Weapon_2', 'f_8_Weapon_2', 'f_9_Weapon_2', 'f_0_Weapon_3', 'f_1_Weapon_3', 'f_2_Weapon_3', 'f_3_Weapon_3', 'f_4_Weapon_3', 'f_5_Weapon_3', 'f_6_Weapon_3', 'f_7_Weapon_3', 'f_8_Weapon_3', 'f_9_Weapon_3', 'f_0_Weapon_4', 'f_1_Weapon_4', 'f_2_Weapon_4', 'f_3_Weapon_4', 'f_4_Weapon_4', 'f_5_Weapon_4', 'f_6_Weapon_4', 'f_7_Weapon_4', 'f_8_Weapon_4', 'f_9_Weapon_4', 'f_0_Weapon_7', 'f_1_Weapon_7', 'f_2_Weapon_7', 'f_3_Weapon_7', 'f_4_Weapon_7', 'f_5_Weapon_7', 'f_6_Weapon_7', 'f_7_Weapon_7', 'f_8_Weapon_7', 'f_9_Weapon_7', 'f_0_Weapon_8', 'f_1_Weapon_8', 'f_2_Weapon_8', 'f_3_Weapon_8', 'f_4_Weapon_8', 'f_5_Weapon_8', 'f_6_Weapon_8', 'f_7_Weapon_8', 'f_8_Weapon_8', 'f_9_Weapon_8', 'f_0_Weapon_9', 'f_1_Weapon_9', 'f_2_Weapon_9', 'f_3_Weapon_9', 'f_4_Weapon_9', 'f_5_Weapon_9', 'f_6_Weapon_9', 'f_7_Weapon_9', 'f_8_Weapon_9', 'f_9_Weapon_9', 'f_0_Weapon_10', 'f_1_Weapon_10', 'f_2_Weapon_10', 'f_3_Weapon_10', 'f_4_Weapon_10', 'f_5_Weapon_10', 'f_6_Weapon_10', 'f_7_Weapon_10', 'f_8_Weapon_10', 'f_9_Weapon_10', 'f_0_Weapon_11', 'f_1_Weapon_11', 'f_2_Weapon_11', 'f_3_Weapon_11', 'f_4_Weapon_11', 'f_5_Weapon_11', 'f_6_Weapon_11', 'f_7_Weapon_11', 'f_8_Weapon_11', 'f_9_Weapon_11', 'f_0_Weapon_13', 'f_1_Weapon_13', 'f_2_Weapon_13', 'f_3_Weapon_13', 'f_4_Weapon_13', 'f_5_Weapon_13', 'f_6_Weapon_13', 'f_7_Weapon_13', 'f_8_Weapon_13', 'f_9_Weapon_13', 'f_0_Weapon_14', 'f_1_Weapon_14', 'f_2_Weapon_14', 'f_3_Weapon_14', 'f_4_Weapon_14', 'f_5_Weapon_14', 'f_6_Weapon_14', 'f_7_Weapon_14', 'f_8_Weapon_14', 'f_9_Weapon_14', 'f_0_Weapon_16', 'f_1_Weapon_16', 'f_2_Weapon_16', 'f_3_Weapon_16', 'f_4_Weapon_16', 'f_5_Weapon_16', 'f_6_Weapon_16', 'f_7_Weapon_16', 'f_8_Weapon_16', 'f_9_Weapon_16', 'f_0_Weapon_17', 'f_1_Weapon_17', 'f_2_Weapon_17', 'f_3_Weapon_17', 'f_4_Weapon_17', 'f_5_Weapon_17', 'f_6_Weapon_17', 'f_7_Weapon_17', 'f_8_Weapon_17', 'f_9_Weapon_17', 'f_0_Weapon_19', 'f_1_Weapon_19', 'f_2_Weapon_19', 'f_3_Weapon_19', 'f_4_Weapon_19', 'f_5_Weapon_19', 'f_6_Weapon_19', 'f_7_Weapon_19', 'f_8_Weapon_19', 'f_9_Weapon_19', 'f_0_Weapon_23', 'f_1_Weapon_23', 'f_2_Weapon_23', 'f_3_Weapon_23', 'f_4_Weapon_23', 'f_5_Weapon_23', 'f_6_Weapon_23', 'f_7_Weapon_23', 'f_8_Weapon_23', 'f_9_Weapon_23', 'f_0_Weapon_24', 'f_1_Weapon_24', 'f_2_Weapon_24', 'f_3_Weapon_24', 'f_4_Weapon_24', 'f_5_Weapon_24', 'f_6_Weapon_24', 'f_7_Weapon_24', 'f_8_Weapon_24', 'f_9_Weapon_24', 'f_0_Weapon_25', 'f_1_Weapon_25', 'f_2_Weapon_25', 'f_3_Weapon_25', 'f_4_Weapon_25', 'f_5_Weapon_25', 'f_6_Weapon_25', 'f_7_Weapon_25', 'f_8_Weapon_25', 'f_9_Weapon_25', 'f_0_Weapon_26', 'f_1_Weapon_26', 'f_2_Weapon_26', 'f_3_Weapon_26', 'f_4_Weapon_26', 'f_5_Weapon_26', 'f_6_Weapon_26', 'f_7_Weapon_26', 'f_8_Weapon_26', 'f_9_Weapon_26', 'f_0_Weapon_27', 'f_1_Weapon_27', 'f_2_Weapon_27', 'f_3_Weapon_27', 'f_4_Weapon_27', 'f_5_Weapon_27', 'f_6_Weapon_27', 'f_7_Weapon_27', 'f_8_Weapon_27', 'f_9_Weapon_27', 'f_0_Weapon_28', 'f_1_Weapon_28', 'f_2_Weapon_28', 'f_3_Weapon_28', 'f_4_Weapon_28', 'f_5_Weapon_28', 'f_6_Weapon_28', 'f_7_Weapon_28', 'f_8_Weapon_28', 'f_9_Weapon_28', 'f_0_Weapon_29', 'f_1_Weapon_29', 'f_2_Weapon_29', 'f_3_Weapon_29', 'f_4_Weapon_29', 'f_5_Weapon_29', 'f_6_Weapon_29', 'f_7_Weapon_29', 'f_8_Weapon_29', 'f_9_Weapon_29', 'f_0_Weapon_30', 'f_1_Weapon_30', 'f_2_Weapon_30', 'f_3_Weapon_30', 'f_4_Weapon_30', 'f_5_Weapon_30', 'f_6_Weapon_30', 'f_7_Weapon_30', 'f_8_Weapon_30', 'f_9_Weapon_30', 'f_0_Weapon_31', 'f_1_Weapon_31', 'f_2_Weapon_31', 'f_3_Weapon_31', 'f_4_Weapon_31', 'f_5_Weapon_31', 'f_6_Weapon_31', 'f_7_Weapon_31', 'f_8_Weapon_31', 'f_9_Weapon_31', 'f_0_Weapon_32', 'f_1_Weapon_32', 'f_2_Weapon_32', 'f_3_Weapon_32', 'f_4_Weapon_32', 'f_5_Weapon_32', 'f_6_Weapon_32', 'f_7_Weapon_32', 'f_8_Weapon_32', 'f_9_Weapon_32', 'f_0_Weapon_33', 'f_1_Weapon_33', 'f_2_Weapon_33', 'f_3_Weapon_33', 'f_4_Weapon_33', 'f_5_Weapon_33', 'f_6_Weapon_33', 'f_7_Weapon_33', 'f_8_Weapon_33', 'f_9_Weapon_33', 'f_0_Weapon_34', 'f_1_Weapon_34', 'f_2_Weapon_34', 'f_3_Weapon_34', 'f_4_Weapon_34', 'f_5_Weapon_34', 'f_6_Weapon_34', 'f_7_Weapon_34', 'f_8_Weapon_34', 'f_9_Weapon_34', 'f_0_Weapon_35', 'f_1_Weapon_35', 'f_2_Weapon_35', 'f_3_Weapon_35', 'f_4_Weapon_35', 'f_5_Weapon_35', 'f_6_Weapon_35', 'f_7_Weapon_35', 'f_8_Weapon_35', 'f_9_Weapon_35', 'f_0_Weapon_36', 'f_1_Weapon_36', 'f_2_Weapon_36', 'f_3_Weapon_36', 'f_4_Weapon_36', 'f_5_Weapon_36', 'f_6_Weapon_36', 'f_7_Weapon_36', 'f_8_Weapon_36', 'f_9_Weapon_36', 'f_0_Weapon_38', 'f_1_Weapon_38', 'f_2_Weapon_38', 'f_3_Weapon_38', 'f_4_Weapon_38', 'f_5_Weapon_38', 'f_6_Weapon_38', 'f_7_Weapon_38', 'f_8_Weapon_38', 'f_9_Weapon_38', 'f_0_Weapon_39', 'f_1_Weapon_39', 'f_2_Weapon_39', 'f_3_Weapon_39', 'f_4_Weapon_39', 'f_5_Weapon_39', 'f_6_Weapon_39', 'f_7_Weapon_39', 'f_8_Weapon_39', 'f_9_Weapon_39', 'f_0_Weapon_40', 'f_1_Weapon_40', 'f_2_Weapon_40', 'f_3_Weapon_40', 'f_4_Weapon_40', 'f_5_Weapon_40', 'f_6_Weapon_40', 'f_7_Weapon_40', 'f_8_Weapon_40', 'f_9_Weapon_40', 'f_0_Weapon_42', 'f_1_Weapon_42', 'f_2_Weapon_42', 'f_3_Weapon_42', 'f_4_Weapon_42', 'f_5_Weapon_42', 'f_6_Weapon_42', 'f_7_Weapon_42', 'f_8_Weapon_42', 'f_9_Weapon_42', 'f_0_Weapon_43', 'f_1_Weapon_43', 'f_2_Weapon_43', 'f_3_Weapon_43', 'f_4_Weapon_43', 'f_5_Weapon_43', 'f_6_Weapon_43', 'f_7_Weapon_43', 'f_8_Weapon_43', 'f_9_Weapon_43', 'f_0_Weapon_44', 'f_1_Weapon_44', 'f_2_Weapon_44', 'f_3_Weapon_44', 'f_4_Weapon_44', 'f_5_Weapon_44', 'f_6_Weapon_44', 'f_7_Weapon_44', 'f_8_Weapon_44', 'f_9_Weapon_44', 'f_0_Weapon_45', 'f_1_Weapon_45', 'f_2_Weapon_45', 'f_3_Weapon_45', 'f_4_Weapon_45', 'f_5_Weapon_45', 'f_6_Weapon_45', 'f_7_Weapon_45', 'f_8_Weapon_45', 'f_9_Weapon_45', 'f_0_Weapon_46', 'f_1_Weapon_46', 'f_2_Weapon_46', 'f_3_Weapon_46', 'f_4_Weapon_46', 'f_5_Weapon_46', 'f_6_Weapon_46', 'f_7_Weapon_46', 'f_8_Weapon_46', 'f_9_Weapon_46', 'f_0_Weapon_47', 'f_1_Weapon_47', 'f_2_Weapon_47', 'f_3_Weapon_47', 'f_4_Weapon_47', 'f_5_Weapon_47', 'f_6_Weapon_47', 'f_7_Weapon_47', 'f_8_Weapon_47', 'f_9_Weapon_47', 'f_0_Weapon_48', 'f_1_Weapon_48', 'f_2_Weapon_48', 'f_3_Weapon_48', 'f_4_Weapon_48', 'f_5_Weapon_48', 'f_6_Weapon_48', 'f_7_Weapon_48', 'f_8_Weapon_48', 'f_9_Weapon_48', 'f_0_Weapon_49', 'f_1_Weapon_49', 'f_2_Weapon_49', 'f_3_Weapon_49', 'f_4_Weapon_49', 'f_5_Weapon_49', 'f_6_Weapon_49', 'f_7_Weapon_49', 'f_8_Weapon_49', 'f_9_Weapon_49', 'f_0_Weapon_60', 'f_1_Weapon_60', 'f_2_Weapon_60', 'f_3_Weapon_60', 'f_4_Weapon_60', 'f_5_Weapon_60', 'f_6_Weapon_60', 'f_7_Weapon_60', 'f_8_Weapon_60', 'f_9_Weapon_60', 'f_0_Weapon_61', 'f_1_Weapon_61', 'f_2_Weapon_61', 'f_3_Weapon_61', 'f_4_Weapon_61', 'f_5_Weapon_61', 'f_6_Weapon_61', 'f_7_Weapon_61', 'f_8_Weapon_61', 'f_9_Weapon_61', 'f_0_Weapon_63', 'f_1_Weapon_63', 'f_2_Weapon_63', 'f_3_Weapon_63', 'f_4_Weapon_63', 'f_5_Weapon_63', 'f_6_Weapon_63', 'f_7_Weapon_63', 'f_8_Weapon_63', 'f_9_Weapon_63', 'f_0_Weapon_64', 'f_1_Weapon_64', 'f_2_Weapon_64', 'f_3_Weapon_64', 'f_4_Weapon_64', 'f_5_Weapon_64', 'f_6_Weapon_64', 'f_7_Weapon_64', 'f_8_Weapon_64', 'f_9_Weapon_64', 'f_0_AimOnEnemy_0', 'f_1_AimOnEnemy_0', 'f_2_AimOnEnemy_0', 'f_3_AimOnEnemy_0', 'f_4_AimOnEnemy_0', 'f_5_AimOnEnemy_0', 'f_6_AimOnEnemy_0', 'f_7_AimOnEnemy_0', 'f_8_AimOnEnemy_0', 'f_9_AimOnEnemy_0', 'f_0_AimOnEnemy_1', 'f_1_AimOnEnemy_1', 'f_2_AimOnEnemy_1', 'f_3_AimOnEnemy_1', 'f_4_AimOnEnemy_1', 'f_5_AimOnEnemy_1', 'f_6_AimOnEnemy_1', 'f_7_AimOnEnemy_1', 'f_8_AimOnEnemy_1', 'f_9_AimOnEnemy_1', 'f_0_AimOnEnemy_2', 'f_1_AimOnEnemy_2', 'f_2_AimOnEnemy_2', 'f_3_AimOnEnemy_2', 'f_4_AimOnEnemy_2', 'f_5_AimOnEnemy_2', 'f_6_AimOnEnemy_2', 'f_7_AimOnEnemy_2', 'f_8_AimOnEnemy_2', 'f_9_AimOnEnemy_2', 'f_0_AimOnEnemy_3', 'f_1_AimOnEnemy_3', 'f_2_AimOnEnemy_3', 'f_3_AimOnEnemy_3', 'f_4_AimOnEnemy_3', 'f_5_AimOnEnemy_3', 'f_6_AimOnEnemy_3', 'f_7_AimOnEnemy_3', 'f_8_AimOnEnemy_3', 'f_9_AimOnEnemy_3', 'f_0_AimOnEnemy_4', 'f_1_AimOnEnemy_4', 'f_2_AimOnEnemy_4', 'f_3_AimOnEnemy_4', 'f_4_AimOnEnemy_4', 'f_5_AimOnEnemy_4', 'f_6_AimOnEnemy_4', 'f_7_AimOnEnemy_4', 'f_8_AimOnEnemy_4', 'f_9_AimOnEnemy_4']\n710\n"
    }
   ],
   "source": [
    "lst = data_loader.get_column_names_from_features_set(\"training_all\")\n",
    "print(lst)\n",
    "print(len(lst))"
   ]
  },
  {
   "cell_type": "code",
   "execution_count": 10,
   "metadata": {},
   "outputs": [
    {
     "name": "stdout",
     "output_type": "stream",
     "text": "[{'id': 'Weapon_1', 'title': 'Weapon_1', 'type': 'float32'}, {'id': 'Weapon_2', 'title': 'Weapon_2', 'type': 'float32'}, {'id': 'Weapon_3', 'title': 'Weapon_3', 'type': 'float32'}, {'id': 'Weapon_4', 'title': 'Weapon_4', 'type': 'float32'}, {'id': 'Weapon_7', 'title': 'Weapon_7', 'type': 'float32'}, {'id': 'Weapon_8', 'title': 'Weapon_8', 'type': 'float32'}, {'id': 'Weapon_9', 'title': 'Weapon_9', 'type': 'float32'}, {'id': 'Weapon_10', 'title': 'Weapon_10', 'type': 'float32'}, {'id': 'Weapon_11', 'title': 'Weapon_11', 'type': 'float32'}, {'id': 'Weapon_13', 'title': 'Weapon_13', 'type': 'float32'}, {'id': 'Weapon_14', 'title': 'Weapon_14', 'type': 'float32'}, {'id': 'Weapon_16', 'title': 'Weapon_16', 'type': 'float32'}, {'id': 'Weapon_17', 'title': 'Weapon_17', 'type': 'float32'}, {'id': 'Weapon_19', 'title': 'Weapon_19', 'type': 'float32'}, {'id': 'Weapon_23', 'title': 'Weapon_23', 'type': 'float32'}, {'id': 'Weapon_24', 'title': 'Weapon_24', 'type': 'float32'}, {'id': 'Weapon_25', 'title': 'Weapon_25', 'type': 'float32'}, {'id': 'Weapon_26', 'title': 'Weapon_26', 'type': 'float32'}, {'id': 'Weapon_27', 'title': 'Weapon_27', 'type': 'float32'}, {'id': 'Weapon_28', 'title': 'Weapon_28', 'type': 'float32'}, {'id': 'Weapon_29', 'title': 'Weapon_29', 'type': 'float32'}, {'id': 'Weapon_30', 'title': 'Weapon_30', 'type': 'float32'}, {'id': 'Weapon_31', 'title': 'Weapon_31', 'type': 'float32'}, {'id': 'Weapon_32', 'title': 'Weapon_32', 'type': 'float32'}, {'id': 'Weapon_33', 'title': 'Weapon_33', 'type': 'float32'}, {'id': 'Weapon_34', 'title': 'Weapon_34', 'type': 'float32'}, {'id': 'Weapon_35', 'title': 'Weapon_35', 'type': 'float32'}, {'id': 'Weapon_36', 'title': 'Weapon_36', 'type': 'float32'}, {'id': 'Weapon_38', 'title': 'Weapon_38', 'type': 'float32'}, {'id': 'Weapon_39', 'title': 'Weapon_39', 'type': 'float32'}, {'id': 'Weapon_40', 'title': 'Weapon_40', 'type': 'float32'}, {'id': 'Weapon_42', 'title': 'Weapon_42', 'type': 'float32'}, {'id': 'Weapon_43', 'title': 'Weapon_43', 'type': 'float32'}, {'id': 'Weapon_44', 'title': 'Weapon_44', 'type': 'float32'}, {'id': 'Weapon_45', 'title': 'Weapon_45', 'type': 'float32'}, {'id': 'Weapon_46', 'title': 'Weapon_46', 'type': 'float32'}, {'id': 'Weapon_47', 'title': 'Weapon_47', 'type': 'float32'}, {'id': 'Weapon_48', 'title': 'Weapon_48', 'type': 'float32'}, {'id': 'Weapon_49', 'title': 'Weapon_49', 'type': 'float32'}, {'id': 'Weapon_60', 'title': 'Weapon_60', 'type': 'float32'}, {'id': 'Weapon_61', 'title': 'Weapon_61', 'type': 'float32'}, {'id': 'Weapon_63', 'title': 'Weapon_63', 'type': 'float32'}, {'id': 'Weapon_64', 'title': 'Weapon_64', 'type': 'float32'}]\n"
    }
   ],
   "source": [
    "res = map(lambda name: name.replace('f_0_',''),filter(lambda a: a.startswith('f_0'),data_loader.get_one_hot_encoded_weapon_feature_names()))\n",
    "\n",
    "obj_arr = []\n",
    "for name in list(res):\n",
    "    obj_arr.append({\n",
    "        \"id\": name,\n",
    "        \"title\": name[:1].upper() + name[1:],\n",
    "        \"type\": \"float32\"\n",
    "    })\n",
    "\n",
    "print(obj_arr)"
   ]
  },
  {
   "cell_type": "code",
   "execution_count": 16,
   "metadata": {},
   "outputs": [
    {
     "name": "stdout",
     "output_type": "stream",
     "text": " parsed\n117210.0 tick is parsed\n117226.0 tick is parsed\n117242.0 tick is parsed\n117258.0 tick is parsed\n117274.0 tick is parsed\n117290.0 tick is parsed\n117306.0 tick is parsed\n117322.0 tick is parsed\n117338.0 tick is parsed\n117354.0 tick is parsed\n117370.0 tick is parsed\n117386.0 tick is parsed\n117402.0 tick is parsed\n117418.0 tick is parsed\n117434.0 tick is parsed\n117450.0 tick is parsed\n117466.0 tick is parsed\n117482.0 tick is parsed\n117498.0 tick is parsed\n117514.0 tick is parsed\n117530.0 tick is parsed\n117546.0 tick is parsed\n117562.0 tick is parsed\n117578.0 tick is parsed\n117594.0 tick is parsed\n117610.0 tick is parsed\n117626.0 tick is parsed\n117642.0 tick is parsed\n117658.0 tick is parsed\n117674.0 tick is parsed\n117690.0 tick is parsed\n117706.0 tick is parsed\n117722.0 tick is parsed\n117738.0 tick is parsed\n117754.0 tick is parsed\n117770.0 tick is parsed\n117786.0 tick is parsed\n117802.0 tick is parsed\n117818.0 tick is parsed\n117834.0 tick is parsed\n117850.0 tick is parsed\n117866.0 tick is parsed\n117882.0 tick is parsed\n117898.0 tick is parsed\n117914.0 tick is parsed\n117930.0 tick is parsed\n117946.0 tick is parsed\n117962.0 tick is parsed\n117978.0 tick is parsed\n117994.0 tick is parsed\n118010.0 tick is parsed\n118026.0 tick is parsed\n118042.0 tick is parsed\n118058.0 tick is parsed\n118074.0 tick is parsed\n118090.0 tick is parsed\n118106.0 tick is parsed\n118122.0 tick is parsed\n118138.0 tick is parsed\n118154.0 tick is parsed\n118170.0 tick is parsed\n118186.0 tick is parsed\n118202.0 tick is parsed\n118218.0 tick is parsed\n118234.0 tick is parsed\n118250.0 tick is parsed\n118266.0 tick is parsed\n118282.0 tick is parsed\n118298.0 tick is parsed\n118314.0 tick is parsed\n118330.0 tick is parsed\n118346.0 tick is parsed\n118362.0 tick is parsed\n118378.0 tick is parsed\n118394.0 tick is parsed\n118410.0 tick is parsed\n118426.0 tick is parsed\n118442.0 tick is parsed\n118458.0 tick is parsed\n118474.0 tick is parsed\n118490.0 tick is parsed\n118506.0 tick is parsed\n118522.0 tick is parsed\n118538.0 tick is parsed\n118554.0 tick is parsed\n118570.0 tick is parsed\n118586.0 tick is parsed\n118602.0 tick is parsed\n118618.0 tick is parsed\n118634.0 tick is parsed\n118650.0 tick is parsed\n118666.0 tick is parsed\n118682.0 tick is parsed\n118698.0 tick is parsed\n118714.0 tick is parsed\n118730.0 tick is parsed\n118746.0 tick is parsed\n118762.0 tick is parsed\n118778.0 tick is parsed\n118794.0 tick is parsed\n118810.0 tick is parsed\n118826.0 tick is parsed\n118842.0 tick is parsed\n118858.0 tick is parsed\n118874.0 tick is parsed\n118890.0 tick is parsed\n118906.0 tick is parsed\n118922.0 tick is parsed\n118938.0 tick is parsed\n118954.0 tick is parsed\n118970.0 tick is parsed\n118986.0 tick is parsed\n119002.0 tick is parsed\n119018.0 tick is parsed\n119034.0 tick is parsed\n119050.0 tick is parsed\n119066.0 tick is parsed\n119082.0 tick is parsed\n119098.0 tick is parsed\n119114.0 tick is parsed\n119130.0 tick is parsed\n119146.0 tick is parsed\n119162.0 tick is parsed\n119178.0 tick is parsed\n119194.0 tick is parsed\n119210.0 tick is parsed\n119226.0 tick is parsed\n119242.0 tick is parsed\n119258.0 tick is parsed\n119274.0 tick is parsed\n119290.0 tick is parsed\n119306.0 tick is parsed\n119322.0 tick is parsed\n119338.0 tick is parsed\n119354.0 tick is parsed\n119370.0 tick is parsed\n119386.0 tick is parsed\n119402.0 tick is parsed\n119418.0 tick is parsed\n119434.0 tick is parsed\n119450.0 tick is parsed\n119466.0 tick is parsed\n119482.0 tick is parsed\n119498.0 tick is parsed\n119514.0 tick is parsed\n119530.0 tick is parsed\n119546.0 tick is parsed\n119562.0 tick is parsed\n119578.0 tick is parsed\n119594.0 tick is parsed\n119610.0 tick is parsed\n119626.0 tick is parsed\n119642.0 tick is parsed\n119658.0 tick is parsed\n119674.0 tick is parsed\n119690.0 tick is parsed\n119706.0 tick is parsed\n119722.0 tick is parsed\n119738.0 tick is parsed\n119754.0 tick is parsed\n119770.0 tick is parsed\n119786.0 tick is parsed\n119802.0 tick is parsed\n119818.0 tick is parsed\n119834.0 tick is parsed\n119850.0 tick is parsed\n119866.0 tick is parsed\n119882.0 tick is parsed\n119898.0 tick is parsed\n119914.0 tick is parsed\n119930.0 tick is parsed\n119946.0 tick is parsed\n119962.0 tick is parsed\n119978.0 tick is parsed\n119994.0 tick is parsed\n120010.0 tick is parsed\n120026.0 tick is parsed\n120042.0 tick is parsed\n120058.0 tick is parsed\n120074.0 tick is parsed\n120090.0 tick is parsed\n120106.0 tick is parsed\n120122.0 tick is parsed\n120138.0 tick is parsed\n120154.0 tick is parsed\n120170.0 tick is parsed\n120186.0 tick is parsed\n120202.0 tick is parsed\n120218.0 tick is parsed\n120234.0 tick is parsed\n120250.0 tick is parsed\n120266.0 tick is parsed\n120282.0 tick is parsed\n120298.0 tick is parsed\n120314.0 tick is parsed\n120330.0 tick is parsed\n120346.0 tick is parsed\n120362.0 tick is parsed\n120378.0 tick is parsed\n120394.0 tick is parsed\n120410.0 tick is parsed\n120426.0 tick is parsed\n120442.0 tick is parsed\n120458.0 tick is parsed\n120474.0 tick is parsed\n120490.0 tick is parsed\n120506.0 tick is parsed\n120522.0 tick is parsed\n120538.0 tick is parsed\n120554.0 tick is parsed\n120570.0 tick is parsed\n120586.0 tick is parsed\n120602.0 tick is parsed\n120618.0 tick is parsed\n120634.0 tick is parsed\n120650.0 tick is parsed\n120666.0 tick is parsed\n120682.0 tick is parsed\n120698.0 tick is parsed\n120714.0 tick is parsed\n120730.0 tick is parsed\n120746.0 tick is parsed\n120763.0 tick is parsed\n120779.0 tick is parsed\n120795.0 tick is parsed\n120811.0 tick is parsed\n120827.0 tick is parsed\n120843.0 tick is parsed\n120859.0 tick is parsed\n120875.0 tick is parsed\n120891.0 tick is parsed\n120907.0 tick is parsed\n120923.0 tick is parsed\n120939.0 tick is parsed\n120955.0 tick is parsed\n120971.0 tick is parsed\n120987.0 tick is parsed\n121003.0 tick is parsed\n121019.0 tick is parsed\n121035.0 tick is parsed\n121051.0 tick is parsed\n121067.0 tick is parsed\n121083.0 tick is parsed\n121099.0 tick is parsed\n121115.0 tick is parsed\n121131.0 tick is parsed\n121147.0 tick is parsed\n121163.0 tick is parsed\n121179.0 tick is parsed\n121195.0 tick is parsed\n121211.0 tick is parsed\n121227.0 tick is parsed\n121243.0 tick is parsed\n121259.0 tick is parsed\n121275.0 tick is parsed\n121291.0 tick is parsed\n121307.0 tick is parsed\n121323.0 tick is parsed\n121339.0 tick is parsed\n121355.0 tick is parsed\n121371.0 tick is parsed\n123957.0 tick is parsed\n123973.0 tick is parsed\n123989.0 tick is parsed\n124005.0 tick is parsed\n124021.0 tick is parsed\n124037.0 tick is parsed\n124053.0 tick is parsed\n124069.0 tick is parsed\n124085.0 tick is parsed\n124101.0 tick is parsed\n124117.0 tick is parsed\n124133.0 tick is parsed\n124149.0 tick is parsed\n124165.0 tick is parsed\n124181.0 tick is parsed\n124197.0 tick is parsed\n124213.0 tick is parsed\n124229.0 tick is parsed\n124245.0 tick is parsed\n124261.0 tick is parsed\n124277.0 tick is parsed\n124293.0 tick is parsed\n124309.0 tick is parsed\n124325.0 tick is parsed\n124341.0 tick is parsed\n124357.0 tick is parsed\n124373.0 tick is parsed\n124389.0 tick is parsed\n124405.0 tick is parsed\n124421.0 tick is parsed\n124437.0 tick is parsed\n124453.0 tick is parsed\n124469.0 tick is parsed\n124485.0 tick is parsed\n124501.0 tick is parsed\n124517.0 tick is parsed\n124533.0 tick is parsed\n124549.0 tick is parsed\n124565.0 tick is parsed\n124581.0 tick is parsed\n124597.0 tick is parsed\n124613.0 tick is parsed\n124629.0 tick is parsed\n124645.0 tick is parsed\n124661.0 tick is parsed\n124677.0 tick is parsed\n124693.0 tick is parsed\n124709.0 tick is parsed\n124725.0 tick is parsed\n124741.0 tick is parsed\n124757.0 tick is parsed\n124773.0 tick is parsed\n124789.0 tick is parsed\n124805.0 tick is parsed\n124821.0 tick is parsed\n124837.0 tick is parsed\n124853.0 tick is parsed\n124869.0 tick is parsed\n124885.0 tick is parsed\n124901.0 tick is parsed\n124917.0 tick is parsed\n124933.0 tick is parsed\n124949.0 tick is parsed\n124965.0 tick is parsed\n124981.0 tick is parsed\n124997.0 tick is parsed\n125013.0 tick is parsed\n125029.0 tick is parsed\n125045.0 tick is parsed\n125061.0 tick is parsed\n125077.0 tick is parsed\n125093.0 tick is parsed\n125109.0 tick is parsed\n125125.0 tick is parsed\n125141.0 tick is parsed\n125157.0 tick is parsed\n125173.0 tick is parsed\n125189.0 tick is parsed\n125205.0 tick is parsed\n125221.0 tick is parsed\n125237.0 tick is parsed\n125253.0 tick is parsed\n125269.0 tick is parsed\n125285.0 tick is parsed\n125301.0 tick is parsed\n125317.0 tick is parsed\n125333.0 tick is parsed\n125349.0 tick is parsed\n125365.0 tick is parsed\n125381.0 tick is parsed\n125397.0 tick is parsed\n125413.0 tick is parsed\n125429.0 tick is parsed\n125445.0 tick is parsed\n125461.0 tick is parsed\n125477.0 tick is parsed\n125493.0 tick is parsed\n125509.0 tick is parsed\n125525.0 tick is parsed\n125541.0 tick is parsed\n125557.0 tick is parsed\n125573.0 tick is parsed\n125589.0 tick is parsed\n125605.0 tick is parsed\n125621.0 tick is parsed\n125637.0 tick is parsed\n125653.0 tick is parsed\n125669.0 tick is parsed\n125685.0 tick is parsed\n125701.0 tick is parsed\n125717.0 tick is parsed\n125733.0 tick is parsed\n125749.0 tick is parsed\n125765.0 tick is parsed\n125781.0 tick is parsed\n125797.0 tick is parsed\n125813.0 tick is parsed\n125829.0 tick is parsed\n125845.0 tick is parsed\n125861.0 tick is parsed\n125877.0 tick is parsed\n125893.0 tick is parsed\n125909.0 tick is parsed\n125925.0 tick is parsed\n125941.0 tick is parsed\n125957.0 tick is parsed\n125973.0 tick is parsed\n125989.0 tick is parsed\n126005.0 tick is parsed\n126021.0 tick is parsed\n126037.0 tick is parsed\n126053.0 tick is parsed\n126069.0 tick is parsed\n126085.0 tick is parsed\n126101.0 tick is parsed\n126117.0 tick is parsed\n126133.0 tick is parsed\n126149.0 tick is parsed\n126165.0 tick is parsed\n126181.0 tick is parsed\n126197.0 tick is parsed\n126213.0 tick is parsed\n126229.0 tick is parsed\n126245.0 tick is parsed\n126261.0 tick is parsed\n126277.0 tick is parsed\n126293.0 tick is parsed\n126309.0 tick is parsed\n126325.0 tick is parsed\n126341.0 tick is parsed\n126357.0 tick is parsed\n126373.0 tick is parsed\n126389.0 tick is parsed\n126405.0 tick is parsed\n126421.0 tick is parsed\n126437.0 tick is parsed\n126453.0 tick is parsed\n126469.0 tick is parsed\n126485.0 tick is parsed\n126501.0 tick is parsed\n126517.0 tick is parsed\n126533.0 tick is parsed\n126549.0 tick is parsed\n126565.0 tick is parsed\n126581.0 tick is parsed\n126597.0 tick is parsed\n126613.0 tick is parsed\n126629.0 tick is parsed\n126645.0 tick is parsed\n126661.0 tick is parsed\n126677.0 tick is parsed\n126693.0 tick is parsed\n126709.0 tick is parsed\n126725.0 tick is parsed\n126741.0 tick is parsed\n126757.0 tick is parsed\n126773.0 tick is parsed\n126789.0 tick is parsed\n126805.0 tick is parsed\n126821.0 tick is parsed\n126837.0 tick is parsed\n126853.0 tick is parsed\n126869.0 tick is parsed\n126885.0 tick is parsed\n126901.0 tick is parsed\n126917.0 tick is parsed\n126933.0 tick is parsed\n126949.0 tick is parsed\n126965.0 tick is parsed\n126981.0 tick is parsed\n126997.0 tick is parsed\n127013.0 tick is parsed\n127029.0 tick is parsed\n127045.0 tick is parsed\n127061.0 tick is parsed\n127077.0 tick is parsed\n127093.0 tick is parsed\n127109.0 tick is parsed\n127125.0 tick is parsed\n127141.0 tick is parsed\n127157.0 tick is parsed\n127173.0 tick is parsed\n127189.0 tick is parsed\n127205.0 tick is parsed\n127221.0 tick is parsed\n127237.0 tick is parsed\n127253.0 tick is parsed\n127269.0 tick is parsed\n127285.0 tick is parsed\n127301.0 tick is parsed\n127317.0 tick is parsed\n127333.0 tick is parsed\n127349.0 tick is parsed\n127365.0 tick is parsed\n127381.0 tick is parsed\n127397.0 tick is parsed\n127413.0 tick is parsed\n127429.0 tick is parsed\n127445.0 tick is parsed\n127461.0 tick is parsed\n127477.0 tick is parsed\n127493.0 tick is parsed\n127509.0 tick is parsed\n127525.0 tick is parsed\n127541.0 tick is parsed\n127557.0 tick is parsed\n127573.0 tick is parsed\n127589.0 tick is parsed\n127605.0 tick is parsed\n127621.0 tick is parsed\n127637.0 tick is parsed\n127653.0 tick is parsed\n127669.0 tick is parsed\n127685.0 tick is parsed\n127701.0 tick is parsed\n127717.0 tick is parsed\n127733.0 tick is parsed\n127749.0 tick is parsed\n127765.0 tick is parsed\n127781.0 tick is parsed\n127797.0 tick is parsed\n127813.0 tick is parsed\n127829.0 tick is parsed\n127845.0 tick is parsed\n127861.0 tick is parsed\n127877.0 tick is parsed\n127893.0 tick is parsed\n127909.0 tick is parsed\n127925.0 tick is parsed\n127941.0 tick is parsed\n127957.0 tick is parsed\n127973.0 tick is parsed\n127989.0 tick is parsed\n128005.0 tick is parsed\n128021.0 tick is parsed\n128037.0 tick is parsed\n128053.0 tick is parsed\n128069.0 tick is parsed\n128085.0 tick is parsed\n128101.0 tick is parsed\n128117.0 tick is parsed\n128133.0 tick is parsed\n128149.0 tick is parsed\n128165.0 tick is parsed\n128181.0 tick is parsed\n128197.0 tick is parsed\n128213.0 tick is parsed\n128229.0 tick is parsed\n128245.0 tick is parsed\n128261.0 tick is parsed\n128277.0 tick is parsed\n128293.0 tick is parsed\n128309.0 tick is parsed\n128325.0 tick is parsed\n128341.0 tick is parsed\n128357.0 tick is parsed\n128373.0 tick is parsed\n128389.0 tick is parsed\n128405.0 tick is parsed\n128421.0 tick is parsed\n128437.0 tick is parsed\n128453.0 tick is parsed\n128469.0 tick is parsed\n128485.0 tick is parsed\n128501.0 tick is parsed\n128517.0 tick is parsed\n128533.0 tick is parsed\n128549.0 tick is parsed\n128565.0 tick is parsed\n128581.0 tick is parsed\n128597.0 tick is parsed\n128613.0 tick is parsed\n128629.0 tick is parsed\n128645.0 tick is parsed\n128661.0 tick is parsed\n128677.0 tick is parsed\n128693.0 tick is parsed\n128709.0 tick is parsed\n128725.0 tick is parsed\n128741.0 tick is parsed\n128757.0 tick is parsed\n128773.0 tick is parsed\n128789.0 tick is parsed\n128805.0 tick is parsed\n128821.0 tick is parsed\n128837.0 tick is parsed\n128853.0 tick is parsed\n128869.0 tick is parsed\n128885.0 tick is parsed\n128901.0 tick is parsed\n128917.0 tick is parsed\n128933.0 tick is parsed\n128949.0 tick is parsed\n128965.0 tick is parsed\n128981.0 tick is parsed\n128997.0 tick is parsed\n129013.0 tick is parsed\n129029.0 tick is parsed\n129045.0 tick is parsed\n129061.0 tick is parsed\n129077.0 tick is parsed\n129093.0 tick is parsed\n129109.0 tick is parsed\n129125.0 tick is parsed\n129141.0 tick is parsed\n129157.0 tick is parsed\n129173.0 tick is parsed\n129189.0 tick is parsed\n129205.0 tick is parsed\n129221.0 tick is parsed\n129237.0 tick is parsed\n129253.0 tick is parsed\n129269.0 tick is parsed\n129285.0 tick is parsed\n129301.0 tick is parsed\n129317.0 tick is parsed\n129333.0 tick is parsed\n129349.0 tick is parsed\n129365.0 tick is parsed\n129381.0 tick is parsed\n129397.0 tick is parsed\n129413.0 tick is parsed\n129429.0 tick is parsed\n129445.0 tick is parsed\n129461.0 tick is parsed\n129477.0 tick is parsed\n129493.0 tick is parsed\n129509.0 tick is parsed\n129525.0 tick is parsed\n129541.0 tick is parsed\n129557.0 tick is parsed\n129573.0 tick is parsed\n129589.0 tick is parsed\n129605.0 tick is parsed\n129621.0 tick is parsed\n129637.0 tick is parsed\n129653.0 tick is parsed\n129669.0 tick is parsed\n129685.0 tick is parsed\n129701.0 tick is parsed\n129717.0 tick is parsed\n129733.0 tick is parsed\n129749.0 tick is parsed\n129765.0 tick is parsed\n129781.0 tick is parsed\n129797.0 tick is parsed\n129813.0 tick is parsed\n129829.0 tick is parsed\n129845.0 tick is parsed\n129861.0 tick is parsed\n129877.0 tick is parsed\n129893.0 tick is parsed\n129909.0 tick is parsed\n129925.0 tick is parsed\n129941.0 tick is parsed\n129957.0 tick is parsed\n129973.0 tick is parsed\n129989.0 tick is parsed\n130005.0 tick is parsed\n130021.0 tick is parsed\n130037.0 tick is parsed\n130053.0 tick is parsed\n130069.0 tick is parsed\n130085.0 tick is parsed\n130101.0 tick is parsed\n130117.0 tick is parsed\n130133.0 tick is parsed\n130149.0 tick is parsed\n130165.0 tick is parsed\n130181.0 tick is parsed\n130197.0 tick is parsed\n130213.0 tick is parsed\n130229.0 tick is parsed\n130245.0 tick is parsed\n130261.0 tick is parsed\n130277.0 tick is parsed\n130293.0 tick is parsed\n130309.0 tick is parsed\n130325.0 tick is parsed\n130341.0 tick is parsed\n130357.0 tick is parsed\n130373.0 tick is parsed\n130389.0 tick is parsed\n130405.0 tick is parsed\n130421.0 tick is parsed\n130437.0 tick is parsed\n130453.0 tick is parsed\n130469.0 tick is parsed\n130485.0 tick is parsed\n130501.0 tick is parsed\n130517.0 tick is parsed\n130533.0 tick is parsed\n130549.0 tick is parsed\n130565.0 tick is parsed\n130581.0 tick is parsed\n130597.0 tick is parsed\n130613.0 tick is parsed\n130629.0 tick is parsed\n130645.0 tick is parsed\n130661.0 tick is parsed\n130677.0 tick is parsed\n130693.0 tick is parsed\n130709.0 tick is parsed\n130725.0 tick is parsed\n130741.0 tick is parsed\n130757.0 tick is parsed\n130773.0 tick is parsed\n130789.0 tick is parsed\n130805.0 tick is parsed\n130821.0 tick is parsed\n130837.0 tick is parsed\n130853.0 tick is parsed\n130869.0 tick is parsed\n130885.0 tick is parsed\n130901.0 tick is parsed\n130917.0 tick is parsed\n130933.0 tick is parsed\n130949.0 tick is parsed\n130965.0 tick is parsed\n130981.0 tick is parsed\n130997.0 tick is parsed\n131013.0 tick is parsed\n131029.0 tick is parsed\n131045.0 tick is parsed\n131061.0 tick is parsed\n131077.0 tick is parsed\n131093.0 tick is parsed\n131109.0 tick is parsed\n131125.0 tick is parsed\n131141.0 tick is parsed\n131157.0 tick is parsed\n131173.0 tick is parsed\n131189.0 tick is parsed\n131205.0 tick is parsed\n131221.0 tick is parsed\n131237.0 tick is parsed\n131253.0 tick is parsed\n131269.0 tick is parsed\n131285.0 tick is parsed\n131301.0 tick is parsed\n131317.0 tick is parsed\n131333.0 tick is parsed\n131349.0 tick is parsed\n131365.0 tick is parsed\n131381.0 tick is parsed\n131397.0 tick is parsed\n131413.0 tick is parsed\n131429.0 tick is parsed\n131445.0 tick is parsed\n131461.0 tick is parsed\n131477.0 tick is parsed\n131493.0 tick is parsed\n131509.0 tick is parsed\n131525.0 tick is parsed\n131541.0 tick is parsed\n131557.0 tick is parsed\n131573.0 tick is parsed\n131589.0 tick is parsed\n131605.0 tick is parsed\n131621.0 tick is parsed\n131637.0 tick is parsed\n131653.0 tick is parsed\n131669.0 tick is parsed\n131685.0 tick is parsed\n131701.0 tick is parsed\n131717.0 tick is parsed\n131733.0 tick is parsed\n131749.0 tick is parsed\n131765.0 tick is parsed\n131781.0 tick is parsed\n131797.0 tick is parsed\n131813.0 tick is parsed\n131829.0 tick is parsed\n131845.0 tick is parsed\n131861.0 tick is parsed\n131877.0 tick is parsed\n131893.0 tick is parsed\n131909.0 tick is parsed\n131925.0 tick is parsed\n131941.0 tick is parsed\n131957.0 tick is parsed\n131973.0 tick is parsed\n131989.0 tick is parsed\n132005.0 tick is parsed\n132021.0 tick is parsed\n132037.0 tick is parsed\n132053.0 tick is parsed\n132069.0 tick is parsed\n132085.0 tick is parsed\n132101.0 tick is parsed\n132117.0 tick is parsed\n132133.0 tick is parsed\n132149.0 tick is parsed\n132165.0 tick is parsed\n132181.0 tick is parsed\n132197.0 tick is parsed\n132213.0 tick is parsed\n132229.0 tick is parsed\n132245.0 tick is parsed\n132261.0 tick is parsed\n132277.0 tick is parsed\n132293.0 tick is parsed\n132309.0 tick is parsed\n132325.0 tick is parsed\n132341.0 tick is parsed\n132357.0 tick is parsed\n132373.0 tick is parsed\n132389.0 tick is parsed\n132405.0 tick is parsed\n132421.0 tick is parsed\n132437.0 tick is parsed\n132453.0 tick is parsed\n132469.0 tick is parsed\n132485.0 tick is parsed\n132501.0 tick is parsed\n132517.0 tick is parsed\n132533.0 tick is parsed\n132549.0 tick is parsed\n132565.0 tick is parsed\n132581.0 tick is parsed\n132597.0 tick is parsed\n132613.0 tick is parsed\n132629.0 tick is parsed\n132645.0 tick is parsed\n132661.0 tick is parsed\n132677.0 tick is parsed\n132693.0 tick is parsed\n132709.0 tick is parsed\n132725.0 tick is parsed\n132741.0 tick is parsed\n132757.0 tick is parsed\n132773.0 tick is parsed\n132789.0 tick is parsed\n132805.0 tick is parsed\n132821.0 tick is parsed\n132837.0 tick is parsed\n132853.0 tick is parsed\n132869.0 tick is parsed\n132885.0 tick is parsed\n132901.0 tick is parsed\n132917.0 tick is parsed\n132933.0 tick is parsed\n132949.0 tick is parsed\n132965.0 tick is parsed\n132981.0 tick is parsed\n132997.0 tick is parsed\n133013.0 tick is parsed\n133029.0 tick is parsed\n133045.0 tick is parsed\n133061.0 tick is parsed\n133077.0 tick is parsed\n133093.0 tick is parsed\n"
    }
   ],
   "source": [
    "#prep = preprocess.add_die_within_sec_labels(sample_file)\n",
    "prep = preprocess.add_one_hot_encoding_angles(sample_file)\n",
    "#prep = preprocess.add_one_hot_encoding_weapons(prep)"
   ]
  },
  {
   "cell_type": "code",
   "execution_count": 0,
   "metadata": {},
   "outputs": [],
   "source": [
    "prep[data_loader.get_feature_column_names('AimOnEnemy_0') + data_loader.get_die_within_seconds_column_names()].columns"
   ]
  },
  {
   "cell_type": "code",
   "execution_count": 0,
   "metadata": {},
   "outputs": [],
   "source": [
    "tick = 84019\n",
    "player = 0\n",
    "target_player = 6\n",
    "target = target_player - 5\n",
    "\n",
    "print(csv_file)"
   ]
  },
  {
   "cell_type": "code",
   "execution_count": 0,
   "metadata": {},
   "outputs": [],
   "source": [
    "prep.loc[tick-50:tick+50,data_loader.get_isAlive_column_names()]"
   ]
  },
  {
   "cell_type": "code",
   "execution_count": 0,
   "metadata": {},
   "outputs": [],
   "source": [
    "all_aim_columns = [data_loader.get_feature_column_names(f'AimOnEnemy_{i}')[player] for i in range(5)]\n",
    "all_aim_columns.append(data_loader.get_isAlive_column_names()[player])\n",
    "print(all_aim_columns)\n",
    "#prep.isnull().values.any()\n",
    "#prep.loc[tick-100:tick+100,all_aim_columns]\n",
    "prep.loc[tick-500:tick+100,all_aim_columns]"
   ]
  },
  {
   "cell_type": "code",
   "execution_count": 2,
   "metadata": {},
   "outputs": [
    {
     "name": "stdout",
     "output_type": "stream",
     "text": "Loading JSON file config/dataset_config.json\n"
    },
    {
     "data": {
      "text/plain": "[]"
     },
     "execution_count": 2,
     "metadata": {},
     "output_type": "execute_result"
    }
   ],
   "source": [
    "config = data_loader.load_json('config/dataset_config.json')\n",
    "list(filter(lambda name: \"death\" not in name, data_loader.get_files_in_directory(\n",
    "                Path(config[\"paths\"][\"parsed_files_path\"]), \".csv\")))\n"
   ]
  },
  {
   "cell_type": "code",
   "execution_count": 4,
   "metadata": {},
   "outputs": [
    {
     "ename": "FileNotFoundError",
     "evalue": "[Errno 2] No such file or directory: 'models\\\\test_4\\\\modelstr_test_4_EPOCH_2099.model.model'",
     "output_type": "error",
     "traceback": [
      "\u001b[1;31m---------------------------------------------------------------------------\u001b[0m",
      "\u001b[1;31mFileNotFoundError\u001b[0m                         Traceback (most recent call last)",
      "\u001b[1;32m<ipython-input-4-9c8c567e71bf>\u001b[0m in \u001b[0;36m<module>\u001b[1;34m\u001b[0m\n\u001b[1;32m----> 1\u001b[1;33m \u001b[0ma\u001b[0m \u001b[1;33m=\u001b[0m \u001b[0mdata_loader\u001b[0m\u001b[1;33m.\u001b[0m\u001b[0mload_model_to_test\u001b[0m\u001b[1;33m(\u001b[0m\u001b[1;36m1000\u001b[0m\u001b[1;33m,\u001b[0m\u001b[1;34m'test_4\\modelstr_test_4_EPOCH_2099.model'\u001b[0m\u001b[1;33m)\u001b[0m\u001b[1;33m\u001b[0m\u001b[1;33m\u001b[0m\u001b[0m\n\u001b[0m\u001b[0;32m      2\u001b[0m \u001b[0mprint\u001b[0m\u001b[1;33m(\u001b[0m\u001b[0ma\u001b[0m\u001b[1;33m)\u001b[0m\u001b[1;33m\u001b[0m\u001b[1;33m\u001b[0m\u001b[0m\n",
      "\u001b[1;32mg:\\Bachelor\\csgo_encounter_prediction\\preparation\\data_loader.py\u001b[0m in \u001b[0;36mload_model_to_test\u001b[1;34m(epoch_i, model_full_name)\u001b[0m\n\u001b[0;32m    326\u001b[0m     \u001b[0mcheckpoint_path\u001b[0m \u001b[1;33m=\u001b[0m \u001b[0mstr\u001b[0m\u001b[1;33m(\u001b[0m\u001b[0mMODELS_PATH\u001b[0m \u001b[1;33m/\u001b[0m \u001b[1;34mf'{model_full_name}.model'\u001b[0m\u001b[1;33m)\u001b[0m\u001b[1;33m\u001b[0m\u001b[1;33m\u001b[0m\u001b[0m\n\u001b[0;32m    327\u001b[0m \u001b[1;33m\u001b[0m\u001b[0m\n\u001b[1;32m--> 328\u001b[1;33m     \u001b[0mcheckpoint\u001b[0m \u001b[1;33m=\u001b[0m \u001b[0mtorch\u001b[0m\u001b[1;33m.\u001b[0m\u001b[0mload\u001b[0m\u001b[1;33m(\u001b[0m\u001b[0mcheckpoint_path\u001b[0m\u001b[1;33m)\u001b[0m\u001b[1;33m\u001b[0m\u001b[1;33m\u001b[0m\u001b[0m\n\u001b[0m\u001b[0;32m    329\u001b[0m     \u001b[0mmodel\u001b[0m \u001b[1;33m=\u001b[0m \u001b[0mcheckpoint\u001b[0m\u001b[1;33m[\u001b[0m\u001b[1;34m'model'\u001b[0m\u001b[1;33m]\u001b[0m\u001b[1;33m\u001b[0m\u001b[1;33m\u001b[0m\u001b[0m\n\u001b[0;32m    330\u001b[0m     \u001b[0mmodel\u001b[0m\u001b[1;33m.\u001b[0m\u001b[0mload_state_dict\u001b[0m\u001b[1;33m(\u001b[0m\u001b[0mcheckpoint\u001b[0m\u001b[1;33m[\u001b[0m\u001b[1;34m'state_dict'\u001b[0m\u001b[1;33m]\u001b[0m\u001b[1;33m)\u001b[0m\u001b[1;33m\u001b[0m\u001b[1;33m\u001b[0m\u001b[0m\n",
      "\u001b[1;32m~\\AppData\\Local\\Programs\\Python\\Python37\\lib\\site-packages\\torch\\serialization.py\u001b[0m in \u001b[0;36mload\u001b[1;34m(f, map_location, pickle_module, **pickle_load_args)\u001b[0m\n\u001b[0;32m    380\u001b[0m             \u001b[1;33m(\u001b[0m\u001b[0msys\u001b[0m\u001b[1;33m.\u001b[0m\u001b[0mversion_info\u001b[0m\u001b[1;33m[\u001b[0m\u001b[1;36m0\u001b[0m\u001b[1;33m]\u001b[0m \u001b[1;33m==\u001b[0m \u001b[1;36m2\u001b[0m \u001b[1;32mand\u001b[0m \u001b[0misinstance\u001b[0m\u001b[1;33m(\u001b[0m\u001b[0mf\u001b[0m\u001b[1;33m,\u001b[0m \u001b[0municode\u001b[0m\u001b[1;33m)\u001b[0m\u001b[1;33m)\u001b[0m\u001b[1;33m:\u001b[0m\u001b[1;33m\u001b[0m\u001b[1;33m\u001b[0m\u001b[0m\n\u001b[0;32m    381\u001b[0m         \u001b[0mnew_fd\u001b[0m \u001b[1;33m=\u001b[0m \u001b[1;32mTrue\u001b[0m\u001b[1;33m\u001b[0m\u001b[1;33m\u001b[0m\u001b[0m\n\u001b[1;32m--> 382\u001b[1;33m         \u001b[0mf\u001b[0m \u001b[1;33m=\u001b[0m \u001b[0mopen\u001b[0m\u001b[1;33m(\u001b[0m\u001b[0mf\u001b[0m\u001b[1;33m,\u001b[0m \u001b[1;34m'rb'\u001b[0m\u001b[1;33m)\u001b[0m\u001b[1;33m\u001b[0m\u001b[1;33m\u001b[0m\u001b[0m\n\u001b[0m\u001b[0;32m    383\u001b[0m     \u001b[1;32melif\u001b[0m \u001b[1;33m(\u001b[0m\u001b[0msys\u001b[0m\u001b[1;33m.\u001b[0m\u001b[0mversion_info\u001b[0m\u001b[1;33m[\u001b[0m\u001b[1;36m0\u001b[0m\u001b[1;33m]\u001b[0m \u001b[1;33m==\u001b[0m \u001b[1;36m3\u001b[0m \u001b[1;32mand\u001b[0m \u001b[0misinstance\u001b[0m\u001b[1;33m(\u001b[0m\u001b[0mf\u001b[0m\u001b[1;33m,\u001b[0m \u001b[0mpathlib\u001b[0m\u001b[1;33m.\u001b[0m\u001b[0mPath\u001b[0m\u001b[1;33m)\u001b[0m\u001b[1;33m)\u001b[0m\u001b[1;33m:\u001b[0m\u001b[1;33m\u001b[0m\u001b[1;33m\u001b[0m\u001b[0m\n\u001b[0;32m    384\u001b[0m         \u001b[0mnew_fd\u001b[0m \u001b[1;33m=\u001b[0m \u001b[1;32mTrue\u001b[0m\u001b[1;33m\u001b[0m\u001b[1;33m\u001b[0m\u001b[0m\n",
      "\u001b[1;31mFileNotFoundError\u001b[0m: [Errno 2] No such file or directory: 'models\\\\test_4\\\\modelstr_test_4_EPOCH_2099.model.model'"
     ]
    }
   ],
   "source": [
    "a = data_loader.load_model_to_test(1000,'test_4\\modelstr_test_4_EPOCH_2099')\n",
    "print(a)"
   ]
  },
  {
   "cell_type": "code",
   "execution_count": null,
   "metadata": {},
   "outputs": [],
   "source": []
  }
 ]
}