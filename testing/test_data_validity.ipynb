{
 "nbformat": 4,
 "nbformat_minor": 2,
 "metadata": {
  "language_info": {
   "name": "python",
   "codemirror_mode": {
    "name": "ipython",
    "version": 3
   }
  },
  "orig_nbformat": 2,
  "file_extension": ".py",
  "mimetype": "text/x-python",
  "name": "python",
  "npconvert_exporter": "python",
  "pygments_lexer": "ipython3",
  "version": 3
 },
 "cells": [
  {
   "cell_type": "code",
   "execution_count": 1,
   "metadata": {},
   "outputs": [
    {
     "name": "stdout",
     "output_type": "stream",
     "text": "Loading JSON file config/dataset_config.json\nLoading JSON file config/features_info.json\nLoading JSON file config/item_definition_index_map.json\nLoading JSON file config/features_info.json\n"
    }
   ],
   "source": [
    "import sys\n",
    "\n",
    "import pandas as pd\n",
    "import numpy as np\n",
    "from pathlib import Path\n",
    "\n",
    "sys.path.insert(0, str(Path.cwd() / 'preparation/'))\n",
    "\n",
    "import data_loader\n",
    "import preprocess"
   ]
  },
  {
   "cell_type": "code",
   "execution_count": 2,
   "metadata": {},
   "outputs": [
    {
     "data": {
      "text/plain": "[array([0, 1, 2, 3, 4]), array([5, 6, 7, 8, 9])]"
     },
     "execution_count": 2,
     "metadata": {},
     "output_type": "execute_result"
    }
   ],
   "source": [
    "data_loader.get_team_iterables()"
   ]
  },
  {
   "cell_type": "code",
   "execution_count": 3,
   "metadata": {},
   "outputs": [
    {
     "name": "stdout",
     "output_type": "stream",
     "text": "../../csgo_dataset/parsed_files/renegades-vs-fnatic-m3-inferno.csv\n../../csgo_dataset/processed_files/fnatic-vs-vitality-m2-inferno.h5\n"
    }
   ],
   "source": [
    "hdf_file = data_loader.get_files_in_directory('../../csgo_dataset/processed_files', '.h5')[0]\n",
    "#csv_file = data_loader.get_files_in_directory('../../csgo_dataset/parsed_files', '.csv')[0]\n",
    "csv_file = '../../csgo_dataset/parsed_files/renegades-vs-fnatic-m3-inferno.csv'\n",
    "#sample_file = data_loader.load_h5_as_df(file_name, False)\n",
    "\n",
    "print(csv_file)\n",
    "print(hdf_file)"
   ]
  },
  {
   "cell_type": "code",
   "execution_count": 4,
   "metadata": {},
   "outputs": [],
   "source": [
    "#sample_file = data_loader.load_h5_as_df(file_name, False)\n",
    "#sample_file = data_loader.load_h5_as_df('../../csgo_dataset/training_data/data_chunk_0_0.h5', drop_ticks=True)\n",
    "sample_file = data_loader.load_csv_as_df(Path(csv_file))"
   ]
  },
  {
   "cell_type": "code",
   "execution_count": 5,
   "metadata": {},
   "outputs": [
    {
     "data": {
      "text/plain": "[(1873.4578, 21.010393, 128.03125),\n (1873.0493, 21.21012, 128.03125),\n (1874.4578, 20.389534, 128.03125),\n (1873.4578, 21.010393, 128.03125),\n (1873.4578, 21.010393, 128.03125),\n (2376.9705, 323.73828, 134.26811),\n (1108.9354, 589.73846, 111.463135),\n (1504.451, 1016.95734, 151.9487),\n (2376.68, 324.66476, 134.2762),\n (1108.9354, 589.73846, 111.463135)]"
     },
     "execution_count": 5,
     "metadata": {},
     "output_type": "execute_result"
    }
   ],
   "source": [
    "list(map(lambda vec: vec.components(), preprocess.all_player_position_to_vec3(sample_file, sample_file.sample(frac=1).index[0])))\n"
   ]
  },
  {
   "cell_type": "code",
   "execution_count": 6,
   "metadata": {},
   "outputs": [
    {
     "name": "stdout",
     "output_type": "stream",
     "text": "(15524, 261)\n<bound method IndexOpsMixin.min of Float64Index([   782.0,    798.0,    814.0,    830.0,    846.0,    862.0,\n                 878.0,    894.0,    910.0,    926.0,\n              ...\n              314089.0, 314105.0, 314121.0, 314137.0, 314153.0, 314169.0,\n              314185.0, 314201.0, 314217.0, 314233.0],\n             dtype='float64', name='Tick', length=15524)> <bound method IndexOpsMixin.max of Float64Index([   782.0,    798.0,    814.0,    830.0,    846.0,    862.0,\n                 878.0,    894.0,    910.0,    926.0,\n              ...\n              314089.0, 314105.0, 314121.0, 314137.0, 314153.0, 314169.0,\n              314185.0, 314201.0, 314217.0, 314233.0],\n             dtype='float64', name='Tick', length=15524)>\n"
    }
   ],
   "source": [
    "print(sample_file.shape)\n",
    "print(sample_file.index.min, sample_file.index.max)\n"
   ]
  },
  {
   "cell_type": "code",
   "execution_count": 7,
   "metadata": {},
   "outputs": [
    {
     "name": "stdout",
     "output_type": "stream",
     "text": "f_0_EyeAngleYaw  f_1_EyeAngleYaw  f_2_EyeAngleYaw  f_3_EyeAngleYaw  \\\nTick                                                                           \n296208.0        17.396851        58.386841       350.057373        16.605835   \n120098.0       240.474243       262.265625       315.774536       261.925049   \n78642.0         18.440552       258.041382         0.208740       266.336060   \n23480.0         69.807129       341.696777        48.988037       345.591431   \n106274.0       337.049561        54.255981       343.811646        18.143921   \n...                   ...              ...              ...              ...   \n293144.0        69.570923        69.680786       329.320679       329.320679   \n78738.0        357.456665       257.398682       303.969727       245.083008   \n273674.0       349.963989        34.513550         4.432983        94.086914   \n86850.0         97.926636        77.261353       342.685547        59.732666   \n165116.0       343.262329         0.153809        50.262451       344.624634   \n\n          f_4_EyeAngleYaw  f_5_EyeAngleYaw  f_6_EyeAngleYaw  f_7_EyeAngleYaw  \\\nTick                                                                           \n296208.0        38.221436       306.172485       306.172485       306.172485   \n120098.0       262.254639       143.316650       143.316650       143.316650   \n78642.0        266.088867       267.258911       104.694214       104.694214   \n23480.0          9.816284       236.914673        26.921997       357.951050   \n106274.0        52.174072       244.319458       141.773071       213.958740   \n...                   ...              ...              ...              ...   \n293144.0        69.675293       242.495728       243.176880       247.412109   \n78738.0        257.623901       267.599487        93.180542        93.251953   \n273674.0         5.240479       127.803955       227.345581       127.803955   \n86850.0         96.817017       236.211548       244.901733       344.262085   \n165116.0        66.989136       323.745117       253.015137       251.823120   \n\n          f_8_EyeAngleYaw  f_9_EyeAngleYaw  f_0_EyeAnglePitch  \\\nTick                                                            \n296208.0       306.172485       306.172485          14.381104   \n120098.0        24.005127        24.005127           6.641235   \n78642.0        271.087646       104.694214           0.483398   \n23480.0        176.259155       178.478394         356.923828   \n106274.0       230.053711       135.532837           4.487915   \n...                   ...              ...                ...   \n293144.0       184.509888       243.396606           3.054199   \n78738.0        278.761597        92.329102           1.054688   \n273674.0       218.908081       226.356812         353.391724   \n86850.0        233.646240       171.430664           0.939331   \n165116.0       284.507446       245.972900         358.022461   \n\n          f_1_EyeAnglePitch  f_2_EyeAnglePitch  f_3_EyeAnglePitch  \\\nTick                                                                \n296208.0         358.450928           6.366577           5.641479   \n120098.0         359.533081           0.285645         359.538574   \n78642.0            1.900635          10.129395           2.636719   \n23480.0            0.653687         358.791504         356.770020   \n106274.0         348.618164         355.858154         355.182495   \n...                     ...                ...                ...   \n293144.0           3.081665           0.406494           0.406494   \n78738.0            3.059692           7.415771         359.868164   \n273674.0           9.327393         358.374023           1.345825   \n86850.0           21.077271         359.291382         356.770020   \n165116.0           0.109863         358.066406         356.638184   \n\n          f_4_EyeAnglePitch  f_5_EyeAnglePitch  f_6_EyeAnglePitch  \\\nTick                                                                \n296208.0         358.264160          10.404053          10.404053   \n120098.0         359.538574           8.893433           8.893433   \n78642.0            2.999268         359.027710         358.082886   \n23480.0          355.885620         352.935791          10.079956   \n106274.0           9.981079           3.136597           0.769043   \n...                     ...                ...                ...   \n293144.0           3.081665           1.455688           1.389771   \n78738.0            3.059692         359.066162         358.148804   \n273674.0         354.391479           1.510620         357.714844   \n86850.0          359.631958           2.147827           2.158813   \n165116.0           2.543335           1.719360           1.752319   \n\n          f_7_EyeAnglePitch  f_8_EyeAnglePitch  f_9_EyeAnglePitch  \nTick                                                               \n296208.0          10.404053          10.404053          10.404053  \n120098.0           8.893433           0.225220           0.225220  \n78642.0          358.082886           0.016479         358.082886  \n23480.0            9.019775           7.778320          25.620117  \n106274.0           0.692139         355.341797          11.425781  \n...                     ...                ...                ...  \n293144.0           0.192261         320.905151           1.395264  \n78738.0          358.154297           0.329590         358.148804  \n273674.0           1.510620         329.260254           1.384277  \n86850.0            0.230713         359.318848         339.362183  \n165116.0         357.720337           0.455933         349.008179  \n\n[15524 rows x 20 columns]\n"
    }
   ],
   "source": [
    "# Test eye angle to direction conversion\n",
    "\n",
    "#l = ['f_0_PositionX','f_2_PositionX','f_0_DistanceToAlly_2','f_0_IsAlive']\n",
    "l = data_loader.get_feature_column_names('EyeAngleYaw') + data_loader.get_feature_column_names('EyeAnglePitch')\n",
    "fraction = sample_file.loc[:,l].sample(frac=1)\n",
    "\n",
    "\n",
    "l2 = preprocess.all_player_eyeAngles_to_direction_vec3(fraction, fraction.index[0])\n",
    "\n",
    "print(fraction)\n",
    "\n",
    "\n"
   ]
  },
  {
   "cell_type": "code",
   "execution_count": 8,
   "metadata": {},
   "outputs": [
    {
     "data": {
      "text/plain": "['Round',\n 'f_0_IsAlive',\n 'f_1_IsAlive',\n 'f_2_IsAlive',\n 'f_3_IsAlive',\n 'f_4_IsAlive',\n 'f_5_IsAlive',\n 'f_6_IsAlive',\n 'f_7_IsAlive',\n 'f_8_IsAlive',\n 'f_9_IsAlive',\n 'f_0_Health',\n 'f_1_Health',\n 'f_2_Health',\n 'f_3_Health',\n 'f_4_Health',\n 'f_5_Health',\n 'f_6_Health',\n 'f_7_Health',\n 'f_8_Health',\n 'f_9_Health',\n 'f_0_Armor',\n 'f_1_Armor',\n 'f_2_Armor',\n 'f_3_Armor',\n 'f_4_Armor',\n 'f_5_Armor',\n 'f_6_Armor',\n 'f_7_Armor',\n 'f_8_Armor',\n 'f_9_Armor',\n 'f_0_EquipmentValue',\n 'f_1_EquipmentValue',\n 'f_2_EquipmentValue',\n 'f_3_EquipmentValue',\n 'f_4_EquipmentValue',\n 'f_5_EquipmentValue',\n 'f_6_EquipmentValue',\n 'f_7_EquipmentValue',\n 'f_8_EquipmentValue',\n 'f_9_EquipmentValue',\n 'f_0_PositionX',\n 'f_1_PositionX',\n 'f_2_PositionX',\n 'f_3_PositionX',\n 'f_4_PositionX',\n 'f_5_PositionX',\n 'f_6_PositionX',\n 'f_7_PositionX',\n 'f_8_PositionX',\n 'f_9_PositionX',\n 'f_0_PositionY',\n 'f_1_PositionY',\n 'f_2_PositionY',\n 'f_3_PositionY',\n 'f_4_PositionY',\n 'f_5_PositionY',\n 'f_6_PositionY',\n 'f_7_PositionY',\n 'f_8_PositionY',\n 'f_9_PositionY',\n 'f_0_PositionZ',\n 'f_1_PositionZ',\n 'f_2_PositionZ',\n 'f_3_PositionZ',\n 'f_4_PositionZ',\n 'f_5_PositionZ',\n 'f_6_PositionZ',\n 'f_7_PositionZ',\n 'f_8_PositionZ',\n 'f_9_PositionZ',\n 'f_0_VelocityX',\n 'f_1_VelocityX',\n 'f_2_VelocityX',\n 'f_3_VelocityX',\n 'f_4_VelocityX',\n 'f_5_VelocityX',\n 'f_6_VelocityX',\n 'f_7_VelocityX',\n 'f_8_VelocityX',\n 'f_9_VelocityX',\n 'f_0_VelocityY',\n 'f_1_VelocityY',\n 'f_2_VelocityY',\n 'f_3_VelocityY',\n 'f_4_VelocityY',\n 'f_5_VelocityY',\n 'f_6_VelocityY',\n 'f_7_VelocityY',\n 'f_8_VelocityY',\n 'f_9_VelocityY',\n 'f_0_VelocityZ',\n 'f_1_VelocityZ',\n 'f_2_VelocityZ',\n 'f_3_VelocityZ',\n 'f_4_VelocityZ',\n 'f_5_VelocityZ',\n 'f_6_VelocityZ',\n 'f_7_VelocityZ',\n 'f_8_VelocityZ',\n 'f_9_VelocityZ',\n 'f_0_DistanceToAlly_1',\n 'f_1_DistanceToAlly_1',\n 'f_2_DistanceToAlly_1',\n 'f_3_DistanceToAlly_1',\n 'f_4_DistanceToAlly_1',\n 'f_5_DistanceToAlly_1',\n 'f_6_DistanceToAlly_1',\n 'f_7_DistanceToAlly_1',\n 'f_8_DistanceToAlly_1',\n 'f_9_DistanceToAlly_1',\n 'f_0_DistanceToAlly_2',\n 'f_1_DistanceToAlly_2',\n 'f_2_DistanceToAlly_2',\n 'f_3_DistanceToAlly_2',\n 'f_4_DistanceToAlly_2',\n 'f_5_DistanceToAlly_2',\n 'f_6_DistanceToAlly_2',\n 'f_7_DistanceToAlly_2',\n 'f_8_DistanceToAlly_2',\n 'f_9_DistanceToAlly_2',\n 'f_0_DistanceToAlly_3',\n 'f_1_DistanceToAlly_3',\n 'f_2_DistanceToAlly_3',\n 'f_3_DistanceToAlly_3',\n 'f_4_DistanceToAlly_3',\n 'f_5_DistanceToAlly_3',\n 'f_6_DistanceToAlly_3',\n 'f_7_DistanceToAlly_3',\n 'f_8_DistanceToAlly_3',\n 'f_9_DistanceToAlly_3',\n 'f_0_DistanceToAlly_4',\n 'f_1_DistanceToAlly_4',\n 'f_2_DistanceToAlly_4',\n 'f_3_DistanceToAlly_4',\n 'f_4_DistanceToAlly_4',\n 'f_5_DistanceToAlly_4',\n 'f_6_DistanceToAlly_4',\n 'f_7_DistanceToAlly_4',\n 'f_8_DistanceToAlly_4',\n 'f_9_DistanceToAlly_4',\n 'f_0_DistanceToEnemy_0',\n 'f_1_DistanceToEnemy_0',\n 'f_2_DistanceToEnemy_0',\n 'f_3_DistanceToEnemy_0',\n 'f_4_DistanceToEnemy_0',\n 'f_5_DistanceToEnemy_0',\n 'f_6_DistanceToEnemy_0',\n 'f_7_DistanceToEnemy_0',\n 'f_8_DistanceToEnemy_0',\n 'f_9_DistanceToEnemy_0',\n 'f_0_DistanceToEnemy_1',\n 'f_1_DistanceToEnemy_1',\n 'f_2_DistanceToEnemy_1',\n 'f_3_DistanceToEnemy_1',\n 'f_4_DistanceToEnemy_1',\n 'f_5_DistanceToEnemy_1',\n 'f_6_DistanceToEnemy_1',\n 'f_7_DistanceToEnemy_1',\n 'f_8_DistanceToEnemy_1',\n 'f_9_DistanceToEnemy_1',\n 'f_0_DistanceToEnemy_2',\n 'f_1_DistanceToEnemy_2',\n 'f_2_DistanceToEnemy_2',\n 'f_3_DistanceToEnemy_2',\n 'f_4_DistanceToEnemy_2',\n 'f_5_DistanceToEnemy_2',\n 'f_6_DistanceToEnemy_2',\n 'f_7_DistanceToEnemy_2',\n 'f_8_DistanceToEnemy_2',\n 'f_9_DistanceToEnemy_2',\n 'f_0_DistanceToEnemy_3',\n 'f_1_DistanceToEnemy_3',\n 'f_2_DistanceToEnemy_3',\n 'f_3_DistanceToEnemy_3',\n 'f_4_DistanceToEnemy_3',\n 'f_5_DistanceToEnemy_3',\n 'f_6_DistanceToEnemy_3',\n 'f_7_DistanceToEnemy_3',\n 'f_8_DistanceToEnemy_3',\n 'f_9_DistanceToEnemy_3',\n 'f_0_DistanceToEnemy_4',\n 'f_1_DistanceToEnemy_4',\n 'f_2_DistanceToEnemy_4',\n 'f_3_DistanceToEnemy_4',\n 'f_4_DistanceToEnemy_4',\n 'f_5_DistanceToEnemy_4',\n 'f_6_DistanceToEnemy_4',\n 'f_7_DistanceToEnemy_4',\n 'f_8_DistanceToEnemy_4',\n 'f_9_DistanceToEnemy_4',\n 'f_0_HasHelmet',\n 'f_1_HasHelmet',\n 'f_2_HasHelmet',\n 'f_3_HasHelmet',\n 'f_4_HasHelmet',\n 'f_5_HasHelmet',\n 'f_6_HasHelmet',\n 'f_7_HasHelmet',\n 'f_8_HasHelmet',\n 'f_9_HasHelmet',\n 'f_0_IsSpotted',\n 'f_1_IsSpotted',\n 'f_2_IsSpotted',\n 'f_3_IsSpotted',\n 'f_4_IsSpotted',\n 'f_5_IsSpotted',\n 'f_6_IsSpotted',\n 'f_7_IsSpotted',\n 'f_8_IsSpotted',\n 'f_9_IsSpotted',\n 'f_0_IsScoped',\n 'f_1_IsScoped',\n 'f_2_IsScoped',\n 'f_3_IsScoped',\n 'f_4_IsScoped',\n 'f_5_IsScoped',\n 'f_6_IsScoped',\n 'f_7_IsScoped',\n 'f_8_IsScoped',\n 'f_9_IsScoped',\n 'f_0_IsDefusing',\n 'f_1_IsDefusing',\n 'f_2_IsDefusing',\n 'f_3_IsDefusing',\n 'f_4_IsDefusing',\n 'f_5_IsDefusing',\n 'f_6_IsDefusing',\n 'f_7_IsDefusing',\n 'f_8_IsDefusing',\n 'f_9_IsDefusing',\n 'f_0_CurrentWeapon',\n 'f_1_CurrentWeapon',\n 'f_2_CurrentWeapon',\n 'f_3_CurrentWeapon',\n 'f_4_CurrentWeapon',\n 'f_5_CurrentWeapon',\n 'f_6_CurrentWeapon',\n 'f_7_CurrentWeapon',\n 'f_8_CurrentWeapon',\n 'f_9_CurrentWeapon',\n 'f_0_EyeAnglePitch',\n 'f_1_EyeAnglePitch',\n 'f_2_EyeAnglePitch',\n 'f_3_EyeAnglePitch',\n 'f_4_EyeAnglePitch',\n 'f_5_EyeAnglePitch',\n 'f_6_EyeAnglePitch',\n 'f_7_EyeAnglePitch',\n 'f_8_EyeAnglePitch',\n 'f_9_EyeAnglePitch',\n 'f_0_EyeAngleYaw',\n 'f_1_EyeAngleYaw',\n 'f_2_EyeAngleYaw',\n 'f_3_EyeAngleYaw',\n 'f_4_EyeAngleYaw',\n 'f_5_EyeAngleYaw',\n 'f_6_EyeAngleYaw',\n 'f_7_EyeAngleYaw',\n 'f_8_EyeAngleYaw',\n 'f_9_EyeAngleYaw']"
     },
     "execution_count": 8,
     "metadata": {},
     "output_type": "execute_result"
    }
   ],
   "source": [
    "list(sample_file.columns)"
   ]
  },
  {
   "cell_type": "code",
   "execution_count": 9,
   "metadata": {},
   "outputs": [
    {
     "name": "stdout",
     "output_type": "stream",
     "text": "['f_0_IsAlive', 'f_1_IsAlive', 'f_2_IsAlive', 'f_3_IsAlive', 'f_4_IsAlive', 'f_5_IsAlive', 'f_6_IsAlive', 'f_7_IsAlive', 'f_8_IsAlive', 'f_9_IsAlive', 'f_0_Health', 'f_1_Health', 'f_2_Health', 'f_3_Health', 'f_4_Health', 'f_5_Health', 'f_6_Health', 'f_7_Health', 'f_8_Health', 'f_9_Health', 'f_0_Armor', 'f_1_Armor', 'f_2_Armor', 'f_3_Armor', 'f_4_Armor', 'f_5_Armor', 'f_6_Armor', 'f_7_Armor', 'f_8_Armor', 'f_9_Armor', 'f_0_EquipmentValue', 'f_1_EquipmentValue', 'f_2_EquipmentValue', 'f_3_EquipmentValue', 'f_4_EquipmentValue', 'f_5_EquipmentValue', 'f_6_EquipmentValue', 'f_7_EquipmentValue', 'f_8_EquipmentValue', 'f_9_EquipmentValue', 'f_0_PositionX', 'f_1_PositionX', 'f_2_PositionX', 'f_3_PositionX', 'f_4_PositionX', 'f_5_PositionX', 'f_6_PositionX', 'f_7_PositionX', 'f_8_PositionX', 'f_9_PositionX', 'f_0_PositionY', 'f_1_PositionY', 'f_2_PositionY', 'f_3_PositionY', 'f_4_PositionY', 'f_5_PositionY', 'f_6_PositionY', 'f_7_PositionY', 'f_8_PositionY', 'f_9_PositionY', 'f_0_PositionZ', 'f_1_PositionZ', 'f_2_PositionZ', 'f_3_PositionZ', 'f_4_PositionZ', 'f_5_PositionZ', 'f_6_PositionZ', 'f_7_PositionZ', 'f_8_PositionZ', 'f_9_PositionZ', 'f_0_VelocityX', 'f_1_VelocityX', 'f_2_VelocityX', 'f_3_VelocityX', 'f_4_VelocityX', 'f_5_VelocityX', 'f_6_VelocityX', 'f_7_VelocityX', 'f_8_VelocityX', 'f_9_VelocityX', 'f_0_VelocityY', 'f_1_VelocityY', 'f_2_VelocityY', 'f_3_VelocityY', 'f_4_VelocityY', 'f_5_VelocityY', 'f_6_VelocityY', 'f_7_VelocityY', 'f_8_VelocityY', 'f_9_VelocityY', 'f_0_VelocityZ', 'f_1_VelocityZ', 'f_2_VelocityZ', 'f_3_VelocityZ', 'f_4_VelocityZ', 'f_5_VelocityZ', 'f_6_VelocityZ', 'f_7_VelocityZ', 'f_8_VelocityZ', 'f_9_VelocityZ', 'f_0_DistanceToAlly_1', 'f_1_DistanceToAlly_1', 'f_2_DistanceToAlly_1', 'f_3_DistanceToAlly_1', 'f_4_DistanceToAlly_1', 'f_5_DistanceToAlly_1', 'f_6_DistanceToAlly_1', 'f_7_DistanceToAlly_1', 'f_8_DistanceToAlly_1', 'f_9_DistanceToAlly_1', 'f_0_DistanceToAlly_2', 'f_1_DistanceToAlly_2', 'f_2_DistanceToAlly_2', 'f_3_DistanceToAlly_2', 'f_4_DistanceToAlly_2', 'f_5_DistanceToAlly_2', 'f_6_DistanceToAlly_2', 'f_7_DistanceToAlly_2', 'f_8_DistanceToAlly_2', 'f_9_DistanceToAlly_2', 'f_0_DistanceToAlly_3', 'f_1_DistanceToAlly_3', 'f_2_DistanceToAlly_3', 'f_3_DistanceToAlly_3', 'f_4_DistanceToAlly_3', 'f_5_DistanceToAlly_3', 'f_6_DistanceToAlly_3', 'f_7_DistanceToAlly_3', 'f_8_DistanceToAlly_3', 'f_9_DistanceToAlly_3', 'f_0_DistanceToAlly_4', 'f_1_DistanceToAlly_4', 'f_2_DistanceToAlly_4', 'f_3_DistanceToAlly_4', 'f_4_DistanceToAlly_4', 'f_5_DistanceToAlly_4', 'f_6_DistanceToAlly_4', 'f_7_DistanceToAlly_4', 'f_8_DistanceToAlly_4', 'f_9_DistanceToAlly_4', 'f_0_DistanceToEnemy_0', 'f_1_DistanceToEnemy_0', 'f_2_DistanceToEnemy_0', 'f_3_DistanceToEnemy_0', 'f_4_DistanceToEnemy_0', 'f_5_DistanceToEnemy_0', 'f_6_DistanceToEnemy_0', 'f_7_DistanceToEnemy_0', 'f_8_DistanceToEnemy_0', 'f_9_DistanceToEnemy_0', 'f_0_DistanceToEnemy_1', 'f_1_DistanceToEnemy_1', 'f_2_DistanceToEnemy_1', 'f_3_DistanceToEnemy_1', 'f_4_DistanceToEnemy_1', 'f_5_DistanceToEnemy_1', 'f_6_DistanceToEnemy_1', 'f_7_DistanceToEnemy_1', 'f_8_DistanceToEnemy_1', 'f_9_DistanceToEnemy_1', 'f_0_DistanceToEnemy_2', 'f_1_DistanceToEnemy_2', 'f_2_DistanceToEnemy_2', 'f_3_DistanceToEnemy_2', 'f_4_DistanceToEnemy_2', 'f_5_DistanceToEnemy_2', 'f_6_DistanceToEnemy_2', 'f_7_DistanceToEnemy_2', 'f_8_DistanceToEnemy_2', 'f_9_DistanceToEnemy_2', 'f_0_DistanceToEnemy_3', 'f_1_DistanceToEnemy_3', 'f_2_DistanceToEnemy_3', 'f_3_DistanceToEnemy_3', 'f_4_DistanceToEnemy_3', 'f_5_DistanceToEnemy_3', 'f_6_DistanceToEnemy_3', 'f_7_DistanceToEnemy_3', 'f_8_DistanceToEnemy_3', 'f_9_DistanceToEnemy_3', 'f_0_DistanceToEnemy_4', 'f_1_DistanceToEnemy_4', 'f_2_DistanceToEnemy_4', 'f_3_DistanceToEnemy_4', 'f_4_DistanceToEnemy_4', 'f_5_DistanceToEnemy_4', 'f_6_DistanceToEnemy_4', 'f_7_DistanceToEnemy_4', 'f_8_DistanceToEnemy_4', 'f_9_DistanceToEnemy_4', 'f_0_HasHelmet', 'f_1_HasHelmet', 'f_2_HasHelmet', 'f_3_HasHelmet', 'f_4_HasHelmet', 'f_5_HasHelmet', 'f_6_HasHelmet', 'f_7_HasHelmet', 'f_8_HasHelmet', 'f_9_HasHelmet', 'f_0_IsSpotted', 'f_1_IsSpotted', 'f_2_IsSpotted', 'f_3_IsSpotted', 'f_4_IsSpotted', 'f_5_IsSpotted', 'f_6_IsSpotted', 'f_7_IsSpotted', 'f_8_IsSpotted', 'f_9_IsSpotted', 'f_0_IsScoped', 'f_1_IsScoped', 'f_2_IsScoped', 'f_3_IsScoped', 'f_4_IsScoped', 'f_5_IsScoped', 'f_6_IsScoped', 'f_7_IsScoped', 'f_8_IsScoped', 'f_9_IsScoped', 'f_0_IsDefusing', 'f_1_IsDefusing', 'f_2_IsDefusing', 'f_3_IsDefusing', 'f_4_IsDefusing', 'f_5_IsDefusing', 'f_6_IsDefusing', 'f_7_IsDefusing', 'f_8_IsDefusing', 'f_9_IsDefusing', 'f_0_Weapon_1', 'f_1_Weapon_1', 'f_2_Weapon_1', 'f_3_Weapon_1', 'f_4_Weapon_1', 'f_5_Weapon_1', 'f_6_Weapon_1', 'f_7_Weapon_1', 'f_8_Weapon_1', 'f_9_Weapon_1', 'f_0_Weapon_2', 'f_1_Weapon_2', 'f_2_Weapon_2', 'f_3_Weapon_2', 'f_4_Weapon_2', 'f_5_Weapon_2', 'f_6_Weapon_2', 'f_7_Weapon_2', 'f_8_Weapon_2', 'f_9_Weapon_2', 'f_0_Weapon_3', 'f_1_Weapon_3', 'f_2_Weapon_3', 'f_3_Weapon_3', 'f_4_Weapon_3', 'f_5_Weapon_3', 'f_6_Weapon_3', 'f_7_Weapon_3', 'f_8_Weapon_3', 'f_9_Weapon_3', 'f_0_Weapon_4', 'f_1_Weapon_4', 'f_2_Weapon_4', 'f_3_Weapon_4', 'f_4_Weapon_4', 'f_5_Weapon_4', 'f_6_Weapon_4', 'f_7_Weapon_4', 'f_8_Weapon_4', 'f_9_Weapon_4', 'f_0_Weapon_7', 'f_1_Weapon_7', 'f_2_Weapon_7', 'f_3_Weapon_7', 'f_4_Weapon_7', 'f_5_Weapon_7', 'f_6_Weapon_7', 'f_7_Weapon_7', 'f_8_Weapon_7', 'f_9_Weapon_7', 'f_0_Weapon_8', 'f_1_Weapon_8', 'f_2_Weapon_8', 'f_3_Weapon_8', 'f_4_Weapon_8', 'f_5_Weapon_8', 'f_6_Weapon_8', 'f_7_Weapon_8', 'f_8_Weapon_8', 'f_9_Weapon_8', 'f_0_Weapon_9', 'f_1_Weapon_9', 'f_2_Weapon_9', 'f_3_Weapon_9', 'f_4_Weapon_9', 'f_5_Weapon_9', 'f_6_Weapon_9', 'f_7_Weapon_9', 'f_8_Weapon_9', 'f_9_Weapon_9', 'f_0_Weapon_10', 'f_1_Weapon_10', 'f_2_Weapon_10', 'f_3_Weapon_10', 'f_4_Weapon_10', 'f_5_Weapon_10', 'f_6_Weapon_10', 'f_7_Weapon_10', 'f_8_Weapon_10', 'f_9_Weapon_10', 'f_0_Weapon_11', 'f_1_Weapon_11', 'f_2_Weapon_11', 'f_3_Weapon_11', 'f_4_Weapon_11', 'f_5_Weapon_11', 'f_6_Weapon_11', 'f_7_Weapon_11', 'f_8_Weapon_11', 'f_9_Weapon_11', 'f_0_Weapon_13', 'f_1_Weapon_13', 'f_2_Weapon_13', 'f_3_Weapon_13', 'f_4_Weapon_13', 'f_5_Weapon_13', 'f_6_Weapon_13', 'f_7_Weapon_13', 'f_8_Weapon_13', 'f_9_Weapon_13', 'f_0_Weapon_14', 'f_1_Weapon_14', 'f_2_Weapon_14', 'f_3_Weapon_14', 'f_4_Weapon_14', 'f_5_Weapon_14', 'f_6_Weapon_14', 'f_7_Weapon_14', 'f_8_Weapon_14', 'f_9_Weapon_14', 'f_0_Weapon_16', 'f_1_Weapon_16', 'f_2_Weapon_16', 'f_3_Weapon_16', 'f_4_Weapon_16', 'f_5_Weapon_16', 'f_6_Weapon_16', 'f_7_Weapon_16', 'f_8_Weapon_16', 'f_9_Weapon_16', 'f_0_Weapon_17', 'f_1_Weapon_17', 'f_2_Weapon_17', 'f_3_Weapon_17', 'f_4_Weapon_17', 'f_5_Weapon_17', 'f_6_Weapon_17', 'f_7_Weapon_17', 'f_8_Weapon_17', 'f_9_Weapon_17', 'f_0_Weapon_19', 'f_1_Weapon_19', 'f_2_Weapon_19', 'f_3_Weapon_19', 'f_4_Weapon_19', 'f_5_Weapon_19', 'f_6_Weapon_19', 'f_7_Weapon_19', 'f_8_Weapon_19', 'f_9_Weapon_19', 'f_0_Weapon_23', 'f_1_Weapon_23', 'f_2_Weapon_23', 'f_3_Weapon_23', 'f_4_Weapon_23', 'f_5_Weapon_23', 'f_6_Weapon_23', 'f_7_Weapon_23', 'f_8_Weapon_23', 'f_9_Weapon_23', 'f_0_Weapon_24', 'f_1_Weapon_24', 'f_2_Weapon_24', 'f_3_Weapon_24', 'f_4_Weapon_24', 'f_5_Weapon_24', 'f_6_Weapon_24', 'f_7_Weapon_24', 'f_8_Weapon_24', 'f_9_Weapon_24', 'f_0_Weapon_25', 'f_1_Weapon_25', 'f_2_Weapon_25', 'f_3_Weapon_25', 'f_4_Weapon_25', 'f_5_Weapon_25', 'f_6_Weapon_25', 'f_7_Weapon_25', 'f_8_Weapon_25', 'f_9_Weapon_25', 'f_0_Weapon_26', 'f_1_Weapon_26', 'f_2_Weapon_26', 'f_3_Weapon_26', 'f_4_Weapon_26', 'f_5_Weapon_26', 'f_6_Weapon_26', 'f_7_Weapon_26', 'f_8_Weapon_26', 'f_9_Weapon_26', 'f_0_Weapon_27', 'f_1_Weapon_27', 'f_2_Weapon_27', 'f_3_Weapon_27', 'f_4_Weapon_27', 'f_5_Weapon_27', 'f_6_Weapon_27', 'f_7_Weapon_27', 'f_8_Weapon_27', 'f_9_Weapon_27', 'f_0_Weapon_28', 'f_1_Weapon_28', 'f_2_Weapon_28', 'f_3_Weapon_28', 'f_4_Weapon_28', 'f_5_Weapon_28', 'f_6_Weapon_28', 'f_7_Weapon_28', 'f_8_Weapon_28', 'f_9_Weapon_28', 'f_0_Weapon_29', 'f_1_Weapon_29', 'f_2_Weapon_29', 'f_3_Weapon_29', 'f_4_Weapon_29', 'f_5_Weapon_29', 'f_6_Weapon_29', 'f_7_Weapon_29', 'f_8_Weapon_29', 'f_9_Weapon_29', 'f_0_Weapon_30', 'f_1_Weapon_30', 'f_2_Weapon_30', 'f_3_Weapon_30', 'f_4_Weapon_30', 'f_5_Weapon_30', 'f_6_Weapon_30', 'f_7_Weapon_30', 'f_8_Weapon_30', 'f_9_Weapon_30', 'f_0_Weapon_31', 'f_1_Weapon_31', 'f_2_Weapon_31', 'f_3_Weapon_31', 'f_4_Weapon_31', 'f_5_Weapon_31', 'f_6_Weapon_31', 'f_7_Weapon_31', 'f_8_Weapon_31', 'f_9_Weapon_31', 'f_0_Weapon_32', 'f_1_Weapon_32', 'f_2_Weapon_32', 'f_3_Weapon_32', 'f_4_Weapon_32', 'f_5_Weapon_32', 'f_6_Weapon_32', 'f_7_Weapon_32', 'f_8_Weapon_32', 'f_9_Weapon_32', 'f_0_Weapon_33', 'f_1_Weapon_33', 'f_2_Weapon_33', 'f_3_Weapon_33', 'f_4_Weapon_33', 'f_5_Weapon_33', 'f_6_Weapon_33', 'f_7_Weapon_33', 'f_8_Weapon_33', 'f_9_Weapon_33', 'f_0_Weapon_34', 'f_1_Weapon_34', 'f_2_Weapon_34', 'f_3_Weapon_34', 'f_4_Weapon_34', 'f_5_Weapon_34', 'f_6_Weapon_34', 'f_7_Weapon_34', 'f_8_Weapon_34', 'f_9_Weapon_34', 'f_0_Weapon_35', 'f_1_Weapon_35', 'f_2_Weapon_35', 'f_3_Weapon_35', 'f_4_Weapon_35', 'f_5_Weapon_35', 'f_6_Weapon_35', 'f_7_Weapon_35', 'f_8_Weapon_35', 'f_9_Weapon_35', 'f_0_Weapon_36', 'f_1_Weapon_36', 'f_2_Weapon_36', 'f_3_Weapon_36', 'f_4_Weapon_36', 'f_5_Weapon_36', 'f_6_Weapon_36', 'f_7_Weapon_36', 'f_8_Weapon_36', 'f_9_Weapon_36', 'f_0_Weapon_38', 'f_1_Weapon_38', 'f_2_Weapon_38', 'f_3_Weapon_38', 'f_4_Weapon_38', 'f_5_Weapon_38', 'f_6_Weapon_38', 'f_7_Weapon_38', 'f_8_Weapon_38', 'f_9_Weapon_38', 'f_0_Weapon_39', 'f_1_Weapon_39', 'f_2_Weapon_39', 'f_3_Weapon_39', 'f_4_Weapon_39', 'f_5_Weapon_39', 'f_6_Weapon_39', 'f_7_Weapon_39', 'f_8_Weapon_39', 'f_9_Weapon_39', 'f_0_Weapon_40', 'f_1_Weapon_40', 'f_2_Weapon_40', 'f_3_Weapon_40', 'f_4_Weapon_40', 'f_5_Weapon_40', 'f_6_Weapon_40', 'f_7_Weapon_40', 'f_8_Weapon_40', 'f_9_Weapon_40', 'f_0_Weapon_42', 'f_1_Weapon_42', 'f_2_Weapon_42', 'f_3_Weapon_42', 'f_4_Weapon_42', 'f_5_Weapon_42', 'f_6_Weapon_42', 'f_7_Weapon_42', 'f_8_Weapon_42', 'f_9_Weapon_42', 'f_0_Weapon_43', 'f_1_Weapon_43', 'f_2_Weapon_43', 'f_3_Weapon_43', 'f_4_Weapon_43', 'f_5_Weapon_43', 'f_6_Weapon_43', 'f_7_Weapon_43', 'f_8_Weapon_43', 'f_9_Weapon_43', 'f_0_Weapon_44', 'f_1_Weapon_44', 'f_2_Weapon_44', 'f_3_Weapon_44', 'f_4_Weapon_44', 'f_5_Weapon_44', 'f_6_Weapon_44', 'f_7_Weapon_44', 'f_8_Weapon_44', 'f_9_Weapon_44', 'f_0_Weapon_45', 'f_1_Weapon_45', 'f_2_Weapon_45', 'f_3_Weapon_45', 'f_4_Weapon_45', 'f_5_Weapon_45', 'f_6_Weapon_45', 'f_7_Weapon_45', 'f_8_Weapon_45', 'f_9_Weapon_45', 'f_0_Weapon_46', 'f_1_Weapon_46', 'f_2_Weapon_46', 'f_3_Weapon_46', 'f_4_Weapon_46', 'f_5_Weapon_46', 'f_6_Weapon_46', 'f_7_Weapon_46', 'f_8_Weapon_46', 'f_9_Weapon_46', 'f_0_Weapon_47', 'f_1_Weapon_47', 'f_2_Weapon_47', 'f_3_Weapon_47', 'f_4_Weapon_47', 'f_5_Weapon_47', 'f_6_Weapon_47', 'f_7_Weapon_47', 'f_8_Weapon_47', 'f_9_Weapon_47', 'f_0_Weapon_48', 'f_1_Weapon_48', 'f_2_Weapon_48', 'f_3_Weapon_48', 'f_4_Weapon_48', 'f_5_Weapon_48', 'f_6_Weapon_48', 'f_7_Weapon_48', 'f_8_Weapon_48', 'f_9_Weapon_48', 'f_0_Weapon_49', 'f_1_Weapon_49', 'f_2_Weapon_49', 'f_3_Weapon_49', 'f_4_Weapon_49', 'f_5_Weapon_49', 'f_6_Weapon_49', 'f_7_Weapon_49', 'f_8_Weapon_49', 'f_9_Weapon_49', 'f_0_Weapon_60', 'f_1_Weapon_60', 'f_2_Weapon_60', 'f_3_Weapon_60', 'f_4_Weapon_60', 'f_5_Weapon_60', 'f_6_Weapon_60', 'f_7_Weapon_60', 'f_8_Weapon_60', 'f_9_Weapon_60', 'f_0_Weapon_61', 'f_1_Weapon_61', 'f_2_Weapon_61', 'f_3_Weapon_61', 'f_4_Weapon_61', 'f_5_Weapon_61', 'f_6_Weapon_61', 'f_7_Weapon_61', 'f_8_Weapon_61', 'f_9_Weapon_61', 'f_0_Weapon_63', 'f_1_Weapon_63', 'f_2_Weapon_63', 'f_3_Weapon_63', 'f_4_Weapon_63', 'f_5_Weapon_63', 'f_6_Weapon_63', 'f_7_Weapon_63', 'f_8_Weapon_63', 'f_9_Weapon_63', 'f_0_Weapon_64', 'f_1_Weapon_64', 'f_2_Weapon_64', 'f_3_Weapon_64', 'f_4_Weapon_64', 'f_5_Weapon_64', 'f_6_Weapon_64', 'f_7_Weapon_64', 'f_8_Weapon_64', 'f_9_Weapon_64', 'f_0_AimOnEnemy_0', 'f_1_AimOnEnemy_0', 'f_2_AimOnEnemy_0', 'f_3_AimOnEnemy_0', 'f_4_AimOnEnemy_0', 'f_5_AimOnEnemy_0', 'f_6_AimOnEnemy_0', 'f_7_AimOnEnemy_0', 'f_8_AimOnEnemy_0', 'f_9_AimOnEnemy_0', 'f_0_AimOnEnemy_1', 'f_1_AimOnEnemy_1', 'f_2_AimOnEnemy_1', 'f_3_AimOnEnemy_1', 'f_4_AimOnEnemy_1', 'f_5_AimOnEnemy_1', 'f_6_AimOnEnemy_1', 'f_7_AimOnEnemy_1', 'f_8_AimOnEnemy_1', 'f_9_AimOnEnemy_1', 'f_0_AimOnEnemy_2', 'f_1_AimOnEnemy_2', 'f_2_AimOnEnemy_2', 'f_3_AimOnEnemy_2', 'f_4_AimOnEnemy_2', 'f_5_AimOnEnemy_2', 'f_6_AimOnEnemy_2', 'f_7_AimOnEnemy_2', 'f_8_AimOnEnemy_2', 'f_9_AimOnEnemy_2', 'f_0_AimOnEnemy_3', 'f_1_AimOnEnemy_3', 'f_2_AimOnEnemy_3', 'f_3_AimOnEnemy_3', 'f_4_AimOnEnemy_3', 'f_5_AimOnEnemy_3', 'f_6_AimOnEnemy_3', 'f_7_AimOnEnemy_3', 'f_8_AimOnEnemy_3', 'f_9_AimOnEnemy_3', 'f_0_AimOnEnemy_4', 'f_1_AimOnEnemy_4', 'f_2_AimOnEnemy_4', 'f_3_AimOnEnemy_4', 'f_4_AimOnEnemy_4', 'f_5_AimOnEnemy_4', 'f_6_AimOnEnemy_4', 'f_7_AimOnEnemy_4', 'f_8_AimOnEnemy_4', 'f_9_AimOnEnemy_4']\n710\n"
    }
   ],
   "source": [
    "lst = data_loader.get_column_names_from_features_set(\"training_all\")\n",
    "print(lst)\n",
    "print(len(lst))"
   ]
  },
  {
   "cell_type": "code",
   "execution_count": 10,
   "metadata": {},
   "outputs": [
    {
     "name": "stdout",
     "output_type": "stream",
     "text": "[{'id': 'Weapon_1', 'title': 'Weapon_1', 'type': 'float32'}, {'id': 'Weapon_2', 'title': 'Weapon_2', 'type': 'float32'}, {'id': 'Weapon_3', 'title': 'Weapon_3', 'type': 'float32'}, {'id': 'Weapon_4', 'title': 'Weapon_4', 'type': 'float32'}, {'id': 'Weapon_7', 'title': 'Weapon_7', 'type': 'float32'}, {'id': 'Weapon_8', 'title': 'Weapon_8', 'type': 'float32'}, {'id': 'Weapon_9', 'title': 'Weapon_9', 'type': 'float32'}, {'id': 'Weapon_10', 'title': 'Weapon_10', 'type': 'float32'}, {'id': 'Weapon_11', 'title': 'Weapon_11', 'type': 'float32'}, {'id': 'Weapon_13', 'title': 'Weapon_13', 'type': 'float32'}, {'id': 'Weapon_14', 'title': 'Weapon_14', 'type': 'float32'}, {'id': 'Weapon_16', 'title': 'Weapon_16', 'type': 'float32'}, {'id': 'Weapon_17', 'title': 'Weapon_17', 'type': 'float32'}, {'id': 'Weapon_19', 'title': 'Weapon_19', 'type': 'float32'}, {'id': 'Weapon_23', 'title': 'Weapon_23', 'type': 'float32'}, {'id': 'Weapon_24', 'title': 'Weapon_24', 'type': 'float32'}, {'id': 'Weapon_25', 'title': 'Weapon_25', 'type': 'float32'}, {'id': 'Weapon_26', 'title': 'Weapon_26', 'type': 'float32'}, {'id': 'Weapon_27', 'title': 'Weapon_27', 'type': 'float32'}, {'id': 'Weapon_28', 'title': 'Weapon_28', 'type': 'float32'}, {'id': 'Weapon_29', 'title': 'Weapon_29', 'type': 'float32'}, {'id': 'Weapon_30', 'title': 'Weapon_30', 'type': 'float32'}, {'id': 'Weapon_31', 'title': 'Weapon_31', 'type': 'float32'}, {'id': 'Weapon_32', 'title': 'Weapon_32', 'type': 'float32'}, {'id': 'Weapon_33', 'title': 'Weapon_33', 'type': 'float32'}, {'id': 'Weapon_34', 'title': 'Weapon_34', 'type': 'float32'}, {'id': 'Weapon_35', 'title': 'Weapon_35', 'type': 'float32'}, {'id': 'Weapon_36', 'title': 'Weapon_36', 'type': 'float32'}, {'id': 'Weapon_38', 'title': 'Weapon_38', 'type': 'float32'}, {'id': 'Weapon_39', 'title': 'Weapon_39', 'type': 'float32'}, {'id': 'Weapon_40', 'title': 'Weapon_40', 'type': 'float32'}, {'id': 'Weapon_42', 'title': 'Weapon_42', 'type': 'float32'}, {'id': 'Weapon_43', 'title': 'Weapon_43', 'type': 'float32'}, {'id': 'Weapon_44', 'title': 'Weapon_44', 'type': 'float32'}, {'id': 'Weapon_45', 'title': 'Weapon_45', 'type': 'float32'}, {'id': 'Weapon_46', 'title': 'Weapon_46', 'type': 'float32'}, {'id': 'Weapon_47', 'title': 'Weapon_47', 'type': 'float32'}, {'id': 'Weapon_48', 'title': 'Weapon_48', 'type': 'float32'}, {'id': 'Weapon_49', 'title': 'Weapon_49', 'type': 'float32'}, {'id': 'Weapon_60', 'title': 'Weapon_60', 'type': 'float32'}, {'id': 'Weapon_61', 'title': 'Weapon_61', 'type': 'float32'}, {'id': 'Weapon_63', 'title': 'Weapon_63', 'type': 'float32'}, {'id': 'Weapon_64', 'title': 'Weapon_64', 'type': 'float32'}]\n"
    }
   ],
   "source": [
    "res = map(lambda name: name.replace('f_0_',''),filter(lambda a: a.startswith('f_0'),data_loader.get_one_hot_encoded_weapon_feature_names()))\n",
    "\n",
    "obj_arr = []\n",
    "for name in list(res):\n",
    "    obj_arr.append({\n",
    "        \"id\": name,\n",
    "        \"title\": name[:1].upper() + name[1:],\n",
    "        \"type\": \"float32\"\n",
    "    })\n",
    "\n",
    "print(obj_arr)"
   ]
  },
  {
   "cell_type": "code",
   "execution_count": 11,
   "metadata": {},
   "outputs": [
    {
     "name": "stdout",
     "output_type": "stream",
     "text": " parsed\n300920.0 tick is parsed\n300936.0 tick is parsed\n300952.0 tick is parsed\n300968.0 tick is parsed\n300984.0 tick is parsed\n301000.0 tick is parsed\n301016.0 tick is parsed\n301032.0 tick is parsed\n301048.0 tick is parsed\n301064.0 tick is parsed\n301080.0 tick is parsed\n301096.0 tick is parsed\n301112.0 tick is parsed\n301128.0 tick is parsed\n301144.0 tick is parsed\n301160.0 tick is parsed\n301176.0 tick is parsed\n301192.0 tick is parsed\n301208.0 tick is parsed\n301224.0 tick is parsed\n301240.0 tick is parsed\n301256.0 tick is parsed\n301272.0 tick is parsed\n301288.0 tick is parsed\n301304.0 tick is parsed\n301320.0 tick is parsed\n301336.0 tick is parsed\n301352.0 tick is parsed\n301368.0 tick is parsed\n301384.0 tick is parsed\n301400.0 tick is parsed\n301416.0 tick is parsed\n301432.0 tick is parsed\n301448.0 tick is parsed\n301464.0 tick is parsed\n301480.0 tick is parsed\n301496.0 tick is parsed\n301512.0 tick is parsed\n301528.0 tick is parsed\n301544.0 tick is parsed\n301560.0 tick is parsed\n301576.0 tick is parsed\n301592.0 tick is parsed\n301608.0 tick is parsed\n301624.0 tick is parsed\n301640.0 tick is parsed\n301656.0 tick is parsed\n301672.0 tick is parsed\n301688.0 tick is parsed\n301704.0 tick is parsed\n301720.0 tick is parsed\n301736.0 tick is parsed\n301752.0 tick is parsed\n301768.0 tick is parsed\n301784.0 tick is parsed\n301800.0 tick is parsed\n301816.0 tick is parsed\n301832.0 tick is parsed\n301848.0 tick is parsed\n301864.0 tick is parsed\n301880.0 tick is parsed\n301896.0 tick is parsed\n301912.0 tick is parsed\n301928.0 tick is parsed\n301944.0 tick is parsed\n301960.0 tick is parsed\n301976.0 tick is parsed\n301992.0 tick is parsed\n302008.0 tick is parsed\n302024.0 tick is parsed\n302040.0 tick is parsed\n302056.0 tick is parsed\n302072.0 tick is parsed\n302088.0 tick is parsed\n302104.0 tick is parsed\n302120.0 tick is parsed\n302136.0 tick is parsed\n302152.0 tick is parsed\n302168.0 tick is parsed\n302184.0 tick is parsed\n302200.0 tick is parsed\n302216.0 tick is parsed\n302232.0 tick is parsed\n302248.0 tick is parsed\n302264.0 tick is parsed\n302280.0 tick is parsed\n302296.0 tick is parsed\n302312.0 tick is parsed\n302328.0 tick is parsed\n302344.0 tick is parsed\n302360.0 tick is parsed\n302376.0 tick is parsed\n302392.0 tick is parsed\n302408.0 tick is parsed\n302424.0 tick is parsed\n302440.0 tick is parsed\n302456.0 tick is parsed\n302472.0 tick is parsed\n302488.0 tick is parsed\n302504.0 tick is parsed\n302520.0 tick is parsed\n302536.0 tick is parsed\n302552.0 tick is parsed\n302568.0 tick is parsed\n302584.0 tick is parsed\n302600.0 tick is parsed\n302616.0 tick is parsed\n302632.0 tick is parsed\n302648.0 tick is parsed\n302664.0 tick is parsed\n302680.0 tick is parsed\n302696.0 tick is parsed\n302712.0 tick is parsed\n302728.0 tick is parsed\n302744.0 tick is parsed\n302760.0 tick is parsed\n302776.0 tick is parsed\n302792.0 tick is parsed\n302808.0 tick is parsed\n302824.0 tick is parsed\n302840.0 tick is parsed\n302856.0 tick is parsed\n302872.0 tick is parsed\n302888.0 tick is parsed\n302904.0 tick is parsed\n302920.0 tick is parsed\n302936.0 tick is parsed\n302952.0 tick is parsed\n302968.0 tick is parsed\n302984.0 tick is parsed\n303000.0 tick is parsed\n303016.0 tick is parsed\n303032.0 tick is parsed\n303048.0 tick is parsed\n303064.0 tick is parsed\n303080.0 tick is parsed\n303096.0 tick is parsed\n303112.0 tick is parsed\n303128.0 tick is parsed\n303144.0 tick is parsed\n303160.0 tick is parsed\n303176.0 tick is parsed\n303192.0 tick is parsed\n303208.0 tick is parsed\n303224.0 tick is parsed\n303240.0 tick is parsed\n303256.0 tick is parsed\n303272.0 tick is parsed\n303288.0 tick is parsed\n303304.0 tick is parsed\n303320.0 tick is parsed\n303336.0 tick is parsed\n303352.0 tick is parsed\n303368.0 tick is parsed\n303384.0 tick is parsed\n303400.0 tick is parsed\n303416.0 tick is parsed\n303432.0 tick is parsed\n303448.0 tick is parsed\n303464.0 tick is parsed\n303480.0 tick is parsed\n303496.0 tick is parsed\n303512.0 tick is parsed\n303528.0 tick is parsed\n303544.0 tick is parsed\n303560.0 tick is parsed\n303576.0 tick is parsed\n303592.0 tick is parsed\n303608.0 tick is parsed\n303624.0 tick is parsed\n303640.0 tick is parsed\n303656.0 tick is parsed\n303672.0 tick is parsed\n303688.0 tick is parsed\n303704.0 tick is parsed\n303720.0 tick is parsed\n303736.0 tick is parsed\n303752.0 tick is parsed\n303768.0 tick is parsed\n303784.0 tick is parsed\n303800.0 tick is parsed\n303816.0 tick is parsed\n303832.0 tick is parsed\n303848.0 tick is parsed\n303864.0 tick is parsed\n303880.0 tick is parsed\n303896.0 tick is parsed\n303912.0 tick is parsed\n303928.0 tick is parsed\n303944.0 tick is parsed\n303960.0 tick is parsed\n303976.0 tick is parsed\n303992.0 tick is parsed\n304008.0 tick is parsed\n304024.0 tick is parsed\n304040.0 tick is parsed\n304056.0 tick is parsed\n304072.0 tick is parsed\n304088.0 tick is parsed\n304104.0 tick is parsed\n304120.0 tick is parsed\n304136.0 tick is parsed\n304152.0 tick is parsed\n304168.0 tick is parsed\n304184.0 tick is parsed\n304200.0 tick is parsed\n304216.0 tick is parsed\n304232.0 tick is parsed\n304248.0 tick is parsed\n304264.0 tick is parsed\n304280.0 tick is parsed\n304296.0 tick is parsed\n304312.0 tick is parsed\n304328.0 tick is parsed\n304344.0 tick is parsed\n304360.0 tick is parsed\n304376.0 tick is parsed\n304392.0 tick is parsed\n304408.0 tick is parsed\n304424.0 tick is parsed\n304440.0 tick is parsed\n304456.0 tick is parsed\n304472.0 tick is parsed\n304488.0 tick is parsed\n304504.0 tick is parsed\n304520.0 tick is parsed\n304536.0 tick is parsed\n304552.0 tick is parsed\n304568.0 tick is parsed\n304584.0 tick is parsed\n304600.0 tick is parsed\n304616.0 tick is parsed\n304632.0 tick is parsed\n304648.0 tick is parsed\n304664.0 tick is parsed\n304680.0 tick is parsed\n304696.0 tick is parsed\n304712.0 tick is parsed\n304728.0 tick is parsed\n304744.0 tick is parsed\n304760.0 tick is parsed\n304776.0 tick is parsed\n304792.0 tick is parsed\n304808.0 tick is parsed\n304824.0 tick is parsed\n304840.0 tick is parsed\n304856.0 tick is parsed\n304872.0 tick is parsed\n304888.0 tick is parsed\n304904.0 tick is parsed\n304920.0 tick is parsed\n304936.0 tick is parsed\n304952.0 tick is parsed\n304968.0 tick is parsed\n304984.0 tick is parsed\n305000.0 tick is parsed\n305016.0 tick is parsed\n305032.0 tick is parsed\n305048.0 tick is parsed\n305064.0 tick is parsed\n305080.0 tick is parsed\n305096.0 tick is parsed\n305112.0 tick is parsed\n305128.0 tick is parsed\n305144.0 tick is parsed\n305160.0 tick is parsed\n305176.0 tick is parsed\n305192.0 tick is parsed\n305208.0 tick is parsed\n305224.0 tick is parsed\n305240.0 tick is parsed\n305256.0 tick is parsed\n305272.0 tick is parsed\n305288.0 tick is parsed\n305304.0 tick is parsed\n305320.0 tick is parsed\n305336.0 tick is parsed\n305352.0 tick is parsed\n305368.0 tick is parsed\n305384.0 tick is parsed\n305400.0 tick is parsed\n305416.0 tick is parsed\n305432.0 tick is parsed\n305448.0 tick is parsed\n305464.0 tick is parsed\n305480.0 tick is parsed\n305496.0 tick is parsed\n305512.0 tick is parsed\n305528.0 tick is parsed\n305544.0 tick is parsed\n305560.0 tick is parsed\n305576.0 tick is parsed\n305592.0 tick is parsed\n305608.0 tick is parsed\n305624.0 tick is parsed\n305640.0 tick is parsed\n305656.0 tick is parsed\n305672.0 tick is parsed\n305688.0 tick is parsed\n305704.0 tick is parsed\n305720.0 tick is parsed\n305736.0 tick is parsed\n305752.0 tick is parsed\n305768.0 tick is parsed\n305784.0 tick is parsed\n305800.0 tick is parsed\n305816.0 tick is parsed\n305832.0 tick is parsed\n305848.0 tick is parsed\n305864.0 tick is parsed\n305880.0 tick is parsed\n305896.0 tick is parsed\n305912.0 tick is parsed\n305928.0 tick is parsed\n305944.0 tick is parsed\n305960.0 tick is parsed\n305976.0 tick is parsed\n305992.0 tick is parsed\n306008.0 tick is parsed\n306024.0 tick is parsed\n306040.0 tick is parsed\n306056.0 tick is parsed\n306072.0 tick is parsed\n306088.0 tick is parsed\n306104.0 tick is parsed\n306120.0 tick is parsed\n306136.0 tick is parsed\n306152.0 tick is parsed\n306168.0 tick is parsed\n306184.0 tick is parsed\n306200.0 tick is parsed\n306216.0 tick is parsed\n306232.0 tick is parsed\n306248.0 tick is parsed\n306264.0 tick is parsed\n306280.0 tick is parsed\n306296.0 tick is parsed\n306312.0 tick is parsed\n306328.0 tick is parsed\n306344.0 tick is parsed\n306360.0 tick is parsed\n306376.0 tick is parsed\n306392.0 tick is parsed\n306408.0 tick is parsed\n306424.0 tick is parsed\n306440.0 tick is parsed\n306456.0 tick is parsed\n306472.0 tick is parsed\n306488.0 tick is parsed\n306504.0 tick is parsed\n306520.0 tick is parsed\n306536.0 tick is parsed\n306552.0 tick is parsed\n306568.0 tick is parsed\n306584.0 tick is parsed\n306600.0 tick is parsed\n306616.0 tick is parsed\n306632.0 tick is parsed\n306648.0 tick is parsed\n306664.0 tick is parsed\n306680.0 tick is parsed\n306696.0 tick is parsed\n306712.0 tick is parsed\n306728.0 tick is parsed\n306744.0 tick is parsed\n306760.0 tick is parsed\n306776.0 tick is parsed\n306792.0 tick is parsed\n306808.0 tick is parsed\n306824.0 tick is parsed\n306840.0 tick is parsed\n306856.0 tick is parsed\n306872.0 tick is parsed\n306888.0 tick is parsed\n306904.0 tick is parsed\n306920.0 tick is parsed\n306936.0 tick is parsed\n306952.0 tick is parsed\n306968.0 tick is parsed\n306984.0 tick is parsed\n307000.0 tick is parsed\n307016.0 tick is parsed\n307032.0 tick is parsed\n307048.0 tick is parsed\n307064.0 tick is parsed\n307080.0 tick is parsed\n307096.0 tick is parsed\n307112.0 tick is parsed\n307128.0 tick is parsed\n307144.0 tick is parsed\n307160.0 tick is parsed\n307176.0 tick is parsed\n307192.0 tick is parsed\n307208.0 tick is parsed\n307224.0 tick is parsed\n307240.0 tick is parsed\n307256.0 tick is parsed\n307272.0 tick is parsed\n307288.0 tick is parsed\n307304.0 tick is parsed\n307320.0 tick is parsed\n307336.0 tick is parsed\n307352.0 tick is parsed\n307368.0 tick is parsed\n307384.0 tick is parsed\n307400.0 tick is parsed\n307416.0 tick is parsed\n307432.0 tick is parsed\n307448.0 tick is parsed\n307464.0 tick is parsed\n307480.0 tick is parsed\n307496.0 tick is parsed\n307512.0 tick is parsed\n307528.0 tick is parsed\n307544.0 tick is parsed\n307560.0 tick is parsed\n307576.0 tick is parsed\n307592.0 tick is parsed\n307608.0 tick is parsed\n307624.0 tick is parsed\n307640.0 tick is parsed\n307656.0 tick is parsed\n307672.0 tick is parsed\n307688.0 tick is parsed\n307704.0 tick is parsed\n307720.0 tick is parsed\n307736.0 tick is parsed\n307752.0 tick is parsed\n307768.0 tick is parsed\n307784.0 tick is parsed\n307800.0 tick is parsed\n307816.0 tick is parsed\n307832.0 tick is parsed\n307848.0 tick is parsed\n307864.0 tick is parsed\n307880.0 tick is parsed\n307896.0 tick is parsed\n307912.0 tick is parsed\n307928.0 tick is parsed\n307944.0 tick is parsed\n307960.0 tick is parsed\n307976.0 tick is parsed\n307992.0 tick is parsed\n308008.0 tick is parsed\n308024.0 tick is parsed\n308040.0 tick is parsed\n308056.0 tick is parsed\n308072.0 tick is parsed\n308088.0 tick is parsed\n308104.0 tick is parsed\n308120.0 tick is parsed\n308136.0 tick is parsed\n308152.0 tick is parsed\n308168.0 tick is parsed\n308184.0 tick is parsed\n308200.0 tick is parsed\n308216.0 tick is parsed\n308232.0 tick is parsed\n308248.0 tick is parsed\n308264.0 tick is parsed\n308280.0 tick is parsed\n308296.0 tick is parsed\n308312.0 tick is parsed\n308328.0 tick is parsed\n308344.0 tick is parsed\n308360.0 tick is parsed\n308376.0 tick is parsed\n308392.0 tick is parsed\n308408.0 tick is parsed\n308424.0 tick is parsed\n308440.0 tick is parsed\n308456.0 tick is parsed\n308472.0 tick is parsed\n308488.0 tick is parsed\n308504.0 tick is parsed\n308520.0 tick is parsed\n308536.0 tick is parsed\n308552.0 tick is parsed\n308568.0 tick is parsed\n308584.0 tick is parsed\n308600.0 tick is parsed\n308616.0 tick is parsed\n308632.0 tick is parsed\n308648.0 tick is parsed\n308664.0 tick is parsed\n308680.0 tick is parsed\n308696.0 tick is parsed\n308712.0 tick is parsed\n308728.0 tick is parsed\n308744.0 tick is parsed\n308760.0 tick is parsed\n308776.0 tick is parsed\n308792.0 tick is parsed\n308808.0 tick is parsed\n308824.0 tick is parsed\n308840.0 tick is parsed\n308856.0 tick is parsed\n308872.0 tick is parsed\n308888.0 tick is parsed\n308904.0 tick is parsed\n308920.0 tick is parsed\n308936.0 tick is parsed\n308952.0 tick is parsed\n308968.0 tick is parsed\n308984.0 tick is parsed\n309000.0 tick is parsed\n309016.0 tick is parsed\n309032.0 tick is parsed\n309048.0 tick is parsed\n309064.0 tick is parsed\n309080.0 tick is parsed\n309096.0 tick is parsed\n309112.0 tick is parsed\n309128.0 tick is parsed\n309144.0 tick is parsed\n309160.0 tick is parsed\n309176.0 tick is parsed\n309192.0 tick is parsed\n309208.0 tick is parsed\n309224.0 tick is parsed\n309240.0 tick is parsed\n309256.0 tick is parsed\n309272.0 tick is parsed\n309288.0 tick is parsed\n309304.0 tick is parsed\n309320.0 tick is parsed\n309336.0 tick is parsed\n309352.0 tick is parsed\n309368.0 tick is parsed\n309384.0 tick is parsed\n309400.0 tick is parsed\n309416.0 tick is parsed\n309432.0 tick is parsed\n309448.0 tick is parsed\n309464.0 tick is parsed\n309480.0 tick is parsed\n309496.0 tick is parsed\n309512.0 tick is parsed\n309528.0 tick is parsed\n309544.0 tick is parsed\n309560.0 tick is parsed\n309576.0 tick is parsed\n309592.0 tick is parsed\n309608.0 tick is parsed\n309624.0 tick is parsed\n309640.0 tick is parsed\n309656.0 tick is parsed\n309672.0 tick is parsed\n309688.0 tick is parsed\n309704.0 tick is parsed\n309720.0 tick is parsed\n309736.0 tick is parsed\n309752.0 tick is parsed\n309768.0 tick is parsed\n309784.0 tick is parsed\n309800.0 tick is parsed\n309816.0 tick is parsed\n309832.0 tick is parsed\n309848.0 tick is parsed\n309864.0 tick is parsed\n309880.0 tick is parsed\n309896.0 tick is parsed\n309912.0 tick is parsed\n309928.0 tick is parsed\n309944.0 tick is parsed\n309960.0 tick is parsed\n309976.0 tick is parsed\n309992.0 tick is parsed\n310008.0 tick is parsed\n310024.0 tick is parsed\n310040.0 tick is parsed\n310056.0 tick is parsed\n310072.0 tick is parsed\n310088.0 tick is parsed\n310104.0 tick is parsed\n310120.0 tick is parsed\n310136.0 tick is parsed\n310152.0 tick is parsed\n310168.0 tick is parsed\n310184.0 tick is parsed\n310200.0 tick is parsed\n310216.0 tick is parsed\n310232.0 tick is parsed\n310248.0 tick is parsed\n310264.0 tick is parsed\n310280.0 tick is parsed\n310296.0 tick is parsed\n310312.0 tick is parsed\n310328.0 tick is parsed\n310344.0 tick is parsed\n310360.0 tick is parsed\n310376.0 tick is parsed\n310392.0 tick is parsed\n310408.0 tick is parsed\n310424.0 tick is parsed\n310440.0 tick is parsed\n310456.0 tick is parsed\n310472.0 tick is parsed\n310488.0 tick is parsed\n310504.0 tick is parsed\n310520.0 tick is parsed\n310536.0 tick is parsed\n310552.0 tick is parsed\n310568.0 tick is parsed\n310584.0 tick is parsed\n310600.0 tick is parsed\n310616.0 tick is parsed\n310632.0 tick is parsed\n310648.0 tick is parsed\n310664.0 tick is parsed\n310680.0 tick is parsed\n310696.0 tick is parsed\n310712.0 tick is parsed\n310728.0 tick is parsed\n310744.0 tick is parsed\n310760.0 tick is parsed\n310776.0 tick is parsed\n310792.0 tick is parsed\n310808.0 tick is parsed\n310824.0 tick is parsed\n310840.0 tick is parsed\n310856.0 tick is parsed\n310872.0 tick is parsed\n310888.0 tick is parsed\n310904.0 tick is parsed\n310920.0 tick is parsed\n310936.0 tick is parsed\n310952.0 tick is parsed\n310968.0 tick is parsed\n310984.0 tick is parsed\n311000.0 tick is parsed\n311016.0 tick is parsed\n311032.0 tick is parsed\n311048.0 tick is parsed\n311064.0 tick is parsed\n311080.0 tick is parsed\n311096.0 tick is parsed\n311112.0 tick is parsed\n311128.0 tick is parsed\n311144.0 tick is parsed\n311160.0 tick is parsed\n311176.0 tick is parsed\n311192.0 tick is parsed\n311208.0 tick is parsed\n311224.0 tick is parsed\n311240.0 tick is parsed\n311256.0 tick is parsed\n311272.0 tick is parsed\n311288.0 tick is parsed\n311304.0 tick is parsed\n311320.0 tick is parsed\n311336.0 tick is parsed\n311352.0 tick is parsed\n311368.0 tick is parsed\n311384.0 tick is parsed\n311400.0 tick is parsed\n311416.0 tick is parsed\n311432.0 tick is parsed\n311448.0 tick is parsed\n311464.0 tick is parsed\n311480.0 tick is parsed\n311496.0 tick is parsed\n311512.0 tick is parsed\n311528.0 tick is parsed\n311544.0 tick is parsed\n311560.0 tick is parsed\n311576.0 tick is parsed\n311592.0 tick is parsed\n311608.0 tick is parsed\n311624.0 tick is parsed\n311640.0 tick is parsed\n311656.0 tick is parsed\n311672.0 tick is parsed\n311688.0 tick is parsed\n311704.0 tick is parsed\n311720.0 tick is parsed\n311736.0 tick is parsed\n311752.0 tick is parsed\n311768.0 tick is parsed\n311784.0 tick is parsed\n311800.0 tick is parsed\n311816.0 tick is parsed\n311832.0 tick is parsed\n311848.0 tick is parsed\n311864.0 tick is parsed\n311880.0 tick is parsed\n311896.0 tick is parsed\n311912.0 tick is parsed\n311928.0 tick is parsed\n311944.0 tick is parsed\n311960.0 tick is parsed\n311976.0 tick is parsed\n311992.0 tick is parsed\n312008.0 tick is parsed\n312024.0 tick is parsed\n312040.0 tick is parsed\n312056.0 tick is parsed\n312072.0 tick is parsed\n312088.0 tick is parsed\n312104.0 tick is parsed\n312120.0 tick is parsed\n312136.0 tick is parsed\n312152.0 tick is parsed\n312168.0 tick is parsed\n312184.0 tick is parsed\n312200.0 tick is parsed\n312216.0 tick is parsed\n312232.0 tick is parsed\n312248.0 tick is parsed\n312264.0 tick is parsed\n312280.0 tick is parsed\n312296.0 tick is parsed\n312312.0 tick is parsed\n312328.0 tick is parsed\n312344.0 tick is parsed\n312360.0 tick is parsed\n312376.0 tick is parsed\n312392.0 tick is parsed\n312408.0 tick is parsed\n312424.0 tick is parsed\n312440.0 tick is parsed\n312456.0 tick is parsed\n312472.0 tick is parsed\n312488.0 tick is parsed\n312504.0 tick is parsed\n312520.0 tick is parsed\n312536.0 tick is parsed\n312552.0 tick is parsed\n312568.0 tick is parsed\n312584.0 tick is parsed\n312600.0 tick is parsed\n312616.0 tick is parsed\n312632.0 tick is parsed\n312648.0 tick is parsed\n312664.0 tick is parsed\n312680.0 tick is parsed\n312696.0 tick is parsed\n312712.0 tick is parsed\n312728.0 tick is parsed\n312744.0 tick is parsed\n312760.0 tick is parsed\n312776.0 tick is parsed\n312792.0 tick is parsed\n312808.0 tick is parsed\n312824.0 tick is parsed\n312840.0 tick is parsed\n312856.0 tick is parsed\n312872.0 tick is parsed\n312888.0 tick is parsed\n312904.0 tick is parsed\n312920.0 tick is parsed\n312936.0 tick is parsed\n312952.0 tick is parsed\n312968.0 tick is parsed\n312984.0 tick is parsed\n313000.0 tick is parsed\n313016.0 tick is parsed\n313032.0 tick is parsed\n313048.0 tick is parsed\n313064.0 tick is parsed\n313080.0 tick is parsed\n313096.0 tick is parsed\n313112.0 tick is parsed\n313128.0 tick is parsed\n313144.0 tick is parsed\n313160.0 tick is parsed\n313176.0 tick is parsed\n313192.0 tick is parsed\n313208.0 tick is parsed\n313224.0 tick is parsed\n313240.0 tick is parsed\n313256.0 tick is parsed\n313272.0 tick is parsed\n313288.0 tick is parsed\n313304.0 tick is parsed\n313320.0 tick is parsed\n313336.0 tick is parsed\n313352.0 tick is parsed\n313368.0 tick is parsed\n313384.0 tick is parsed\n313400.0 tick is parsed\n313416.0 tick is parsed\n313432.0 tick is parsed\n313448.0 tick is parsed\n313464.0 tick is parsed\n313481.0 tick is parsed\n313497.0 tick is parsed\n313513.0 tick is parsed\n313529.0 tick is parsed\n313545.0 tick is parsed\n313561.0 tick is parsed\n313577.0 tick is parsed\n313593.0 tick is parsed\n313609.0 tick is parsed\n313625.0 tick is parsed\n313641.0 tick is parsed\n313657.0 tick is parsed\n313673.0 tick is parsed\n313689.0 tick is parsed\n313705.0 tick is parsed\n313721.0 tick is parsed\n313737.0 tick is parsed\n313753.0 tick is parsed\n313769.0 tick is parsed\n313785.0 tick is parsed\n313801.0 tick is parsed\n313817.0 tick is parsed\n313833.0 tick is parsed\n313849.0 tick is parsed\n313865.0 tick is parsed\n313881.0 tick is parsed\n313897.0 tick is parsed\n313913.0 tick is parsed\n313929.0 tick is parsed\n313945.0 tick is parsed\n313961.0 tick is parsed\n313977.0 tick is parsed\n313993.0 tick is parsed\n314009.0 tick is parsed\n314025.0 tick is parsed\n314041.0 tick is parsed\n314057.0 tick is parsed\n314073.0 tick is parsed\n314089.0 tick is parsed\n314105.0 tick is parsed\n314121.0 tick is parsed\n314137.0 tick is parsed\n314153.0 tick is parsed\n314169.0 tick is parsed\n314185.0 tick is parsed\n314201.0 tick is parsed\n314217.0 tick is parsed\n314233.0 tick is parsed\n"
    }
   ],
   "source": [
    "prep = preprocess.add_die_within_sec_labels(sample_file)\n",
    "prep = preprocess.add_one_hot_encoding_angles(prep)\n",
    "prep = preprocess.add_one_hot_encoding_weapons(prep)"
   ]
  },
  {
   "cell_type": "code",
   "execution_count": 12,
   "metadata": {},
   "outputs": [
    {
     "data": {
      "text/plain": "Index(['f_0_AimOnEnemy_0', 'f_1_AimOnEnemy_0', 'f_2_AimOnEnemy_0',\n       'f_3_AimOnEnemy_0', 'f_4_AimOnEnemy_0', 'f_5_AimOnEnemy_0',\n       'f_6_AimOnEnemy_0', 'f_7_AimOnEnemy_0', 'f_8_AimOnEnemy_0',\n       'f_9_AimOnEnemy_0', 'l_0_die_within_5_seconds',\n       'l_1_die_within_5_seconds', 'l_2_die_within_5_seconds',\n       'l_3_die_within_5_seconds', 'l_4_die_within_5_seconds',\n       'l_5_die_within_5_seconds', 'l_6_die_within_5_seconds',\n       'l_7_die_within_5_seconds', 'l_8_die_within_5_seconds',\n       'l_9_die_within_5_seconds'],\n      dtype='object')"
     },
     "execution_count": 12,
     "metadata": {},
     "output_type": "execute_result"
    }
   ],
   "source": [
    "prep[data_loader.get_feature_column_names('AimOnEnemy_0') + data_loader.get_die_within_seconds_column_names()].columns"
   ]
  },
  {
   "cell_type": "code",
   "execution_count": 25,
   "metadata": {},
   "outputs": [
    {
     "name": "stdout",
     "output_type": "stream",
     "text": "../../csgo_dataset/parsed_files/renegades-vs-fnatic-m3-inferno.csv\n"
    }
   ],
   "source": [
    "tick = 84019\n",
    "player = 0\n",
    "target_player = 6\n",
    "target = target_player - 5\n",
    "\n",
    "print(csv_file)"
   ]
  },
  {
   "cell_type": "code",
   "execution_count": 26,
   "metadata": {},
   "outputs": [
    {
     "data": {
      "text/html": "<div>\n<style scoped>\n    .dataframe tbody tr th:only-of-type {\n        vertical-align: middle;\n    }\n\n    .dataframe tbody tr th {\n        vertical-align: top;\n    }\n\n    .dataframe thead th {\n        text-align: right;\n    }\n</style>\n<table border=\"1\" class=\"dataframe\">\n  <thead>\n    <tr style=\"text-align: right;\">\n      <th></th>\n      <th>f_0_IsAlive</th>\n      <th>f_1_IsAlive</th>\n      <th>f_2_IsAlive</th>\n      <th>f_3_IsAlive</th>\n      <th>f_4_IsAlive</th>\n      <th>f_5_IsAlive</th>\n      <th>f_6_IsAlive</th>\n      <th>f_7_IsAlive</th>\n      <th>f_8_IsAlive</th>\n      <th>f_9_IsAlive</th>\n    </tr>\n    <tr>\n      <th>Tick</th>\n      <th></th>\n      <th></th>\n      <th></th>\n      <th></th>\n      <th></th>\n      <th></th>\n      <th></th>\n      <th></th>\n      <th></th>\n      <th></th>\n    </tr>\n  </thead>\n  <tbody>\n    <tr>\n      <th>83970.0</th>\n      <td>1.0</td>\n      <td>1.0</td>\n      <td>1.0</td>\n      <td>1.0</td>\n      <td>1.0</td>\n      <td>1.0</td>\n      <td>1.0</td>\n      <td>1.0</td>\n      <td>1.0</td>\n      <td>1.0</td>\n    </tr>\n    <tr>\n      <th>83986.0</th>\n      <td>1.0</td>\n      <td>1.0</td>\n      <td>1.0</td>\n      <td>1.0</td>\n      <td>1.0</td>\n      <td>1.0</td>\n      <td>1.0</td>\n      <td>1.0</td>\n      <td>1.0</td>\n      <td>1.0</td>\n    </tr>\n    <tr>\n      <th>84002.0</th>\n      <td>1.0</td>\n      <td>1.0</td>\n      <td>1.0</td>\n      <td>1.0</td>\n      <td>1.0</td>\n      <td>1.0</td>\n      <td>1.0</td>\n      <td>1.0</td>\n      <td>1.0</td>\n      <td>1.0</td>\n    </tr>\n    <tr>\n      <th>84018.0</th>\n      <td>0.0</td>\n      <td>1.0</td>\n      <td>1.0</td>\n      <td>1.0</td>\n      <td>1.0</td>\n      <td>1.0</td>\n      <td>1.0</td>\n      <td>1.0</td>\n      <td>1.0</td>\n      <td>1.0</td>\n    </tr>\n    <tr>\n      <th>84034.0</th>\n      <td>0.0</td>\n      <td>1.0</td>\n      <td>1.0</td>\n      <td>1.0</td>\n      <td>1.0</td>\n      <td>1.0</td>\n      <td>1.0</td>\n      <td>1.0</td>\n      <td>1.0</td>\n      <td>1.0</td>\n    </tr>\n    <tr>\n      <th>84050.0</th>\n      <td>0.0</td>\n      <td>1.0</td>\n      <td>1.0</td>\n      <td>1.0</td>\n      <td>1.0</td>\n      <td>1.0</td>\n      <td>1.0</td>\n      <td>1.0</td>\n      <td>1.0</td>\n      <td>1.0</td>\n    </tr>\n    <tr>\n      <th>84066.0</th>\n      <td>0.0</td>\n      <td>1.0</td>\n      <td>1.0</td>\n      <td>1.0</td>\n      <td>1.0</td>\n      <td>1.0</td>\n      <td>1.0</td>\n      <td>1.0</td>\n      <td>1.0</td>\n      <td>1.0</td>\n    </tr>\n  </tbody>\n</table>\n</div>",
      "text/plain": "         f_0_IsAlive  f_1_IsAlive  f_2_IsAlive  f_3_IsAlive  f_4_IsAlive  \\\nTick                                                                       \n83970.0          1.0          1.0          1.0          1.0          1.0   \n83986.0          1.0          1.0          1.0          1.0          1.0   \n84002.0          1.0          1.0          1.0          1.0          1.0   \n84018.0          0.0          1.0          1.0          1.0          1.0   \n84034.0          0.0          1.0          1.0          1.0          1.0   \n84050.0          0.0          1.0          1.0          1.0          1.0   \n84066.0          0.0          1.0          1.0          1.0          1.0   \n\n         f_5_IsAlive  f_6_IsAlive  f_7_IsAlive  f_8_IsAlive  f_9_IsAlive  \nTick                                                                      \n83970.0          1.0          1.0          1.0          1.0          1.0  \n83986.0          1.0          1.0          1.0          1.0          1.0  \n84002.0          1.0          1.0          1.0          1.0          1.0  \n84018.0          1.0          1.0          1.0          1.0          1.0  \n84034.0          1.0          1.0          1.0          1.0          1.0  \n84050.0          1.0          1.0          1.0          1.0          1.0  \n84066.0          1.0          1.0          1.0          1.0          1.0  "
     },
     "execution_count": 26,
     "metadata": {},
     "output_type": "execute_result"
    }
   ],
   "source": [
    "prep.loc[tick-50:tick+50,data_loader.get_isAlive_column_names()]"
   ]
  },
  {
   "cell_type": "code",
   "execution_count": 28,
   "metadata": {},
   "outputs": [
    {
     "name": "stdout",
     "output_type": "stream",
     "text": "['f_0_AimOnEnemy_0', 'f_0_AimOnEnemy_1', 'f_0_AimOnEnemy_2', 'f_0_AimOnEnemy_3', 'f_0_AimOnEnemy_4', 'f_0_IsAlive']\n"
    },
    {
     "data": {
      "text/html": "<div>\n<style scoped>\n    .dataframe tbody tr th:only-of-type {\n        vertical-align: middle;\n    }\n\n    .dataframe tbody tr th {\n        vertical-align: top;\n    }\n\n    .dataframe thead th {\n        text-align: right;\n    }\n</style>\n<table border=\"1\" class=\"dataframe\">\n  <thead>\n    <tr style=\"text-align: right;\">\n      <th></th>\n      <th>f_0_AimOnEnemy_0</th>\n      <th>f_0_AimOnEnemy_1</th>\n      <th>f_0_AimOnEnemy_2</th>\n      <th>f_0_AimOnEnemy_3</th>\n      <th>f_0_AimOnEnemy_4</th>\n      <th>f_0_IsAlive</th>\n    </tr>\n    <tr>\n      <th>Tick</th>\n      <th></th>\n      <th></th>\n      <th></th>\n      <th></th>\n      <th></th>\n      <th></th>\n    </tr>\n  </thead>\n  <tbody>\n    <tr>\n      <th>83026.0</th>\n      <td>0.0</td>\n      <td>0.0</td>\n      <td>0.0</td>\n      <td>0.0</td>\n      <td>0.0</td>\n      <td>1.0</td>\n    </tr>\n    <tr>\n      <th>83042.0</th>\n      <td>0.0</td>\n      <td>0.0</td>\n      <td>0.0</td>\n      <td>0.0</td>\n      <td>0.0</td>\n      <td>1.0</td>\n    </tr>\n    <tr>\n      <th>83058.0</th>\n      <td>0.0</td>\n      <td>0.0</td>\n      <td>0.0</td>\n      <td>0.0</td>\n      <td>0.0</td>\n      <td>1.0</td>\n    </tr>\n    <tr>\n      <th>83074.0</th>\n      <td>0.0</td>\n      <td>0.0</td>\n      <td>0.0</td>\n      <td>0.0</td>\n      <td>0.0</td>\n      <td>1.0</td>\n    </tr>\n    <tr>\n      <th>83090.0</th>\n      <td>0.0</td>\n      <td>0.0</td>\n      <td>0.0</td>\n      <td>0.0</td>\n      <td>0.0</td>\n      <td>1.0</td>\n    </tr>\n    <tr>\n      <th>...</th>\n      <td>...</td>\n      <td>...</td>\n      <td>...</td>\n      <td>...</td>\n      <td>...</td>\n      <td>...</td>\n    </tr>\n    <tr>\n      <th>84050.0</th>\n      <td>0.0</td>\n      <td>0.0</td>\n      <td>0.0</td>\n      <td>0.0</td>\n      <td>0.0</td>\n      <td>0.0</td>\n    </tr>\n    <tr>\n      <th>84066.0</th>\n      <td>0.0</td>\n      <td>0.0</td>\n      <td>0.0</td>\n      <td>0.0</td>\n      <td>0.0</td>\n      <td>0.0</td>\n    </tr>\n    <tr>\n      <th>84082.0</th>\n      <td>0.0</td>\n      <td>0.0</td>\n      <td>0.0</td>\n      <td>0.0</td>\n      <td>0.0</td>\n      <td>0.0</td>\n    </tr>\n    <tr>\n      <th>84098.0</th>\n      <td>0.0</td>\n      <td>0.0</td>\n      <td>0.0</td>\n      <td>0.0</td>\n      <td>0.0</td>\n      <td>0.0</td>\n    </tr>\n    <tr>\n      <th>84114.0</th>\n      <td>0.0</td>\n      <td>0.0</td>\n      <td>0.0</td>\n      <td>0.0</td>\n      <td>0.0</td>\n      <td>0.0</td>\n    </tr>\n  </tbody>\n</table>\n<p>69 rows × 6 columns</p>\n</div>",
      "text/plain": "         f_0_AimOnEnemy_0  f_0_AimOnEnemy_1  f_0_AimOnEnemy_2  \\\nTick                                                            \n83026.0               0.0               0.0               0.0   \n83042.0               0.0               0.0               0.0   \n83058.0               0.0               0.0               0.0   \n83074.0               0.0               0.0               0.0   \n83090.0               0.0               0.0               0.0   \n...                   ...               ...               ...   \n84050.0               0.0               0.0               0.0   \n84066.0               0.0               0.0               0.0   \n84082.0               0.0               0.0               0.0   \n84098.0               0.0               0.0               0.0   \n84114.0               0.0               0.0               0.0   \n\n         f_0_AimOnEnemy_3  f_0_AimOnEnemy_4  f_0_IsAlive  \nTick                                                      \n83026.0               0.0               0.0          1.0  \n83042.0               0.0               0.0          1.0  \n83058.0               0.0               0.0          1.0  \n83074.0               0.0               0.0          1.0  \n83090.0               0.0               0.0          1.0  \n...                   ...               ...          ...  \n84050.0               0.0               0.0          0.0  \n84066.0               0.0               0.0          0.0  \n84082.0               0.0               0.0          0.0  \n84098.0               0.0               0.0          0.0  \n84114.0               0.0               0.0          0.0  \n\n[69 rows x 6 columns]"
     },
     "execution_count": 28,
     "metadata": {},
     "output_type": "execute_result"
    }
   ],
   "source": [
    "all_aim_columns = [data_loader.get_feature_column_names(f'AimOnEnemy_{i}')[player] for i in range(5)]\n",
    "all_aim_columns.append(data_loader.get_isAlive_column_names()[player])\n",
    "print(all_aim_columns)\n",
    "#prep.isnull().values.any()\n",
    "#prep.loc[tick-100:tick+100,all_aim_columns]\n",
    "prep.loc[tick-500:tick+100,all_aim_columns]"
   ]
  },
  {
   "cell_type": "code",
   "execution_count": null,
   "metadata": {},
   "outputs": [],
   "source": []
  },
  {
   "cell_type": "code",
   "execution_count": null,
   "metadata": {},
   "outputs": [],
   "source": []
  }
 ]
}