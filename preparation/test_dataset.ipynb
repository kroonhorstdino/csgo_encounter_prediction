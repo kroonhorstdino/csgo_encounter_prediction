{
 "nbformat": 4,
 "nbformat_minor": 2,
 "metadata": {
  "language_info": {
   "name": "python",
   "codemirror_mode": {
    "name": "ipython",
    "version": 3
   },
   "version": "3.6.8"
  },
  "orig_nbformat": 2,
  "file_extension": ".py",
  "mimetype": "text/x-python",
  "name": "python",
  "npconvert_exporter": "python",
  "pygments_lexer": "ipython3",
  "version": 3
 },
 "cells": [
  {
   "cell_type": "code",
   "execution_count": 1,
   "metadata": {},
   "outputs": [
    {
     "name": "stdout",
     "output_type": "stream",
     "text": "Loading JSON file config/dataset_config.json\nLoading JSON file config/features_info.json\nLoading JSON file config/item_definition_index_map.json\nLoading JSON file config/features_info.json\n"
    }
   ],
   "source": [
    "import sys\n",
    "\n",
    "import pandas as pd\n",
    "import numpy as np\n",
    "from pathlib import Path\n",
    "\n",
    "sys.path.insert(0, str(Path.cwd() / 'preparation/'))\n",
    "\n",
    "import data_loader\n",
    "import preprocess"
   ]
  },
  {
   "cell_type": "code",
   "execution_count": 6,
   "metadata": {},
   "outputs": [
    {
     "name": "stdout",
     "output_type": "stream",
     "text": "../../csgo_dataset/parsed_files/renegades-vs-fnatic-m3-inferno.csv\n/home/hueter/csgo_dataset/processed_files/astralis-vs-cloud9-nuke.feather\n"
    }
   ],
   "source": [
    "hdf_file = '/home/hueter/csgo_dataset/processed_files/astralis-vs-cloud9-nuke.feather'\n",
    "#csv_file = data_loader.get_files_in_directory('../../csgo_dataset/parsed_files', '.csv')[0]\n",
    "csv_file = '../../csgo_dataset/parsed_files/renegades-vs-fnatic-m3-inferno.csv'\n",
    "#sample_file = data_loader.load_h5_as_df(file_name, False)\n",
    "\n",
    "print(csv_file)\n",
    "print(hdf_file)"
   ]
  },
  {
   "cell_type": "code",
   "execution_count": 8,
   "metadata": {},
   "outputs": [],
   "source": [
    "prep = data_loader.load_h5_as_df(hdf_file, False)"
   ]
  },
  {
   "cell_type": "code",
   "execution_count": 5,
   "metadata": {},
   "outputs": [
    {
     "name": "stdout",
     "output_type": "stream",
     "text": "[{'id': 'Weapon_1', 'title': 'Weapon_1', 'type': 'float32'}, {'id': 'Weapon_2', 'title': 'Weapon_2', 'type': 'float32'}, {'id': 'Weapon_3', 'title': 'Weapon_3', 'type': 'float32'}, {'id': 'Weapon_4', 'title': 'Weapon_4', 'type': 'float32'}, {'id': 'Weapon_7', 'title': 'Weapon_7', 'type': 'float32'}, {'id': 'Weapon_8', 'title': 'Weapon_8', 'type': 'float32'}, {'id': 'Weapon_9', 'title': 'Weapon_9', 'type': 'float32'}, {'id': 'Weapon_10', 'title': 'Weapon_10', 'type': 'float32'}, {'id': 'Weapon_11', 'title': 'Weapon_11', 'type': 'float32'}, {'id': 'Weapon_13', 'title': 'Weapon_13', 'type': 'float32'}, {'id': 'Weapon_14', 'title': 'Weapon_14', 'type': 'float32'}, {'id': 'Weapon_16', 'title': 'Weapon_16', 'type': 'float32'}, {'id': 'Weapon_17', 'title': 'Weapon_17', 'type': 'float32'}, {'id': 'Weapon_19', 'title': 'Weapon_19', 'type': 'float32'}, {'id': 'Weapon_23', 'title': 'Weapon_23', 'type': 'float32'}, {'id': 'Weapon_24', 'title': 'Weapon_24', 'type': 'float32'}, {'id': 'Weapon_25', 'title': 'Weapon_25', 'type': 'float32'}, {'id': 'Weapon_26', 'title': 'Weapon_26', 'type': 'float32'}, {'id': 'Weapon_27', 'title': 'Weapon_27', 'type': 'float32'}, {'id': 'Weapon_28', 'title': 'Weapon_28', 'type': 'float32'}, {'id': 'Weapon_29', 'title': 'Weapon_29', 'type': 'float32'}, {'id': 'Weapon_30', 'title': 'Weapon_30', 'type': 'float32'}, {'id': 'Weapon_31', 'title': 'Weapon_31', 'type': 'float32'}, {'id': 'Weapon_32', 'title': 'Weapon_32', 'type': 'float32'}, {'id': 'Weapon_33', 'title': 'Weapon_33', 'type': 'float32'}, {'id': 'Weapon_34', 'title': 'Weapon_34', 'type': 'float32'}, {'id': 'Weapon_35', 'title': 'Weapon_35', 'type': 'float32'}, {'id': 'Weapon_36', 'title': 'Weapon_36', 'type': 'float32'}, {'id': 'Weapon_38', 'title': 'Weapon_38', 'type': 'float32'}, {'id': 'Weapon_39', 'title': 'Weapon_39', 'type': 'float32'}, {'id': 'Weapon_40', 'title': 'Weapon_40', 'type': 'float32'}, {'id': 'Weapon_42', 'title': 'Weapon_42', 'type': 'float32'}, {'id': 'Weapon_43', 'title': 'Weapon_43', 'type': 'float32'}, {'id': 'Weapon_44', 'title': 'Weapon_44', 'type': 'float32'}, {'id': 'Weapon_45', 'title': 'Weapon_45', 'type': 'float32'}, {'id': 'Weapon_46', 'title': 'Weapon_46', 'type': 'float32'}, {'id': 'Weapon_47', 'title': 'Weapon_47', 'type': 'float32'}, {'id': 'Weapon_48', 'title': 'Weapon_48', 'type': 'float32'}, {'id': 'Weapon_49', 'title': 'Weapon_49', 'type': 'float32'}, {'id': 'Weapon_60', 'title': 'Weapon_60', 'type': 'float32'}, {'id': 'Weapon_61', 'title': 'Weapon_61', 'type': 'float32'}, {'id': 'Weapon_63', 'title': 'Weapon_63', 'type': 'float32'}, {'id': 'Weapon_64', 'title': 'Weapon_64', 'type': 'float32'}]\n43\n"
    }
   ],
   "source": [
    "res = map(lambda name: name.replace('f_0_',''),filter(lambda a: a.startswith('f_0'),data_loader.get_one_hot_encoded_weapon_feature_names()))\n",
    "\n",
    "obj_arr = []\n",
    "for name in list(res):\n",
    "    obj_arr.append({\n",
    "        \"id\": name,\n",
    "        \"title\": name[:1].upper() + name[1:],\n",
    "        \"type\": \"float32\"\n",
    "    })\n",
    "\n",
    "print(obj_arr)\n",
    "print(len(obj_arr))"
   ]
  },
  {
   "cell_type": "code",
   "execution_count": 11,
   "metadata": {},
   "outputs": [
    {
     "data": {
      "text/plain": "Float64Index([  3447.0,   3463.0,   3479.0,   3495.0,   3511.0,   3527.0,\n                3543.0,   3559.0,   3575.0,   3591.0,\n              ...\n              273331.0, 273347.0, 273363.0, 273379.0, 273395.0, 273411.0,\n              273427.0, 273443.0, 273459.0, 273475.0],\n             dtype='float64', name='Tick', length=9999)"
     },
     "execution_count": 11,
     "metadata": {},
     "output_type": "execute_result"
    }
   ],
   "source": [
    "prep.index.values"
   ]
  },
  {
   "cell_type": "code",
   "execution_count": 7,
   "metadata": {},
   "outputs": [
    {
     "data": {
      "text/plain": "Index(['f_0_AimOnEnemy_0', 'f_1_AimOnEnemy_0', 'f_2_AimOnEnemy_0',\n       'f_3_AimOnEnemy_0', 'f_4_AimOnEnemy_0', 'f_5_AimOnEnemy_0',\n       'f_6_AimOnEnemy_0', 'f_7_AimOnEnemy_0', 'f_8_AimOnEnemy_0',\n       'f_9_AimOnEnemy_0', 'l_0_die_within_5_seconds',\n       'l_1_die_within_5_seconds', 'l_2_die_within_5_seconds',\n       'l_3_die_within_5_seconds', 'l_4_die_within_5_seconds',\n       'l_5_die_within_5_seconds', 'l_6_die_within_5_seconds',\n       'l_7_die_within_5_seconds', 'l_8_die_within_5_seconds',\n       'l_9_die_within_5_seconds'],\n      dtype='object')"
     },
     "execution_count": 7,
     "metadata": {},
     "output_type": "execute_result"
    }
   ],
   "source": [
    "prep[data_loader.get_feature_column_names('AimOnEnemy_0') + data_loader.get_die_within_seconds_column_names()].columns"
   ]
  },
  {
   "cell_type": "code",
   "execution_count": 8,
   "metadata": {},
   "outputs": [],
   "source": [
    "tick = 10330.0\t\n",
    "player = 9\n",
    "target_player = 6"
   ]
  },
  {
   "cell_type": "code",
   "execution_count": 9,
   "metadata": {},
   "outputs": [],
   "source": [
    "#prep.loc[tick-50:tick+50,data_loader.get_isAlive_column_names()]"
   ]
  },
  {
   "cell_type": "code",
   "execution_count": 10,
   "metadata": {},
   "outputs": [
    {
     "data": {
      "text/html": "<div>\n<style scoped>\n    .dataframe tbody tr th:only-of-type {\n        vertical-align: middle;\n    }\n\n    .dataframe tbody tr th {\n        vertical-align: top;\n    }\n\n    .dataframe thead th {\n        text-align: right;\n    }\n</style>\n<table border=\"1\" class=\"dataframe\">\n  <thead>\n    <tr style=\"text-align: right;\">\n      <th></th>\n      <th>f_9_AimOnEnemy_0</th>\n      <th>f_9_AimOnEnemy_1</th>\n      <th>f_9_AimOnEnemy_2</th>\n      <th>f_9_AimOnEnemy_3</th>\n      <th>f_9_AimOnEnemy_4</th>\n    </tr>\n    <tr>\n      <th>Tick</th>\n      <th></th>\n      <th></th>\n      <th></th>\n      <th></th>\n      <th></th>\n    </tr>\n  </thead>\n  <tbody>\n    <tr>\n      <th>10234.0</th>\n      <td>0.0</td>\n      <td>0.0</td>\n      <td>0.0</td>\n      <td>0.0</td>\n      <td>0.0</td>\n    </tr>\n    <tr>\n      <th>10250.0</th>\n      <td>0.0</td>\n      <td>0.0</td>\n      <td>0.0</td>\n      <td>0.0</td>\n      <td>0.0</td>\n    </tr>\n    <tr>\n      <th>10266.0</th>\n      <td>0.0</td>\n      <td>0.0</td>\n      <td>0.0</td>\n      <td>0.0</td>\n      <td>0.0</td>\n    </tr>\n    <tr>\n      <th>10282.0</th>\n      <td>0.0</td>\n      <td>0.0</td>\n      <td>0.0</td>\n      <td>0.0</td>\n      <td>0.0</td>\n    </tr>\n    <tr>\n      <th>10298.0</th>\n      <td>0.0</td>\n      <td>0.0</td>\n      <td>0.0</td>\n      <td>0.0</td>\n      <td>0.0</td>\n    </tr>\n    <tr>\n      <th>10314.0</th>\n      <td>0.0</td>\n      <td>0.0</td>\n      <td>0.0</td>\n      <td>0.0</td>\n      <td>0.0</td>\n    </tr>\n    <tr>\n      <th>10330.0</th>\n      <td>0.0</td>\n      <td>0.0</td>\n      <td>0.0</td>\n      <td>0.0</td>\n      <td>0.0</td>\n    </tr>\n    <tr>\n      <th>10346.0</th>\n      <td>0.0</td>\n      <td>0.0</td>\n      <td>0.0</td>\n      <td>0.0</td>\n      <td>0.0</td>\n    </tr>\n    <tr>\n      <th>10362.0</th>\n      <td>0.0</td>\n      <td>0.0</td>\n      <td>0.0</td>\n      <td>0.0</td>\n      <td>1.0</td>\n    </tr>\n    <tr>\n      <th>10378.0</th>\n      <td>0.0</td>\n      <td>0.0</td>\n      <td>0.0</td>\n      <td>0.0</td>\n      <td>1.0</td>\n    </tr>\n    <tr>\n      <th>10394.0</th>\n      <td>0.0</td>\n      <td>0.0</td>\n      <td>0.0</td>\n      <td>0.0</td>\n      <td>1.0</td>\n    </tr>\n    <tr>\n      <th>10410.0</th>\n      <td>0.0</td>\n      <td>0.0</td>\n      <td>0.0</td>\n      <td>1.0</td>\n      <td>1.0</td>\n    </tr>\n    <tr>\n      <th>10426.0</th>\n      <td>0.0</td>\n      <td>0.0</td>\n      <td>0.0</td>\n      <td>1.0</td>\n      <td>1.0</td>\n    </tr>\n  </tbody>\n</table>\n</div>",
      "text/plain": "         f_9_AimOnEnemy_0  f_9_AimOnEnemy_1  f_9_AimOnEnemy_2  \\\nTick                                                            \n10234.0               0.0               0.0               0.0   \n10250.0               0.0               0.0               0.0   \n10266.0               0.0               0.0               0.0   \n10282.0               0.0               0.0               0.0   \n10298.0               0.0               0.0               0.0   \n10314.0               0.0               0.0               0.0   \n10330.0               0.0               0.0               0.0   \n10346.0               0.0               0.0               0.0   \n10362.0               0.0               0.0               0.0   \n10378.0               0.0               0.0               0.0   \n10394.0               0.0               0.0               0.0   \n10410.0               0.0               0.0               0.0   \n10426.0               0.0               0.0               0.0   \n\n         f_9_AimOnEnemy_3  f_9_AimOnEnemy_4  \nTick                                         \n10234.0               0.0               0.0  \n10250.0               0.0               0.0  \n10266.0               0.0               0.0  \n10282.0               0.0               0.0  \n10298.0               0.0               0.0  \n10314.0               0.0               0.0  \n10330.0               0.0               0.0  \n10346.0               0.0               0.0  \n10362.0               0.0               1.0  \n10378.0               0.0               1.0  \n10394.0               0.0               1.0  \n10410.0               1.0               1.0  \n10426.0               1.0               1.0  "
     },
     "execution_count": 10,
     "metadata": {},
     "output_type": "execute_result"
    }
   ],
   "source": [
    "all_aim_columns = [data_loader.get_feature_column_names(f'AimOnEnemy_{i}')[player] for i in range(5)]\n",
    "#prep.isnull().values.any()\n",
    "#prep.loc[tick-100:tick+100,all_aim_columns]\n",
    "prep.loc[tick-100:tick+100,all_aim_columns]"
   ]
  },
  {
   "cell_type": "code",
   "execution_count": 11,
   "metadata": {},
   "outputs": [
    {
     "data": {
      "text/plain": "f_0_AimOnEnemy_0    0.0\nf_1_AimOnEnemy_0    0.0\nf_2_AimOnEnemy_0    0.0\nf_3_AimOnEnemy_0    1.0\nf_4_AimOnEnemy_0    0.0\nf_5_AimOnEnemy_0    0.0\nf_6_AimOnEnemy_0    0.0\nf_7_AimOnEnemy_0    0.0\nf_8_AimOnEnemy_0    0.0\nf_9_AimOnEnemy_0    0.0\nf_0_AimOnEnemy_1    0.0\nf_1_AimOnEnemy_1    0.0\nf_2_AimOnEnemy_1    0.0\nf_3_AimOnEnemy_1    1.0\nf_4_AimOnEnemy_1    1.0\nf_5_AimOnEnemy_1    0.0\nf_6_AimOnEnemy_1    0.0\nf_7_AimOnEnemy_1    0.0\nf_8_AimOnEnemy_1    0.0\nf_9_AimOnEnemy_1    0.0\nf_0_AimOnEnemy_2    0.0\nf_1_AimOnEnemy_2    0.0\nf_2_AimOnEnemy_2    0.0\nf_3_AimOnEnemy_2    0.0\nf_4_AimOnEnemy_2    0.0\nf_5_AimOnEnemy_2    0.0\nf_6_AimOnEnemy_2    0.0\nf_7_AimOnEnemy_2    0.0\nf_8_AimOnEnemy_2    0.0\nf_9_AimOnEnemy_2    0.0\nf_0_AimOnEnemy_3    0.0\nf_1_AimOnEnemy_3    0.0\nf_2_AimOnEnemy_3    0.0\nf_3_AimOnEnemy_3    0.0\nf_4_AimOnEnemy_3    0.0\nf_5_AimOnEnemy_3    1.0\nf_6_AimOnEnemy_3    1.0\nf_7_AimOnEnemy_3    0.0\nf_8_AimOnEnemy_3    0.0\nf_9_AimOnEnemy_3    0.0\nf_0_AimOnEnemy_4    0.0\nf_1_AimOnEnemy_4    0.0\nf_2_AimOnEnemy_4    0.0\nf_3_AimOnEnemy_4    0.0\nf_4_AimOnEnemy_4    0.0\nf_5_AimOnEnemy_4    0.0\nf_6_AimOnEnemy_4    1.0\nf_7_AimOnEnemy_4    0.0\nf_8_AimOnEnemy_4    0.0\nf_9_AimOnEnemy_4    0.0\nName: 10330.0, dtype: float32"
     },
     "execution_count": 11,
     "metadata": {},
     "output_type": "execute_result"
    }
   ],
   "source": [
    "all_aim_columns = list(np.array([data_loader.get_feature_column_names(f'AimOnEnemy_{i}') for i in range(5)]).flatten())\n",
    "\n",
    "prep.loc[tick,all_aim_columns]"
   ]
  },
  {
   "cell_type": "code",
   "execution_count": 15,
   "metadata": {},
   "outputs": [
    {
     "data": {
      "text/html": "<div>\n<style scoped>\n    .dataframe tbody tr th:only-of-type {\n        vertical-align: middle;\n    }\n\n    .dataframe tbody tr th {\n        vertical-align: top;\n    }\n\n    .dataframe thead th {\n        text-align: right;\n    }\n</style>\n<table border=\"1\" class=\"dataframe\">\n  <thead>\n    <tr style=\"text-align: right;\">\n      <th></th>\n      <th>f_0_Weapon_9</th>\n      <th>f_1_Weapon_9</th>\n      <th>f_2_Weapon_9</th>\n      <th>f_3_Weapon_9</th>\n      <th>f_4_Weapon_9</th>\n      <th>f_5_Weapon_9</th>\n      <th>f_6_Weapon_9</th>\n      <th>f_7_Weapon_9</th>\n      <th>f_8_Weapon_9</th>\n      <th>f_9_Weapon_9</th>\n      <th>f_0_Weapon_42</th>\n      <th>f_1_Weapon_42</th>\n      <th>f_2_Weapon_42</th>\n      <th>f_3_Weapon_42</th>\n      <th>f_4_Weapon_42</th>\n      <th>f_5_Weapon_42</th>\n      <th>f_6_Weapon_42</th>\n      <th>f_7_Weapon_42</th>\n      <th>f_8_Weapon_42</th>\n      <th>f_9_Weapon_42</th>\n    </tr>\n    <tr>\n      <th>Tick</th>\n      <th></th>\n      <th></th>\n      <th></th>\n      <th></th>\n      <th></th>\n      <th></th>\n      <th></th>\n      <th></th>\n      <th></th>\n      <th></th>\n      <th></th>\n      <th></th>\n      <th></th>\n      <th></th>\n      <th></th>\n      <th></th>\n      <th></th>\n      <th></th>\n      <th></th>\n      <th></th>\n    </tr>\n  </thead>\n  <tbody>\n    <tr>\n      <th>99984.0</th>\n      <td>0.0</td>\n      <td>1.0</td>\n      <td>0.0</td>\n      <td>0.0</td>\n      <td>0.0</td>\n      <td>0.0</td>\n      <td>0.0</td>\n      <td>0.0</td>\n      <td>0.0</td>\n      <td>0.0</td>\n      <td>0.0</td>\n      <td>0.0</td>\n      <td>0.0</td>\n      <td>0.0</td>\n      <td>0.0</td>\n      <td>1.0</td>\n      <td>0.0</td>\n      <td>0.0</td>\n      <td>0.0</td>\n      <td>0.0</td>\n    </tr>\n    <tr>\n      <th>100000.0</th>\n      <td>0.0</td>\n      <td>1.0</td>\n      <td>0.0</td>\n      <td>0.0</td>\n      <td>0.0</td>\n      <td>0.0</td>\n      <td>0.0</td>\n      <td>0.0</td>\n      <td>0.0</td>\n      <td>0.0</td>\n      <td>0.0</td>\n      <td>0.0</td>\n      <td>0.0</td>\n      <td>0.0</td>\n      <td>0.0</td>\n      <td>1.0</td>\n      <td>0.0</td>\n      <td>0.0</td>\n      <td>0.0</td>\n      <td>0.0</td>\n    </tr>\n  </tbody>\n</table>\n</div>",
      "text/plain": "          f_0_Weapon_9  f_1_Weapon_9  f_2_Weapon_9  f_3_Weapon_9  \\\nTick                                                               \n99984.0            0.0           1.0           0.0           0.0   \n100000.0           0.0           1.0           0.0           0.0   \n\n          f_4_Weapon_9  f_5_Weapon_9  f_6_Weapon_9  f_7_Weapon_9  \\\nTick                                                               \n99984.0            0.0           0.0           0.0           0.0   \n100000.0           0.0           0.0           0.0           0.0   \n\n          f_8_Weapon_9  f_9_Weapon_9  f_0_Weapon_42  f_1_Weapon_42  \\\nTick                                                                 \n99984.0            0.0           0.0            0.0            0.0   \n100000.0           0.0           0.0            0.0            0.0   \n\n          f_2_Weapon_42  f_3_Weapon_42  f_4_Weapon_42  f_5_Weapon_42  \\\nTick                                                                   \n99984.0             0.0            0.0            0.0            1.0   \n100000.0            0.0            0.0            0.0            1.0   \n\n          f_6_Weapon_42  f_7_Weapon_42  f_8_Weapon_42  f_9_Weapon_42  \nTick                                                                  \n99984.0             0.0            0.0            0.0            0.0  \n100000.0            0.0            0.0            0.0            0.0  "
     },
     "execution_count": 15,
     "metadata": {},
     "output_type": "execute_result"
    }
   ],
   "source": [
    "weapon_clmns = data_loader.get_feature_column_names('Weapon_9') + data_loader.get_feature_column_names('Weapon_42')\n",
    "\n",
    "prep.loc[100000-20:100000,weapon_clmns]"
   ]
  },
  {
   "cell_type": "code",
   "execution_count": null,
   "metadata": {},
   "outputs": [],
   "source": []
  }
 ]
}